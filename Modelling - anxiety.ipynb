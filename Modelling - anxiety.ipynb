{
 "cells": [
  {
   "cell_type": "markdown",
   "id": "176f7e6e",
   "metadata": {},
   "source": [
    "# Modelling - anxiety"
   ]
  },
  {
   "cell_type": "code",
   "execution_count": 1,
   "id": "5922de98",
   "metadata": {},
   "outputs": [],
   "source": [
    "import pandas as pd\n",
    "import numpy as np\n",
    "\n",
    "import matplotlib.pyplot as plt\n",
    "import seaborn as sns\n",
    "\n",
    "from sklearn.model_selection import train_test_split\n",
    "from sklearn.preprocessing import StandardScaler\n",
    "from sklearn.model_selection import cross_val_score\n",
    "from sklearn.model_selection import cross_val_predict\n",
    "\n",
    "from sklearn.linear_model import LogisticRegression\n",
    "from sklearn.neighbors import KNeighborsClassifier\n",
    "from sklearn.tree import DecisionTreeClassifier\n",
    "from sklearn.ensemble import RandomForestClassifier\n",
    "from sklearn.multiclass import OneVsRestClassifier\n",
    "\n",
    "from sklearn.metrics import accuracy_score, precision_score, recall_score, confusion_matrix, classification_report\n",
    "from sklearn.metrics import plot_confusion_matrix\n",
    "from sklearn.tree import plot_tree\n",
    "from sklearn.model_selection import GridSearchCV\n",
    "from imblearn.over_sampling import SMOTE\n",
    "from sklearn.decomposition import PCA\n",
    "from sklearn.metrics import roc_curve, auc\n",
    "from sklearn.metrics import roc_auc_score\n",
    "from sklearn import metrics\n",
    "from sklearn import svm\n",
    "from sklearn.preprocessing import label_binarize\n",
    "from itertools import cycle"
   ]
  },
  {
   "cell_type": "code",
   "execution_count": 2,
   "id": "1d4c05bb",
   "metadata": {},
   "outputs": [],
   "source": [
    "anxiety_data = pd.read_csv(\"anxiety_data.csv\")"
   ]
  },
  {
   "cell_type": "markdown",
   "id": "f8ee25ba",
   "metadata": {},
   "source": [
    "### I will do the first model for anxiety, without balancing. To see how it is."
   ]
  },
  {
   "cell_type": "code",
   "execution_count": 3,
   "id": "80e6b7c4",
   "metadata": {},
   "outputs": [],
   "source": [
    "X_anxiety = anxiety_data.drop(\"severeness_level_anxiety\", axis = 1)\n",
    "y_anxiety = anxiety_data[\"severeness_level_anxiety\"]"
   ]
  },
  {
   "cell_type": "code",
   "execution_count": 4,
   "id": "6b52614a",
   "metadata": {},
   "outputs": [],
   "source": [
    "X_train_anx, X_test_anx, y_train_anx, y_test_anx = train_test_split(X_anxiety, y_anxiety, test_size = 0.20, random_state = 123)"
   ]
  },
  {
   "cell_type": "code",
   "execution_count": 5,
   "id": "9b17d266",
   "metadata": {},
   "outputs": [],
   "source": [
    "# Standardizing the dataframe.\n",
    "\n",
    "std_scaler = StandardScaler().fit(X_train_anx)\n",
    "X_anxiety_train_scaled = std_scaler.transform(X_train_anx)\n",
    "X_anxiety_test_scaled = std_scaler.transform(X_test_anx)"
   ]
  },
  {
   "cell_type": "markdown",
   "id": "b5eac325",
   "metadata": {},
   "source": [
    "#### Logistic regression"
   ]
  },
  {
   "cell_type": "code",
   "execution_count": 6,
   "id": "0de23d13",
   "metadata": {},
   "outputs": [
    {
     "data": {
      "text/html": [
       "<div>\n",
       "<style scoped>\n",
       "    .dataframe tbody tr th:only-of-type {\n",
       "        vertical-align: middle;\n",
       "    }\n",
       "\n",
       "    .dataframe tbody tr th {\n",
       "        vertical-align: top;\n",
       "    }\n",
       "\n",
       "    .dataframe thead th {\n",
       "        text-align: right;\n",
       "    }\n",
       "</style>\n",
       "<table border=\"1\" class=\"dataframe\">\n",
       "  <thead>\n",
       "    <tr style=\"text-align: right;\">\n",
       "      <th></th>\n",
       "      <th>Error_metric</th>\n",
       "      <th>Train</th>\n",
       "      <th>Test</th>\n",
       "    </tr>\n",
       "  </thead>\n",
       "  <tbody>\n",
       "    <tr>\n",
       "      <th>0</th>\n",
       "      <td>Accuracy</td>\n",
       "      <td>0.979470</td>\n",
       "      <td>0.979879</td>\n",
       "    </tr>\n",
       "    <tr>\n",
       "      <th>1</th>\n",
       "      <td>Precision</td>\n",
       "      <td>0.960112</td>\n",
       "      <td>0.959870</td>\n",
       "    </tr>\n",
       "    <tr>\n",
       "      <th>2</th>\n",
       "      <td>Recall</td>\n",
       "      <td>0.703047</td>\n",
       "      <td>0.705341</td>\n",
       "    </tr>\n",
       "  </tbody>\n",
       "</table>\n",
       "</div>"
      ],
      "text/plain": [
       "  Error_metric     Train      Test\n",
       "0     Accuracy  0.979470  0.979879\n",
       "1    Precision  0.960112  0.959870\n",
       "2       Recall  0.703047  0.705341"
      ]
     },
     "metadata": {},
     "output_type": "display_data"
    },
    {
     "name": "stdout",
     "output_type": "stream",
     "text": [
      "Confusion matrix for the train set\n",
      "[[   80   653     0]\n",
      " [    0  4804     0]\n",
      " [    0     0 26270]]\n"
     ]
    },
    {
     "name": "stderr",
     "output_type": "stream",
     "text": [
      "/Users/miumiu/opt/anaconda3/envs/DA_ENV/lib/python3.10/site-packages/sklearn/utils/deprecation.py:87: FutureWarning: Function plot_confusion_matrix is deprecated; Function `plot_confusion_matrix` is deprecated in 1.0 and will be removed in 1.2. Use one of the class methods: ConfusionMatrixDisplay.from_predictions or ConfusionMatrixDisplay.from_estimator.\n",
      "  warnings.warn(msg, category=FutureWarning)\n"
     ]
    },
    {
     "data": {
      "image/png": "[encoded data removed]",
      "text/plain": [
       "<Figure size 432x288 with 2 Axes>"
      ]
     },
     "metadata": {
      "needs_background": "light"
     },
     "output_type": "display_data"
    },
    {
     "name": "stdout",
     "output_type": "stream",
     "text": [
      "\n",
      "\n",
      "Confusion matrix for the test set\n",
      "[[  21  160    0]\n",
      " [   0 1169    0]\n",
      " [   0    0 6602]]\n"
     ]
    },
    {
     "name": "stderr",
     "output_type": "stream",
     "text": [
      "/Users/miumiu/opt/anaconda3/envs/DA_ENV/lib/python3.10/site-packages/sklearn/utils/deprecation.py:87: FutureWarning: Function plot_confusion_matrix is deprecated; Function `plot_confusion_matrix` is deprecated in 1.0 and will be removed in 1.2. Use one of the class methods: ConfusionMatrixDisplay.from_predictions or ConfusionMatrixDisplay.from_estimator.\n",
      "  warnings.warn(msg, category=FutureWarning)\n"
     ]
    },
    {
     "data": {
      "image/png": "[encoded data removed]",
      "text/plain": [
       "<Figure size 432x288 with 2 Axes>"
      ]
     },
     "metadata": {
      "needs_background": "light"
     },
     "output_type": "display_data"
    }
   ],
   "source": [
    "log_model = LogisticRegression(multi_class='ovr', max_iter = 5000) \n",
    "log_model.fit(X_anxiety_train_scaled, y_train_anx)\n",
    "y_pred_train_log_anx = log_model.predict(X_anxiety_train_scaled)\n",
    "y_pred_test_log_anx = log_model.predict(X_anxiety_test_scaled)\n",
    "\n",
    "performance_log_anx = pd.DataFrame({'Error_metric': ['Accuracy','Precision','Recall'],\n",
    "                               'Train': [accuracy_score(y_train_anx, y_pred_train_log_anx),\n",
    "                                         precision_score(y_train_anx, y_pred_train_log_anx, average = \"macro\"),\n",
    "                                         recall_score(y_train_anx, y_pred_train_log_anx, average = \"macro\")],\n",
    "                               'Test': [accuracy_score(y_test_anx, y_pred_test_log_anx),\n",
    "                                        precision_score(y_test_anx, y_pred_test_log_anx, average = \"macro\"),\n",
    "                                        recall_score(y_test_anx, y_pred_test_log_anx, average = \"macro\")]})\n",
    "\n",
    "display(performance_log_anx)\n",
    "\n",
    "print(\"Confusion matrix for the train set\")\n",
    "print(confusion_matrix(y_train_anx,y_pred_train_log_anx))\n",
    "plot_confusion_matrix(log_model,X_anxiety_train_scaled,y_train_anx, values_format = 'd')\n",
    "plt.show()\n",
    "\n",
    "print()\n",
    "print()\n",
    "\n",
    "print(\"Confusion matrix for the test set\")\n",
    "print(confusion_matrix(y_test_anx, y_pred_test_log_anx))\n",
    "plot_confusion_matrix(log_model,X_anxiety_test_scaled,y_test_anx, values_format = 'd')\n",
    "plt.show()"
   ]
  },
  {
   "cell_type": "markdown",
   "id": "201b59a8",
   "metadata": {},
   "source": [
    "#### KNN"
   ]
  },
  {
   "cell_type": "code",
   "execution_count": 7,
   "id": "7dd579d6",
   "metadata": {},
   "outputs": [
    {
     "data": {
      "text/html": [
       "<div>\n",
       "<style scoped>\n",
       "    .dataframe tbody tr th:only-of-type {\n",
       "        vertical-align: middle;\n",
       "    }\n",
       "\n",
       "    .dataframe tbody tr th {\n",
       "        vertical-align: top;\n",
       "    }\n",
       "\n",
       "    .dataframe thead th {\n",
       "        text-align: right;\n",
       "    }\n",
       "</style>\n",
       "<table border=\"1\" class=\"dataframe\">\n",
       "  <thead>\n",
       "    <tr style=\"text-align: right;\">\n",
       "      <th></th>\n",
       "      <th>Error_metric</th>\n",
       "      <th>Train</th>\n",
       "      <th>Test</th>\n",
       "    </tr>\n",
       "  </thead>\n",
       "  <tbody>\n",
       "    <tr>\n",
       "      <th>0</th>\n",
       "      <td>Accuracy</td>\n",
       "      <td>0.930141</td>\n",
       "      <td>0.899019</td>\n",
       "    </tr>\n",
       "    <tr>\n",
       "      <th>1</th>\n",
       "      <td>Precision</td>\n",
       "      <td>0.755982</td>\n",
       "      <td>0.676278</td>\n",
       "    </tr>\n",
       "    <tr>\n",
       "      <th>2</th>\n",
       "      <td>Recall</td>\n",
       "      <td>0.838495</td>\n",
       "      <td>0.764738</td>\n",
       "    </tr>\n",
       "  </tbody>\n",
       "</table>\n",
       "</div>"
      ],
      "text/plain": [
       "  Error_metric     Train      Test\n",
       "0     Accuracy  0.930141  0.899019\n",
       "1    Precision  0.755982  0.676278\n",
       "2       Recall  0.838495  0.764738"
      ]
     },
     "metadata": {},
     "output_type": "display_data"
    },
    {
     "name": "stdout",
     "output_type": "stream",
     "text": [
      "Confusion matrix for the train set\n",
      "[[  493   240     0]\n",
      " [  378  4324   102]\n",
      " [   13  1489 24768]]\n"
     ]
    },
    {
     "name": "stderr",
     "output_type": "stream",
     "text": [
      "/Users/miumiu/opt/anaconda3/envs/DA_ENV/lib/python3.10/site-packages/sklearn/utils/deprecation.py:87: FutureWarning: Function plot_confusion_matrix is deprecated; Function `plot_confusion_matrix` is deprecated in 1.0 and will be removed in 1.2. Use one of the class methods: ConfusionMatrixDisplay.from_predictions or ConfusionMatrixDisplay.from_estimator.\n",
      "  warnings.warn(msg, category=FutureWarning)\n"
     ]
    },
    {
     "data": {
      "image/png": "[encoded data removed]",
      "text/plain": [
       "<Figure size 432x288 with 2 Axes>"
      ]
     },
     "metadata": {
      "needs_background": "light"
     },
     "output_type": "display_data"
    },
    {
     "name": "stdout",
     "output_type": "stream",
     "text": [
      "\n",
      "\n",
      "Confusion matrix for the test set\n",
      "[[  96   85    0]\n",
      " [ 129  988   52]\n",
      " [   2  535 6065]]\n"
     ]
    },
    {
     "name": "stderr",
     "output_type": "stream",
     "text": [
      "/Users/miumiu/opt/anaconda3/envs/DA_ENV/lib/python3.10/site-packages/sklearn/utils/deprecation.py:87: FutureWarning: Function plot_confusion_matrix is deprecated; Function `plot_confusion_matrix` is deprecated in 1.0 and will be removed in 1.2. Use one of the class methods: ConfusionMatrixDisplay.from_predictions or ConfusionMatrixDisplay.from_estimator.\n",
      "  warnings.warn(msg, category=FutureWarning)\n"
     ]
    },
    {
     "data": {
      "image/png": "[encoded data removed]",
      "text/plain": [
       "<Figure size 432x288 with 2 Axes>"
      ]
     },
     "metadata": {
      "needs_background": "light"
     },
     "output_type": "display_data"
    }
   ],
   "source": [
    "knn_model = KNeighborsClassifier(n_neighbors=6)\n",
    "knn_model.fit(X_anxiety_train_scaled, y_train_anx)\n",
    "y_pred_train_log_anx = knn_model.predict(X_anxiety_train_scaled)\n",
    "y_pred_test_log_anx = knn_model.predict(X_anxiety_test_scaled)\n",
    "\n",
    "performance_log_anx = pd.DataFrame({'Error_metric': ['Accuracy','Precision','Recall'],\n",
    "                               'Train': [accuracy_score(y_train_anx, y_pred_train_log_anx),\n",
    "                                         precision_score(y_train_anx, y_pred_train_log_anx, average = \"macro\"),\n",
    "                                         recall_score(y_train_anx, y_pred_train_log_anx, average = \"macro\")],\n",
    "                               'Test': [accuracy_score(y_test_anx, y_pred_test_log_anx),\n",
    "                                        precision_score(y_test_anx, y_pred_test_log_anx, average = \"macro\"),\n",
    "                                        recall_score(y_test_anx, y_pred_test_log_anx, average = \"macro\")]})\n",
    "\n",
    "display(performance_log_anx)\n",
    "\n",
    "print(\"Confusion matrix for the train set\")\n",
    "print(confusion_matrix(y_train_anx,y_pred_train_log_anx))\n",
    "plot_confusion_matrix(knn_model,X_anxiety_train_scaled,y_train_anx, values_format = 'd')\n",
    "plt.show()\n",
    "\n",
    "print()\n",
    "print()\n",
    "\n",
    "print(\"Confusion matrix for the test set\")\n",
    "print(confusion_matrix(y_test_anx, y_pred_test_log_anx))\n",
    "plot_confusion_matrix(knn_model,X_anxiety_test_scaled,y_test_anx, values_format = 'd')\n",
    "plt.show()"
   ]
  },
  {
   "cell_type": "markdown",
   "id": "b80480c0",
   "metadata": {},
   "source": [
    "#### Decision tree"
   ]
  },
  {
   "cell_type": "code",
   "execution_count": 8,
   "id": "d570bd6b",
   "metadata": {},
   "outputs": [
    {
     "name": "stderr",
     "output_type": "stream",
     "text": [
      "/Users/miumiu/opt/anaconda3/envs/DA_ENV/lib/python3.10/site-packages/sklearn/metrics/_classification.py:1318: UndefinedMetricWarning: Precision is ill-defined and being set to 0.0 in labels with no predicted samples. Use `zero_division` parameter to control this behavior.\n",
      "  _warn_prf(average, modifier, msg_start, len(result))\n",
      "/Users/miumiu/opt/anaconda3/envs/DA_ENV/lib/python3.10/site-packages/sklearn/metrics/_classification.py:1318: UndefinedMetricWarning: Precision is ill-defined and being set to 0.0 in labels with no predicted samples. Use `zero_division` parameter to control this behavior.\n",
      "  _warn_prf(average, modifier, msg_start, len(result))\n"
     ]
    },
    {
     "data": {
      "text/html": [
       "<div>\n",
       "<style scoped>\n",
       "    .dataframe tbody tr th:only-of-type {\n",
       "        vertical-align: middle;\n",
       "    }\n",
       "\n",
       "    .dataframe tbody tr th {\n",
       "        vertical-align: top;\n",
       "    }\n",
       "\n",
       "    .dataframe thead th {\n",
       "        text-align: right;\n",
       "    }\n",
       "</style>\n",
       "<table border=\"1\" class=\"dataframe\">\n",
       "  <thead>\n",
       "    <tr style=\"text-align: right;\">\n",
       "      <th></th>\n",
       "      <th>Error_metric</th>\n",
       "      <th>Train</th>\n",
       "      <th>Test</th>\n",
       "    </tr>\n",
       "  </thead>\n",
       "  <tbody>\n",
       "    <tr>\n",
       "      <th>0</th>\n",
       "      <td>Accuracy</td>\n",
       "      <td>0.891816</td>\n",
       "      <td>0.893989</td>\n",
       "    </tr>\n",
       "    <tr>\n",
       "      <th>1</th>\n",
       "      <td>Precision</td>\n",
       "      <td>0.523336</td>\n",
       "      <td>0.523036</td>\n",
       "    </tr>\n",
       "    <tr>\n",
       "      <th>2</th>\n",
       "      <td>Recall</td>\n",
       "      <td>0.575608</td>\n",
       "      <td>0.579741</td>\n",
       "    </tr>\n",
       "  </tbody>\n",
       "</table>\n",
       "</div>"
      ],
      "text/plain": [
       "  Error_metric     Train      Test\n",
       "0     Accuracy  0.891816  0.893989\n",
       "1    Precision  0.523336  0.523036\n",
       "2       Recall  0.575608  0.579741"
      ]
     },
     "metadata": {},
     "output_type": "display_data"
    },
    {
     "name": "stdout",
     "output_type": "stream",
     "text": [
      "Confusion matrix for the train set\n",
      "[[    0     0     0]\n",
      " [  733  3804  1708]\n",
      " [    0  1000 24562]]\n"
     ]
    },
    {
     "name": "stderr",
     "output_type": "stream",
     "text": [
      "/Users/miumiu/opt/anaconda3/envs/DA_ENV/lib/python3.10/site-packages/sklearn/utils/deprecation.py:87: FutureWarning: Function plot_confusion_matrix is deprecated; Function `plot_confusion_matrix` is deprecated in 1.0 and will be removed in 1.2. Use one of the class methods: ConfusionMatrixDisplay.from_predictions or ConfusionMatrixDisplay.from_estimator.\n",
      "  warnings.warn(msg, category=FutureWarning)\n"
     ]
    },
    {
     "data": {
      "image/png": "[encoded data removed]",
      "text/plain": [
       "<Figure size 432x288 with 2 Axes>"
      ]
     },
     "metadata": {
      "needs_background": "light"
     },
     "output_type": "display_data"
    },
    {
     "name": "stderr",
     "output_type": "stream",
     "text": [
      "/Users/miumiu/opt/anaconda3/envs/DA_ENV/lib/python3.10/site-packages/sklearn/utils/deprecation.py:87: FutureWarning: Function plot_confusion_matrix is deprecated; Function `plot_confusion_matrix` is deprecated in 1.0 and will be removed in 1.2. Use one of the class methods: ConfusionMatrixDisplay.from_predictions or ConfusionMatrixDisplay.from_estimator.\n",
      "  warnings.warn(msg, category=FutureWarning)\n"
     ]
    },
    {
     "name": "stdout",
     "output_type": "stream",
     "text": [
      "\n",
      "\n",
      "Confusion matrix for the test set\n",
      "[[   0    0    0]\n",
      " [ 181  941  434]\n",
      " [   0  228 6168]]\n"
     ]
    },
    {
     "data": {
      "image/png": "[encoded data removed]",
      "text/plain": [
       "<Figure size 432x288 with 2 Axes>"
      ]
     },
     "metadata": {
      "needs_background": "light"
     },
     "output_type": "display_data"
    }
   ],
   "source": [
    "dt = DecisionTreeClassifier(max_depth=4)\n",
    "\n",
    "dt.fit(X_train_anx, y_train_anx)\n",
    "\n",
    "y_pred_train_dt_anx = dt.predict(X_train_anx)\n",
    "y_pred_test_dt_anx = dt.predict(X_test_anx)\n",
    "\n",
    "\n",
    "performance_df_anx = pd.DataFrame({'Error_metric': ['Accuracy','Precision','Recall'],\n",
    "                               'Train': [accuracy_score(y_train_anx, y_pred_train_dt_anx),\n",
    "                                         precision_score(y_train_anx, y_pred_train_dt_anx, average = \"macro\"),\n",
    "                                         recall_score(y_train_anx, y_pred_train_dt_anx, average = \"macro\")],\n",
    "                               'Test': [accuracy_score(y_test_anx, y_pred_test_dt_anx),\n",
    "                                        precision_score(y_test_anx, y_pred_test_dt_anx, average = \"macro\"),\n",
    "                                        recall_score(y_test_anx, y_pred_test_dt_anx, average = \"macro\")]})\n",
    "\n",
    "display(performance_df_anx)\n",
    "\n",
    "print(\"Confusion matrix for the train set\")\n",
    "print(confusion_matrix(y_train_anx,y_pred_train_dt_anx).T)\n",
    "plot_confusion_matrix(dt,X_train_anx,y_train_anx, values_format = 'd')\n",
    "plt.show()\n",
    "\n",
    "print()\n",
    "print()\n",
    "\n",
    "print(\"Confusion matrix for the test set\")\n",
    "print(confusion_matrix(y_test_anx,y_pred_test_dt_anx).T)\n",
    "plot_confusion_matrix(dt,X_test_anx,y_test_anx, values_format = 'd')\n",
    "plt.show()"
   ]
  },
  {
   "cell_type": "code",
   "execution_count": 9,
   "id": "ad66dc8d",
   "metadata": {},
   "outputs": [
    {
     "data": {
      "image/png": "[encoded data removed]",
      "text/plain": [
       "<Figure size 2448x1440 with 1 Axes>"
      ]
     },
     "metadata": {
      "needs_background": "light"
     },
     "output_type": "display_data"
    }
   ],
   "source": [
    "fig, axes = plt.subplots(nrows = 1,ncols = 1,figsize = (34,20))\n",
    "\n",
    "plot_tree(dt,filled = True, rounded=True,feature_names=X_anxiety.columns)\n",
    "plt.show()"
   ]
  },
  {
   "cell_type": "markdown",
   "id": "a0309d9c",
   "metadata": {},
   "source": [
    "#### Random forest"
   ]
  },
  {
   "cell_type": "code",
   "execution_count": 10,
   "id": "8702c451",
   "metadata": {},
   "outputs": [
    {
     "name": "stdout",
     "output_type": "stream",
     "text": [
      "0.8931996101487094\n",
      "0.8983903420523138\n"
     ]
    }
   ],
   "source": [
    "# Applying the random forest.\n",
    "# max_features=\"sqrt\" - this didn't change the final scores.\n",
    "# Max_depth - less in better, if I have higher nr the scores are more than 90, maybe too good?\n",
    "# Nr of estimators - tried with 30, 20, 50, 40 - scores didn't change at all.\n",
    "\n",
    "clf = RandomForestClassifier(max_depth=3, n_estimators=50, random_state=0, bootstrap=True, oob_score=True)\n",
    "clf.fit(X_train_anx, y_train_anx)\n",
    "print(clf.score(X_train_anx, y_train_anx))\n",
    "print(clf.score(X_test_anx, y_test_anx))"
   ]
  },
  {
   "cell_type": "code",
   "execution_count": 11,
   "id": "8aa1c04d",
   "metadata": {},
   "outputs": [
    {
     "data": {
      "text/plain": [
       "array([0.90993398, 0.90961962, 0.90583242, 0.9152649 , 0.90834774])"
      ]
     },
     "execution_count": 11,
     "metadata": {},
     "output_type": "execute_result"
    }
   ],
   "source": [
    "# Cross validation, accuracy scores.\n",
    "\n",
    "clf = RandomForestClassifier(max_depth=4, n_estimators=30, random_state=0)\n",
    "cross_val_scores_anx = cross_val_score(clf, X_train_anx, y_train_anx, cv=5)\n",
    "cross_val_scores_anx"
   ]
  },
  {
   "cell_type": "code",
   "execution_count": 12,
   "id": "a28113d8",
   "metadata": {},
   "outputs": [
    {
     "data": {
      "text/plain": [
       "0.9097997310611697"
      ]
     },
     "execution_count": 12,
     "metadata": {},
     "output_type": "execute_result"
    }
   ],
   "source": [
    "np.mean(cross_val_scores_anx)"
   ]
  },
  {
   "cell_type": "markdown",
   "id": "7a3e00c7",
   "metadata": {},
   "source": [
    "### Solving the imbalancement for anxiety"
   ]
  },
  {
   "cell_type": "code",
   "execution_count": 13,
   "id": "dd0c4eaa",
   "metadata": {},
   "outputs": [
    {
     "data": {
      "text/plain": [
       "3    32872\n",
       "2     5973\n",
       "1      914\n",
       "Name: severeness_level_anxiety, dtype: int64"
      ]
     },
     "execution_count": 13,
     "metadata": {},
     "output_type": "execute_result"
    }
   ],
   "source": [
    "# Checking the imbalance\n",
    "# Classes: 1 (moderate), 2 (severe), 3 (extremely severe)\n",
    "\n",
    "y_anxiety.value_counts()"
   ]
  },
  {
   "cell_type": "code",
   "execution_count": 14,
   "id": "b846602f",
   "metadata": {},
   "outputs": [],
   "source": [
    "# As the imbalance is very big, \n",
    "# I will downsample class 3 and upsample class 1.\n",
    "\n",
    "class_1_anx = anxiety_data[anxiety_data[\"severeness_level_anxiety\"] == 1]\n",
    "class_2_anx = anxiety_data[anxiety_data[\"severeness_level_anxiety\"] == 2]\n",
    "class_3_anx = anxiety_data[anxiety_data[\"severeness_level_anxiety\"] == 3]"
   ]
  },
  {
   "cell_type": "code",
   "execution_count": 15,
   "id": "141df9ab",
   "metadata": {},
   "outputs": [],
   "source": [
    "class_3_anx_down = class_3_anx.sample(len(class_2_anx,))\n",
    "class_1_anx_up = class_1_anx.sample(len(class_2_anx), replace=True)"
   ]
  },
  {
   "cell_type": "code",
   "execution_count": 16,
   "id": "31e9d571",
   "metadata": {},
   "outputs": [
    {
     "data": {
      "text/plain": [
       "2    5973\n",
       "1    5973\n",
       "3    5973\n",
       "Name: severeness_level_anxiety, dtype: int64"
      ]
     },
     "execution_count": 16,
     "metadata": {},
     "output_type": "execute_result"
    }
   ],
   "source": [
    "anxiety_data_balanced = pd.concat([class_1_anx_up, class_2_anx, class_3_anx_down], axis=0)\n",
    "\n",
    "anxiety_data_balanced = anxiety_data_balanced.sample(frac=1)\n",
    "anxiety_data_balanced[\"severeness_level_anxiety\"].value_counts() "
   ]
  },
  {
   "cell_type": "code",
   "execution_count": 17,
   "id": "e727ecc2",
   "metadata": {},
   "outputs": [],
   "source": [
    "# Upsampling with smote\n",
    "\n",
    "smote = SMOTE()"
   ]
  },
  {
   "cell_type": "code",
   "execution_count": 18,
   "id": "3a1816a5",
   "metadata": {},
   "outputs": [
    {
     "data": {
      "text/plain": [
       "3    32872\n",
       "2    32872\n",
       "1    32872\n",
       "Name: severeness_level_anxiety, dtype: int64"
      ]
     },
     "execution_count": 18,
     "metadata": {},
     "output_type": "execute_result"
    }
   ],
   "source": [
    "X_anxiety_sm, y_anxiety_sm = smote.fit_resample(X_anxiety, y_anxiety)\n",
    "y_anxiety_sm.value_counts()"
   ]
  },
  {
   "cell_type": "markdown",
   "id": "c2d9992a",
   "metadata": {},
   "source": [
    "### Modelling with anxiety data, balanced"
   ]
  },
  {
   "cell_type": "code",
   "execution_count": 19,
   "id": "9d86ed6c",
   "metadata": {},
   "outputs": [],
   "source": [
    "# With up and down sampling"
   ]
  },
  {
   "cell_type": "code",
   "execution_count": 20,
   "id": "6fcbb479",
   "metadata": {},
   "outputs": [],
   "source": [
    "X_anx_bal = anxiety_data_balanced.drop(\"severeness_level_anxiety\", axis = 1)\n",
    "y_anx_bal = anxiety_data_balanced[\"severeness_level_anxiety\"]"
   ]
  },
  {
   "cell_type": "code",
   "execution_count": 21,
   "id": "c98fb17c",
   "metadata": {},
   "outputs": [],
   "source": [
    "X_train_anx_bal, X_test_anx_bal, y_train_anx_bal, y_test_anx_bal = train_test_split(X_anx_bal, y_anx_bal, test_size = 0.20, random_state = 123)"
   ]
  },
  {
   "cell_type": "code",
   "execution_count": 22,
   "id": "3d37fd49",
   "metadata": {},
   "outputs": [],
   "source": [
    "# Standardizing the dataframe.\n",
    "\n",
    "std_scaler = StandardScaler().fit(X_train_anx_bal)\n",
    "X_anx_bal_train_scaled = std_scaler.transform(X_train_anx_bal)\n",
    "X_anx_bal_test_scaled = std_scaler.transform(X_test_anx_bal)"
   ]
  },
  {
   "cell_type": "code",
   "execution_count": 23,
   "id": "d943e586",
   "metadata": {},
   "outputs": [],
   "source": [
    "# With smote\n",
    "\n",
    "X_train_anx_sm, X_test_anx_sm, y_train_anx_sm, y_test_anx_sm = train_test_split(X_anxiety_sm, y_anxiety_sm, test_size = 0.20, random_state = 123)"
   ]
  },
  {
   "cell_type": "code",
   "execution_count": 24,
   "id": "56ad9500",
   "metadata": {},
   "outputs": [],
   "source": [
    "std_scaler = StandardScaler().fit(X_train_anx_sm)\n",
    "X_anx_sm_train_scaled = std_scaler.transform(X_train_anx_sm)\n",
    "X_anx_sm_test_scaled = std_scaler.transform(X_test_anx_sm)"
   ]
  },
  {
   "cell_type": "markdown",
   "id": "c4567c4b",
   "metadata": {},
   "source": [
    "#### Logistic regression"
   ]
  },
  {
   "cell_type": "code",
   "execution_count": 25,
   "id": "aa84fda9",
   "metadata": {},
   "outputs": [
    {
     "data": {
      "text/html": [
       "<div>\n",
       "<style scoped>\n",
       "    .dataframe tbody tr th:only-of-type {\n",
       "        vertical-align: middle;\n",
       "    }\n",
       "\n",
       "    .dataframe tbody tr th {\n",
       "        vertical-align: top;\n",
       "    }\n",
       "\n",
       "    .dataframe thead th {\n",
       "        text-align: right;\n",
       "    }\n",
       "</style>\n",
       "<table border=\"1\" class=\"dataframe\">\n",
       "  <thead>\n",
       "    <tr style=\"text-align: right;\">\n",
       "      <th></th>\n",
       "      <th>Error_metric</th>\n",
       "      <th>Train</th>\n",
       "      <th>Test</th>\n",
       "    </tr>\n",
       "  </thead>\n",
       "  <tbody>\n",
       "    <tr>\n",
       "      <th>0</th>\n",
       "      <td>Accuracy</td>\n",
       "      <td>0.999163</td>\n",
       "      <td>0.998605</td>\n",
       "    </tr>\n",
       "    <tr>\n",
       "      <th>1</th>\n",
       "      <td>Precision</td>\n",
       "      <td>0.999159</td>\n",
       "      <td>0.998637</td>\n",
       "    </tr>\n",
       "    <tr>\n",
       "      <th>2</th>\n",
       "      <td>Recall</td>\n",
       "      <td>0.999167</td>\n",
       "      <td>0.998576</td>\n",
       "    </tr>\n",
       "  </tbody>\n",
       "</table>\n",
       "</div>"
      ],
      "text/plain": [
       "  Error_metric     Train      Test\n",
       "0     Accuracy  0.999163  0.998605\n",
       "1    Precision  0.999159  0.998637\n",
       "2       Recall  0.999167  0.998576"
      ]
     },
     "metadata": {},
     "output_type": "display_data"
    },
    {
     "name": "stdout",
     "output_type": "stream",
     "text": [
      "Confusion matrix for the train set\n",
      "[[4739    0    0]\n",
      " [  10 4795    0]\n",
      " [   0    2 4789]]\n"
     ]
    },
    {
     "name": "stderr",
     "output_type": "stream",
     "text": [
      "/Users/miumiu/opt/anaconda3/envs/DA_ENV/lib/python3.10/site-packages/sklearn/utils/deprecation.py:87: FutureWarning: Function plot_confusion_matrix is deprecated; Function `plot_confusion_matrix` is deprecated in 1.0 and will be removed in 1.2. Use one of the class methods: ConfusionMatrixDisplay.from_predictions or ConfusionMatrixDisplay.from_estimator.\n",
      "  warnings.warn(msg, category=FutureWarning)\n"
     ]
    },
    {
     "data": {
      "image/png": "[encoded data removed]",
      "text/plain": [
       "<Figure size 432x288 with 2 Axes>"
      ]
     },
     "metadata": {
      "needs_background": "light"
     },
     "output_type": "display_data"
    },
    {
     "name": "stdout",
     "output_type": "stream",
     "text": [
      "\n",
      "\n",
      "Confusion matrix for the test set\n",
      "[[1234    0    0]\n",
      " [   4 1164    0]\n",
      " [   0    1 1181]]\n"
     ]
    },
    {
     "name": "stderr",
     "output_type": "stream",
     "text": [
      "/Users/miumiu/opt/anaconda3/envs/DA_ENV/lib/python3.10/site-packages/sklearn/utils/deprecation.py:87: FutureWarning: Function plot_confusion_matrix is deprecated; Function `plot_confusion_matrix` is deprecated in 1.0 and will be removed in 1.2. Use one of the class methods: ConfusionMatrixDisplay.from_predictions or ConfusionMatrixDisplay.from_estimator.\n",
      "  warnings.warn(msg, category=FutureWarning)\n"
     ]
    },
    {
     "data": {
      "image/png": "[encoded data removed]",
      "text/plain": [
       "<Figure size 432x288 with 2 Axes>"
      ]
     },
     "metadata": {
      "needs_background": "light"
     },
     "output_type": "display_data"
    }
   ],
   "source": [
    "log_model = LogisticRegression(multi_class='ovr') \n",
    "log_model.fit(X_anx_bal_train_scaled, y_train_anx_bal)\n",
    "y_pred_train_log_anx_bal = log_model.predict(X_anx_bal_train_scaled)\n",
    "y_pred_test_log_anx_bal = log_model.predict(X_anx_bal_test_scaled)\n",
    "\n",
    "performance_log_anx_bal = pd.DataFrame({'Error_metric': ['Accuracy','Precision','Recall'],\n",
    "                               'Train': [accuracy_score(y_train_anx_bal, y_pred_train_log_anx_bal),\n",
    "                                         precision_score(y_train_anx_bal, y_pred_train_log_anx_bal, average = \"macro\"),\n",
    "                                         recall_score(y_train_anx_bal, y_pred_train_log_anx_bal, average = \"macro\")],\n",
    "                               'Test': [accuracy_score(y_test_anx_bal, y_pred_test_log_anx_bal),\n",
    "                                        precision_score(y_test_anx_bal, y_pred_test_log_anx_bal, average = \"macro\"),\n",
    "                                        recall_score(y_test_anx_bal, y_pred_test_log_anx_bal, average = \"macro\")]})\n",
    "\n",
    "display(performance_log_anx_bal)\n",
    "\n",
    "print(\"Confusion matrix for the train set\")\n",
    "print(confusion_matrix(y_train_anx_bal,y_pred_train_log_anx_bal))\n",
    "plot_confusion_matrix(log_model,X_anx_bal_train_scaled,y_train_anx_bal, values_format = 'd')\n",
    "plt.show()\n",
    "\n",
    "print()\n",
    "print()\n",
    "\n",
    "print(\"Confusion matrix for the test set\")\n",
    "print(confusion_matrix(y_test_anx_bal, y_pred_test_log_anx_bal))\n",
    "plot_confusion_matrix(log_model,X_anx_bal_test_scaled,y_test_anx_bal, values_format = 'd')\n",
    "plt.show()"
   ]
  },
  {
   "cell_type": "markdown",
   "id": "f8b8e490",
   "metadata": {},
   "source": [
    "#### KNN"
   ]
  },
  {
   "cell_type": "code",
   "execution_count": 26,
   "id": "93d913a0",
   "metadata": {},
   "outputs": [
    {
     "data": {
      "text/html": [
       "<div>\n",
       "<style scoped>\n",
       "    .dataframe tbody tr th:only-of-type {\n",
       "        vertical-align: middle;\n",
       "    }\n",
       "\n",
       "    .dataframe tbody tr th {\n",
       "        vertical-align: top;\n",
       "    }\n",
       "\n",
       "    .dataframe thead th {\n",
       "        text-align: right;\n",
       "    }\n",
       "</style>\n",
       "<table border=\"1\" class=\"dataframe\">\n",
       "  <thead>\n",
       "    <tr style=\"text-align: right;\">\n",
       "      <th></th>\n",
       "      <th>Error_metric</th>\n",
       "      <th>Train</th>\n",
       "      <th>Test</th>\n",
       "    </tr>\n",
       "  </thead>\n",
       "  <tbody>\n",
       "    <tr>\n",
       "      <th>0</th>\n",
       "      <td>Accuracy</td>\n",
       "      <td>0.999163</td>\n",
       "      <td>0.998605</td>\n",
       "    </tr>\n",
       "    <tr>\n",
       "      <th>1</th>\n",
       "      <td>Precision</td>\n",
       "      <td>0.999159</td>\n",
       "      <td>0.998637</td>\n",
       "    </tr>\n",
       "    <tr>\n",
       "      <th>2</th>\n",
       "      <td>Recall</td>\n",
       "      <td>0.999167</td>\n",
       "      <td>0.998576</td>\n",
       "    </tr>\n",
       "  </tbody>\n",
       "</table>\n",
       "</div>"
      ],
      "text/plain": [
       "  Error_metric     Train      Test\n",
       "0     Accuracy  0.999163  0.998605\n",
       "1    Precision  0.999159  0.998637\n",
       "2       Recall  0.999167  0.998576"
      ]
     },
     "metadata": {},
     "output_type": "display_data"
    },
    {
     "name": "stdout",
     "output_type": "stream",
     "text": [
      "Confusion matrix for the train set\n",
      "[[4724   15    0]\n",
      " [2047 2757    1]\n",
      " [  33  795 3963]]\n"
     ]
    },
    {
     "name": "stderr",
     "output_type": "stream",
     "text": [
      "/Users/miumiu/opt/anaconda3/envs/DA_ENV/lib/python3.10/site-packages/sklearn/utils/deprecation.py:87: FutureWarning: Function plot_confusion_matrix is deprecated; Function `plot_confusion_matrix` is deprecated in 1.0 and will be removed in 1.2. Use one of the class methods: ConfusionMatrixDisplay.from_predictions or ConfusionMatrixDisplay.from_estimator.\n",
      "  warnings.warn(msg, category=FutureWarning)\n"
     ]
    },
    {
     "data": {
      "image/png": "[encoded data removed]",
      "text/plain": [
       "<Figure size 432x288 with 2 Axes>"
      ]
     },
     "metadata": {
      "needs_background": "light"
     },
     "output_type": "display_data"
    },
    {
     "name": "stdout",
     "output_type": "stream",
     "text": [
      "\n",
      "\n",
      "Confusion matrix for the test set\n",
      "[[1218   16    0]\n",
      " [ 565  603    0]\n",
      " [  15  227  940]]\n"
     ]
    },
    {
     "name": "stderr",
     "output_type": "stream",
     "text": [
      "/Users/miumiu/opt/anaconda3/envs/DA_ENV/lib/python3.10/site-packages/sklearn/utils/deprecation.py:87: FutureWarning: Function plot_confusion_matrix is deprecated; Function `plot_confusion_matrix` is deprecated in 1.0 and will be removed in 1.2. Use one of the class methods: ConfusionMatrixDisplay.from_predictions or ConfusionMatrixDisplay.from_estimator.\n",
      "  warnings.warn(msg, category=FutureWarning)\n"
     ]
    },
    {
     "data": {
      "image/png": "[encoded data removed]",
      "text/plain": [
       "<Figure size 432x288 with 2 Axes>"
      ]
     },
     "metadata": {
      "needs_background": "light"
     },
     "output_type": "display_data"
    }
   ],
   "source": [
    "knn_model = KNeighborsClassifier(n_neighbors=6)\n",
    "knn_model.fit(X_anx_bal_train_scaled, y_train_anx_bal)\n",
    "y_pred_train_log_anx_bal = knn_model.predict(X_anx_bal_train_scaled)\n",
    "y_pred_test_log_anx_bal = knn_model.predict(X_anx_bal_test_scaled)\n",
    "\n",
    "performance_log_dep_bal = pd.DataFrame({'Error_metric': ['Accuracy','Precision','Recall'],\n",
    "                               'Train': [accuracy_score(y_train_anx_bal, y_pred_train_log_anx_bal),\n",
    "                                         precision_score(y_train_anx_bal, y_pred_train_log_anx_bal, average = \"macro\"),\n",
    "                                         recall_score(y_train_anx_bal, y_pred_train_log_anx_bal, average = \"macro\")],\n",
    "                               'Test': [accuracy_score(y_test_anx_bal, y_pred_test_log_anx_bal),\n",
    "                                        precision_score(y_test_anx_bal, y_pred_test_log_anx_bal, average = \"macro\"),\n",
    "                                        recall_score(y_test_anx_bal, y_pred_test_log_anx_bal, average = \"macro\")]})\n",
    "\n",
    "display(performance_log_anx_bal)\n",
    "\n",
    "print(\"Confusion matrix for the train set\")\n",
    "print(confusion_matrix(y_train_anx_bal,y_pred_train_log_anx_bal))\n",
    "plot_confusion_matrix(knn_model,X_anx_bal_train_scaled,y_train_anx_bal, values_format = 'd')\n",
    "plt.show()\n",
    "\n",
    "print()\n",
    "print()\n",
    "\n",
    "print(\"Confusion matrix for the test set\")\n",
    "print(confusion_matrix(y_test_anx_bal, y_pred_test_log_anx_bal))\n",
    "plot_confusion_matrix(knn_model,X_anx_bal_test_scaled,y_test_anx_bal, values_format = 'd')\n",
    "plt.show()"
   ]
  },
  {
   "cell_type": "markdown",
   "id": "f4770806",
   "metadata": {},
   "source": [
    "#### Decision tree"
   ]
  },
  {
   "cell_type": "code",
   "execution_count": 27,
   "id": "496f93c7",
   "metadata": {},
   "outputs": [
    {
     "data": {
      "text/html": [
       "<div>\n",
       "<style scoped>\n",
       "    .dataframe tbody tr th:only-of-type {\n",
       "        vertical-align: middle;\n",
       "    }\n",
       "\n",
       "    .dataframe tbody tr th {\n",
       "        vertical-align: top;\n",
       "    }\n",
       "\n",
       "    .dataframe thead th {\n",
       "        text-align: right;\n",
       "    }\n",
       "</style>\n",
       "<table border=\"1\" class=\"dataframe\">\n",
       "  <thead>\n",
       "    <tr style=\"text-align: right;\">\n",
       "      <th></th>\n",
       "      <th>Error_metric</th>\n",
       "      <th>Train</th>\n",
       "      <th>Test</th>\n",
       "    </tr>\n",
       "  </thead>\n",
       "  <tbody>\n",
       "    <tr>\n",
       "      <th>0</th>\n",
       "      <td>Accuracy</td>\n",
       "      <td>0.909522</td>\n",
       "      <td>0.900112</td>\n",
       "    </tr>\n",
       "    <tr>\n",
       "      <th>1</th>\n",
       "      <td>Precision</td>\n",
       "      <td>0.910383</td>\n",
       "      <td>0.900841</td>\n",
       "    </tr>\n",
       "    <tr>\n",
       "      <th>2</th>\n",
       "      <td>Recall</td>\n",
       "      <td>0.909902</td>\n",
       "      <td>0.898453</td>\n",
       "    </tr>\n",
       "  </tbody>\n",
       "</table>\n",
       "</div>"
      ],
      "text/plain": [
       "  Error_metric     Train      Test\n",
       "0     Accuracy  0.909522  0.900112\n",
       "1    Precision  0.910383  0.900841\n",
       "2       Recall  0.909902  0.898453"
      ]
     },
     "metadata": {},
     "output_type": "display_data"
    },
    {
     "name": "stdout",
     "output_type": "stream",
     "text": [
      "Confusion matrix for the train set\n",
      "[[4739  470    6]\n",
      " [   0 4111  597]\n",
      " [   0  224 4188]]\n"
     ]
    },
    {
     "name": "stderr",
     "output_type": "stream",
     "text": [
      "/Users/miumiu/opt/anaconda3/envs/DA_ENV/lib/python3.10/site-packages/sklearn/utils/deprecation.py:87: FutureWarning: Function plot_confusion_matrix is deprecated; Function `plot_confusion_matrix` is deprecated in 1.0 and will be removed in 1.2. Use one of the class methods: ConfusionMatrixDisplay.from_predictions or ConfusionMatrixDisplay.from_estimator.\n",
      "  warnings.warn(msg, category=FutureWarning)\n"
     ]
    },
    {
     "data": {
      "image/png": "[encoded data removed]",
      "text/plain": [
       "<Figure size 432x288 with 2 Axes>"
      ]
     },
     "metadata": {
      "needs_background": "light"
     },
     "output_type": "display_data"
    },
    {
     "name": "stdout",
     "output_type": "stream",
     "text": [
      "\n",
      "\n",
      "Confusion matrix for the test set\n",
      "[[1234  114    0]\n",
      " [   0  994  184]\n",
      " [   0   60  998]]\n"
     ]
    },
    {
     "name": "stderr",
     "output_type": "stream",
     "text": [
      "/Users/miumiu/opt/anaconda3/envs/DA_ENV/lib/python3.10/site-packages/sklearn/utils/deprecation.py:87: FutureWarning: Function plot_confusion_matrix is deprecated; Function `plot_confusion_matrix` is deprecated in 1.0 and will be removed in 1.2. Use one of the class methods: ConfusionMatrixDisplay.from_predictions or ConfusionMatrixDisplay.from_estimator.\n",
      "  warnings.warn(msg, category=FutureWarning)\n"
     ]
    },
    {
     "data": {
      "image/png": "[encoded data removed]",
      "text/plain": [
       "<Figure size 432x288 with 2 Axes>"
      ]
     },
     "metadata": {
      "needs_background": "light"
     },
     "output_type": "display_data"
    }
   ],
   "source": [
    "# After up and down sampling\n",
    "\n",
    "dt = DecisionTreeClassifier(max_depth=5)\n",
    "\n",
    "dt.fit(X_train_anx_bal, y_train_anx_bal)\n",
    "\n",
    "y_pred_train_dt_anx_bal = dt.predict(X_train_anx_bal)\n",
    "y_pred_test_dt_anx_bal = dt.predict(X_test_anx_bal)\n",
    "\n",
    "\n",
    "performance_df_anx_bal = pd.DataFrame({'Error_metric': ['Accuracy','Precision','Recall'],\n",
    "                               'Train': [accuracy_score(y_train_anx_bal, y_pred_train_dt_anx_bal),\n",
    "                                         precision_score(y_train_anx_bal, y_pred_train_dt_anx_bal, average = \"macro\"),\n",
    "                                         recall_score(y_train_anx_bal, y_pred_train_dt_anx_bal, average = \"macro\")],\n",
    "                               'Test': [accuracy_score(y_test_anx_bal, y_pred_test_dt_anx_bal),\n",
    "                                        precision_score(y_test_anx_bal, y_pred_test_dt_anx_bal, average = \"macro\"),\n",
    "                                        recall_score(y_test_anx_bal, y_pred_test_dt_anx_bal, average = \"macro\")]})\n",
    "\n",
    "display(performance_df_anx_bal)\n",
    "\n",
    "print(\"Confusion matrix for the train set\")\n",
    "print(confusion_matrix(y_train_anx_bal,y_pred_train_dt_anx_bal).T)\n",
    "plot_confusion_matrix(dt,X_train_anx_bal,y_train_anx_bal, values_format = 'd')\n",
    "plt.show()\n",
    "\n",
    "print()\n",
    "print()\n",
    "\n",
    "print(\"Confusion matrix for the test set\")\n",
    "print(confusion_matrix(y_test_anx_bal,y_pred_test_dt_anx_bal).T)\n",
    "plot_confusion_matrix(dt,X_test_anx_bal,y_test_anx_bal, values_format = 'd')\n",
    "plt.show()"
   ]
  },
  {
   "cell_type": "code",
   "execution_count": 28,
   "id": "61e70891",
   "metadata": {},
   "outputs": [
    {
     "data": {
      "text/html": [
       "<div>\n",
       "<style scoped>\n",
       "    .dataframe tbody tr th:only-of-type {\n",
       "        vertical-align: middle;\n",
       "    }\n",
       "\n",
       "    .dataframe tbody tr th {\n",
       "        vertical-align: top;\n",
       "    }\n",
       "\n",
       "    .dataframe thead th {\n",
       "        text-align: right;\n",
       "    }\n",
       "</style>\n",
       "<table border=\"1\" class=\"dataframe\">\n",
       "  <thead>\n",
       "    <tr style=\"text-align: right;\">\n",
       "      <th></th>\n",
       "      <th>Error_metric</th>\n",
       "      <th>Train</th>\n",
       "      <th>Test</th>\n",
       "    </tr>\n",
       "  </thead>\n",
       "  <tbody>\n",
       "    <tr>\n",
       "      <th>0</th>\n",
       "      <td>Accuracy</td>\n",
       "      <td>0.877161</td>\n",
       "      <td>0.876394</td>\n",
       "    </tr>\n",
       "    <tr>\n",
       "      <th>1</th>\n",
       "      <td>Precision</td>\n",
       "      <td>0.890839</td>\n",
       "      <td>0.888059</td>\n",
       "    </tr>\n",
       "    <tr>\n",
       "      <th>2</th>\n",
       "      <td>Recall</td>\n",
       "      <td>0.876877</td>\n",
       "      <td>0.877535</td>\n",
       "    </tr>\n",
       "  </tbody>\n",
       "</table>\n",
       "</div>"
      ],
      "text/plain": [
       "  Error_metric     Train      Test\n",
       "0     Accuracy  0.877161  0.876394\n",
       "1    Precision  0.890839  0.888059\n",
       "2       Recall  0.876877  0.877535"
      ]
     },
     "metadata": {},
     "output_type": "display_data"
    },
    {
     "name": "stdout",
     "output_type": "stream",
     "text": [
      "Confusion matrix for the train set\n",
      "[[26446  7314    12]\n",
      " [    0 18070  1506]\n",
      " [    0   859 24685]]\n"
     ]
    },
    {
     "name": "stderr",
     "output_type": "stream",
     "text": [
      "/Users/miumiu/opt/anaconda3/envs/DA_ENV/lib/python3.10/site-packages/sklearn/utils/deprecation.py:87: FutureWarning: Function plot_confusion_matrix is deprecated; Function `plot_confusion_matrix` is deprecated in 1.0 and will be removed in 1.2. Use one of the class methods: ConfusionMatrixDisplay.from_predictions or ConfusionMatrixDisplay.from_estimator.\n",
      "  warnings.warn(msg, category=FutureWarning)\n"
     ]
    },
    {
     "data": {
      "image/png": "[encoded data removed]",
      "text/plain": [
       "<Figure size 432x288 with 2 Axes>"
      ]
     },
     "metadata": {
      "needs_background": "light"
     },
     "output_type": "display_data"
    },
    {
     "name": "stderr",
     "output_type": "stream",
     "text": [
      "/Users/miumiu/opt/anaconda3/envs/DA_ENV/lib/python3.10/site-packages/sklearn/utils/deprecation.py:87: FutureWarning: Function plot_confusion_matrix is deprecated; Function `plot_confusion_matrix` is deprecated in 1.0 and will be removed in 1.2. Use one of the class methods: ConfusionMatrixDisplay.from_predictions or ConfusionMatrixDisplay.from_estimator.\n",
      "  warnings.warn(msg, category=FutureWarning)\n"
     ]
    },
    {
     "name": "stdout",
     "output_type": "stream",
     "text": [
      "\n",
      "\n",
      "Confusion matrix for the test set\n",
      "[[6426 1803    1]\n",
      " [   0 4614  422]\n",
      " [   0  212 6246]]\n"
     ]
    },
    {
     "data": {
      "image/png": "[encoded data removed]",
      "text/plain": [
       "<Figure size 432x288 with 2 Axes>"
      ]
     },
     "metadata": {
      "needs_background": "light"
     },
     "output_type": "display_data"
    }
   ],
   "source": [
    "# After SMOTE\n",
    "\n",
    "dt = DecisionTreeClassifier(max_depth=6)\n",
    "\n",
    "dt.fit(X_train_anx_sm, y_train_anx_sm)\n",
    "\n",
    "y_pred_train_dt_anx_sm = dt.predict(X_train_anx_sm)\n",
    "y_pred_test_dt_anx_sm = dt.predict(X_test_anx_sm)\n",
    "\n",
    "\n",
    "performance_df_anx_sm = pd.DataFrame({'Error_metric': ['Accuracy','Precision','Recall'],\n",
    "                               'Train': [accuracy_score(y_train_anx_sm, y_pred_train_dt_anx_sm),\n",
    "                                         precision_score(y_train_anx_sm, y_pred_train_dt_anx_sm, average = \"macro\"),\n",
    "                                         recall_score(y_train_anx_sm, y_pred_train_dt_anx_sm, average = \"macro\")],\n",
    "                               'Test': [accuracy_score(y_test_anx_sm, y_pred_test_dt_anx_sm),\n",
    "                                        precision_score(y_test_anx_sm, y_pred_test_dt_anx_sm, average = \"macro\"),\n",
    "                                        recall_score(y_test_anx_sm, y_pred_test_dt_anx_sm, average = \"macro\")]})\n",
    "\n",
    "display(performance_df_anx_sm)\n",
    "\n",
    "print(\"Confusion matrix for the train set\")\n",
    "print(confusion_matrix(y_train_anx_sm,y_pred_train_dt_anx_sm).T)\n",
    "plot_confusion_matrix(dt,X_train_anx_sm,y_train_anx_sm, values_format = 'd')\n",
    "plt.show()\n",
    "\n",
    "print()\n",
    "print()\n",
    "\n",
    "print(\"Confusion matrix for the test set\")\n",
    "print(confusion_matrix(y_test_anx_sm,y_pred_test_dt_anx_sm).T)\n",
    "plot_confusion_matrix(dt,X_test_anx_sm,y_test_anx_sm, values_format = 'd')\n",
    "plt.show()"
   ]
  },
  {
   "cell_type": "markdown",
   "id": "19e9465a",
   "metadata": {},
   "source": [
    "#### Random forest"
   ]
  },
  {
   "cell_type": "code",
   "execution_count": 29,
   "id": "ed8249cf",
   "metadata": {},
   "outputs": [
    {
     "name": "stdout",
     "output_type": "stream",
     "text": [
      "0.9178235088943146\n",
      "0.908203125\n"
     ]
    }
   ],
   "source": [
    "clf = RandomForestClassifier(max_depth=4, n_estimators=30, random_state=0, bootstrap=True, oob_score=True)\n",
    "clf.fit(X_train_anx_bal, y_train_anx_bal)\n",
    "print(clf.score(X_train_anx_bal, y_train_anx_bal))\n",
    "print(clf.score(X_test_anx_bal, y_test_anx_bal))"
   ]
  },
  {
   "cell_type": "code",
   "execution_count": 30,
   "id": "035e71e7",
   "metadata": {},
   "outputs": [
    {
     "data": {
      "text/plain": [
       "array([2, 1, 2, ..., 3, 2, 1])"
      ]
     },
     "execution_count": 30,
     "metadata": {},
     "output_type": "execute_result"
    }
   ],
   "source": [
    "y_pred_anx = clf.predict(X_test_anx_bal)\n",
    "y_pred_anx"
   ]
  },
  {
   "cell_type": "code",
   "execution_count": 31,
   "id": "23fda04e",
   "metadata": {},
   "outputs": [
    {
     "name": "stdout",
     "output_type": "stream",
     "text": [
      "              precision    recall  f1-score   support\n",
      "\n",
      "           1       0.88      1.00      0.93      1234\n",
      "           2       0.87      0.84      0.86      1168\n",
      "           3       0.99      0.88      0.93      1182\n",
      "\n",
      "    accuracy                           0.91      3584\n",
      "   macro avg       0.91      0.91      0.91      3584\n",
      "weighted avg       0.91      0.91      0.91      3584\n",
      "\n",
      "0.908203125\n"
     ]
    }
   ],
   "source": [
    "# Getting the precision and recall scores\n",
    "\n",
    "print(classification_report(y_test_anx_bal,y_pred_anx))\n",
    "print(accuracy_score(y_test_anx_bal, y_pred_anx))"
   ]
  },
  {
   "cell_type": "code",
   "execution_count": 32,
   "id": "3dc91726",
   "metadata": {},
   "outputs": [
    {
     "data": {
      "text/plain": [
       "array([0.92291594, 0.92291594, 0.91035926, 0.90896407, 0.91524241])"
      ]
     },
     "execution_count": 32,
     "metadata": {},
     "output_type": "execute_result"
    }
   ],
   "source": [
    "# Using cross validation. Receiving accuracy scores.\n",
    "\n",
    "clf = RandomForestClassifier(max_depth=4, n_estimators=30, random_state=0, bootstrap=True, oob_score=True)\n",
    "cross_val_scores_anx_bal = cross_val_score(clf, X_train_anx_bal, y_train_anx_bal, cv=5)\n",
    "cross_val_scores_anx_bal"
   ]
  },
  {
   "cell_type": "code",
   "execution_count": 33,
   "id": "23772e8c",
   "metadata": {},
   "outputs": [
    {
     "data": {
      "text/plain": [
       "0.9160795256365539"
      ]
     },
     "execution_count": 33,
     "metadata": {},
     "output_type": "execute_result"
    }
   ],
   "source": [
    "np.mean(cross_val_scores_anx_bal)"
   ]
  },
  {
   "cell_type": "markdown",
   "id": "82f6d610",
   "metadata": {},
   "source": [
    "#### Hyperparameters and grid search"
   ]
  },
  {
   "cell_type": "code",
   "execution_count": 34,
   "id": "472c73e5",
   "metadata": {},
   "outputs": [],
   "source": [
    "# Setting parameter values for finding out which gives the best model.\n",
    "\n",
    "param_grid_anx = {\n",
    "    \"n_estimators\": [15, 20, 30],\n",
    "    \"min_samples_split\": [2, 4],\n",
    "    \"min_samples_leaf\" : [1, 2],\n",
    "    \"max_features\": [\"sqrt\"],\n",
    "    \"max_depth\": [8],\n",
    "    }\n",
    "clf = RandomForestClassifier(random_state=100)"
   ]
  },
  {
   "cell_type": "code",
   "execution_count": 35,
   "id": "360fc68d",
   "metadata": {},
   "outputs": [],
   "source": [
    "# Setting the grid search.\n",
    "\n",
    "grid_search_anxiety = GridSearchCV(clf, param_grid_anx, cv=5, return_train_score=True, n_jobs=-1,)"
   ]
  },
  {
   "cell_type": "code",
   "execution_count": 36,
   "id": "6310fb1f",
   "metadata": {},
   "outputs": [
    {
     "data": {
      "text/plain": [
       "GridSearchCV(cv=5, estimator=RandomForestClassifier(random_state=100),\n",
       "             n_jobs=-1,\n",
       "             param_grid={'max_depth': [8], 'max_features': ['sqrt'],\n",
       "                         'min_samples_leaf': [1, 2],\n",
       "                         'min_samples_split': [2, 4],\n",
       "                         'n_estimators': [15, 20, 30]},\n",
       "             return_train_score=True)"
      ]
     },
     "execution_count": 36,
     "metadata": {},
     "output_type": "execute_result"
    }
   ],
   "source": [
    "# Applying it.\n",
    "\n",
    "grid_search_anxiety.fit(X_train_anx_bal,y_train_anx_bal)"
   ]
  },
  {
   "cell_type": "code",
   "execution_count": 37,
   "id": "3a85946b",
   "metadata": {},
   "outputs": [
    {
     "data": {
      "text/plain": [
       "{'max_depth': 8,\n",
       " 'max_features': 'sqrt',\n",
       " 'min_samples_leaf': 1,\n",
       " 'min_samples_split': 2,\n",
       " 'n_estimators': 30}"
      ]
     },
     "execution_count": 37,
     "metadata": {},
     "output_type": "execute_result"
    }
   ],
   "source": [
    "# The best parameters?\n",
    "\n",
    "grid_search_anxiety.best_params_"
   ]
  },
  {
   "cell_type": "code",
   "execution_count": 38,
   "id": "e5bfd29c",
   "metadata": {},
   "outputs": [
    {
     "data": {
      "text/html": [
       "<div>\n",
       "<style scoped>\n",
       "    .dataframe tbody tr th:only-of-type {\n",
       "        vertical-align: middle;\n",
       "    }\n",
       "\n",
       "    .dataframe tbody tr th {\n",
       "        vertical-align: top;\n",
       "    }\n",
       "\n",
       "    .dataframe thead th {\n",
       "        text-align: right;\n",
       "    }\n",
       "</style>\n",
       "<table border=\"1\" class=\"dataframe\">\n",
       "  <thead>\n",
       "    <tr style=\"text-align: right;\">\n",
       "      <th></th>\n",
       "      <th>mean_fit_time</th>\n",
       "      <th>std_fit_time</th>\n",
       "      <th>mean_score_time</th>\n",
       "      <th>std_score_time</th>\n",
       "      <th>param_max_depth</th>\n",
       "      <th>param_max_features</th>\n",
       "      <th>param_min_samples_leaf</th>\n",
       "      <th>param_min_samples_split</th>\n",
       "      <th>param_n_estimators</th>\n",
       "      <th>params</th>\n",
       "      <th>...</th>\n",
       "      <th>mean_test_score</th>\n",
       "      <th>std_test_score</th>\n",
       "      <th>rank_test_score</th>\n",
       "      <th>split0_train_score</th>\n",
       "      <th>split1_train_score</th>\n",
       "      <th>split2_train_score</th>\n",
       "      <th>split3_train_score</th>\n",
       "      <th>split4_train_score</th>\n",
       "      <th>mean_train_score</th>\n",
       "      <th>std_train_score</th>\n",
       "    </tr>\n",
       "  </thead>\n",
       "  <tbody>\n",
       "    <tr>\n",
       "      <th>0</th>\n",
       "      <td>0.216848</td>\n",
       "      <td>0.002212</td>\n",
       "      <td>0.014266</td>\n",
       "      <td>0.001074</td>\n",
       "      <td>8</td>\n",
       "      <td>sqrt</td>\n",
       "      <td>1</td>\n",
       "      <td>2</td>\n",
       "      <td>15</td>\n",
       "      <td>{'max_depth': 8, 'max_features': 'sqrt', 'min_...</td>\n",
       "      <td>...</td>\n",
       "      <td>0.958423</td>\n",
       "      <td>0.003855</td>\n",
       "      <td>9</td>\n",
       "      <td>0.966777</td>\n",
       "      <td>0.967824</td>\n",
       "      <td>0.966952</td>\n",
       "      <td>0.968870</td>\n",
       "      <td>0.967824</td>\n",
       "      <td>0.967649</td>\n",
       "      <td>0.000748</td>\n",
       "    </tr>\n",
       "    <tr>\n",
       "      <th>1</th>\n",
       "      <td>0.296415</td>\n",
       "      <td>0.003629</td>\n",
       "      <td>0.017463</td>\n",
       "      <td>0.001459</td>\n",
       "      <td>8</td>\n",
       "      <td>sqrt</td>\n",
       "      <td>1</td>\n",
       "      <td>2</td>\n",
       "      <td>20</td>\n",
       "      <td>{'max_depth': 8, 'max_features': 'sqrt', 'min_...</td>\n",
       "      <td>...</td>\n",
       "      <td>0.963237</td>\n",
       "      <td>0.004142</td>\n",
       "      <td>5</td>\n",
       "      <td>0.972532</td>\n",
       "      <td>0.974974</td>\n",
       "      <td>0.971486</td>\n",
       "      <td>0.972968</td>\n",
       "      <td>0.972445</td>\n",
       "      <td>0.972881</td>\n",
       "      <td>0.001153</td>\n",
       "    </tr>\n",
       "    <tr>\n",
       "      <th>2</th>\n",
       "      <td>0.426407</td>\n",
       "      <td>0.008429</td>\n",
       "      <td>0.023736</td>\n",
       "      <td>0.001681</td>\n",
       "      <td>8</td>\n",
       "      <td>sqrt</td>\n",
       "      <td>1</td>\n",
       "      <td>2</td>\n",
       "      <td>30</td>\n",
       "      <td>{'max_depth': 8, 'max_features': 'sqrt', 'min_...</td>\n",
       "      <td>...</td>\n",
       "      <td>0.965120</td>\n",
       "      <td>0.004013</td>\n",
       "      <td>1</td>\n",
       "      <td>0.974625</td>\n",
       "      <td>0.975846</td>\n",
       "      <td>0.974887</td>\n",
       "      <td>0.977503</td>\n",
       "      <td>0.976543</td>\n",
       "      <td>0.975881</td>\n",
       "      <td>0.001062</td>\n",
       "    </tr>\n",
       "    <tr>\n",
       "      <th>3</th>\n",
       "      <td>0.213823</td>\n",
       "      <td>0.002594</td>\n",
       "      <td>0.013084</td>\n",
       "      <td>0.000370</td>\n",
       "      <td>8</td>\n",
       "      <td>sqrt</td>\n",
       "      <td>1</td>\n",
       "      <td>4</td>\n",
       "      <td>15</td>\n",
       "      <td>{'max_depth': 8, 'max_features': 'sqrt', 'min_...</td>\n",
       "      <td>...</td>\n",
       "      <td>0.957168</td>\n",
       "      <td>0.003791</td>\n",
       "      <td>12</td>\n",
       "      <td>0.967300</td>\n",
       "      <td>0.968783</td>\n",
       "      <td>0.966516</td>\n",
       "      <td>0.968260</td>\n",
       "      <td>0.966952</td>\n",
       "      <td>0.967562</td>\n",
       "      <td>0.000838</td>\n",
       "    </tr>\n",
       "    <tr>\n",
       "      <th>4</th>\n",
       "      <td>0.277722</td>\n",
       "      <td>0.005545</td>\n",
       "      <td>0.016772</td>\n",
       "      <td>0.000795</td>\n",
       "      <td>8</td>\n",
       "      <td>sqrt</td>\n",
       "      <td>1</td>\n",
       "      <td>4</td>\n",
       "      <td>20</td>\n",
       "      <td>{'max_depth': 8, 'max_features': 'sqrt', 'min_...</td>\n",
       "      <td>...</td>\n",
       "      <td>0.961981</td>\n",
       "      <td>0.005650</td>\n",
       "      <td>8</td>\n",
       "      <td>0.971922</td>\n",
       "      <td>0.973317</td>\n",
       "      <td>0.970265</td>\n",
       "      <td>0.971922</td>\n",
       "      <td>0.971747</td>\n",
       "      <td>0.971835</td>\n",
       "      <td>0.000968</td>\n",
       "    </tr>\n",
       "    <tr>\n",
       "      <th>5</th>\n",
       "      <td>0.411369</td>\n",
       "      <td>0.007167</td>\n",
       "      <td>0.023224</td>\n",
       "      <td>0.001496</td>\n",
       "      <td>8</td>\n",
       "      <td>sqrt</td>\n",
       "      <td>1</td>\n",
       "      <td>4</td>\n",
       "      <td>30</td>\n",
       "      <td>{'max_depth': 8, 'max_features': 'sqrt', 'min_...</td>\n",
       "      <td>...</td>\n",
       "      <td>0.963725</td>\n",
       "      <td>0.004627</td>\n",
       "      <td>4</td>\n",
       "      <td>0.973230</td>\n",
       "      <td>0.975759</td>\n",
       "      <td>0.974015</td>\n",
       "      <td>0.976543</td>\n",
       "      <td>0.973055</td>\n",
       "      <td>0.974520</td>\n",
       "      <td>0.001392</td>\n",
       "    </tr>\n",
       "    <tr>\n",
       "      <th>6</th>\n",
       "      <td>0.209470</td>\n",
       "      <td>0.005872</td>\n",
       "      <td>0.014228</td>\n",
       "      <td>0.001214</td>\n",
       "      <td>8</td>\n",
       "      <td>sqrt</td>\n",
       "      <td>2</td>\n",
       "      <td>2</td>\n",
       "      <td>15</td>\n",
       "      <td>{'max_depth': 8, 'max_features': 'sqrt', 'min_...</td>\n",
       "      <td>...</td>\n",
       "      <td>0.957865</td>\n",
       "      <td>0.002678</td>\n",
       "      <td>10</td>\n",
       "      <td>0.965033</td>\n",
       "      <td>0.968870</td>\n",
       "      <td>0.965208</td>\n",
       "      <td>0.967998</td>\n",
       "      <td>0.965469</td>\n",
       "      <td>0.966516</td>\n",
       "      <td>0.001596</td>\n",
       "    </tr>\n",
       "    <tr>\n",
       "      <th>7</th>\n",
       "      <td>0.285603</td>\n",
       "      <td>0.009375</td>\n",
       "      <td>0.017151</td>\n",
       "      <td>0.001523</td>\n",
       "      <td>8</td>\n",
       "      <td>sqrt</td>\n",
       "      <td>2</td>\n",
       "      <td>2</td>\n",
       "      <td>20</td>\n",
       "      <td>{'max_depth': 8, 'max_features': 'sqrt', 'min_...</td>\n",
       "      <td>...</td>\n",
       "      <td>0.962958</td>\n",
       "      <td>0.003942</td>\n",
       "      <td>6</td>\n",
       "      <td>0.967824</td>\n",
       "      <td>0.972968</td>\n",
       "      <td>0.971486</td>\n",
       "      <td>0.973579</td>\n",
       "      <td>0.970614</td>\n",
       "      <td>0.971294</td>\n",
       "      <td>0.002028</td>\n",
       "    </tr>\n",
       "    <tr>\n",
       "      <th>8</th>\n",
       "      <td>0.412513</td>\n",
       "      <td>0.006940</td>\n",
       "      <td>0.022495</td>\n",
       "      <td>0.001317</td>\n",
       "      <td>8</td>\n",
       "      <td>sqrt</td>\n",
       "      <td>2</td>\n",
       "      <td>2</td>\n",
       "      <td>30</td>\n",
       "      <td>{'max_depth': 8, 'max_features': 'sqrt', 'min_...</td>\n",
       "      <td>...</td>\n",
       "      <td>0.964841</td>\n",
       "      <td>0.002548</td>\n",
       "      <td>2</td>\n",
       "      <td>0.970701</td>\n",
       "      <td>0.974712</td>\n",
       "      <td>0.975235</td>\n",
       "      <td>0.978200</td>\n",
       "      <td>0.973666</td>\n",
       "      <td>0.974503</td>\n",
       "      <td>0.002425</td>\n",
       "    </tr>\n",
       "    <tr>\n",
       "      <th>9</th>\n",
       "      <td>0.209189</td>\n",
       "      <td>0.003644</td>\n",
       "      <td>0.013748</td>\n",
       "      <td>0.000707</td>\n",
       "      <td>8</td>\n",
       "      <td>sqrt</td>\n",
       "      <td>2</td>\n",
       "      <td>4</td>\n",
       "      <td>15</td>\n",
       "      <td>{'max_depth': 8, 'max_features': 'sqrt', 'min_...</td>\n",
       "      <td>...</td>\n",
       "      <td>0.957865</td>\n",
       "      <td>0.002678</td>\n",
       "      <td>10</td>\n",
       "      <td>0.965033</td>\n",
       "      <td>0.968870</td>\n",
       "      <td>0.965208</td>\n",
       "      <td>0.967998</td>\n",
       "      <td>0.965469</td>\n",
       "      <td>0.966516</td>\n",
       "      <td>0.001596</td>\n",
       "    </tr>\n",
       "    <tr>\n",
       "      <th>10</th>\n",
       "      <td>0.275073</td>\n",
       "      <td>0.002450</td>\n",
       "      <td>0.015857</td>\n",
       "      <td>0.000622</td>\n",
       "      <td>8</td>\n",
       "      <td>sqrt</td>\n",
       "      <td>2</td>\n",
       "      <td>4</td>\n",
       "      <td>20</td>\n",
       "      <td>{'max_depth': 8, 'max_features': 'sqrt', 'min_...</td>\n",
       "      <td>...</td>\n",
       "      <td>0.962958</td>\n",
       "      <td>0.003942</td>\n",
       "      <td>6</td>\n",
       "      <td>0.967824</td>\n",
       "      <td>0.972968</td>\n",
       "      <td>0.971486</td>\n",
       "      <td>0.973579</td>\n",
       "      <td>0.970614</td>\n",
       "      <td>0.971294</td>\n",
       "      <td>0.002028</td>\n",
       "    </tr>\n",
       "    <tr>\n",
       "      <th>11</th>\n",
       "      <td>0.380526</td>\n",
       "      <td>0.017229</td>\n",
       "      <td>0.017092</td>\n",
       "      <td>0.001857</td>\n",
       "      <td>8</td>\n",
       "      <td>sqrt</td>\n",
       "      <td>2</td>\n",
       "      <td>4</td>\n",
       "      <td>30</td>\n",
       "      <td>{'max_depth': 8, 'max_features': 'sqrt', 'min_...</td>\n",
       "      <td>...</td>\n",
       "      <td>0.964841</td>\n",
       "      <td>0.002548</td>\n",
       "      <td>2</td>\n",
       "      <td>0.970701</td>\n",
       "      <td>0.974712</td>\n",
       "      <td>0.975235</td>\n",
       "      <td>0.978200</td>\n",
       "      <td>0.973666</td>\n",
       "      <td>0.974503</td>\n",
       "      <td>0.002425</td>\n",
       "    </tr>\n",
       "  </tbody>\n",
       "</table>\n",
       "<p>12 rows × 25 columns</p>\n",
       "</div>"
      ],
      "text/plain": [
       "    mean_fit_time  std_fit_time  mean_score_time  std_score_time  \\\n",
       "0        0.216848      0.002212         0.014266        0.001074   \n",
       "1        0.296415      0.003629         0.017463        0.001459   \n",
       "2        0.426407      0.008429         0.023736        0.001681   \n",
       "3        0.213823      0.002594         0.013084        0.000370   \n",
       "4        0.277722      0.005545         0.016772        0.000795   \n",
       "5        0.411369      0.007167         0.023224        0.001496   \n",
       "6        0.209470      0.005872         0.014228        0.001214   \n",
       "7        0.285603      0.009375         0.017151        0.001523   \n",
       "8        0.412513      0.006940         0.022495        0.001317   \n",
       "9        0.209189      0.003644         0.013748        0.000707   \n",
       "10       0.275073      0.002450         0.015857        0.000622   \n",
       "11       0.380526      0.017229         0.017092        0.001857   \n",
       "\n",
       "   param_max_depth param_max_features param_min_samples_leaf  \\\n",
       "0                8               sqrt                      1   \n",
       "1                8               sqrt                      1   \n",
       "2                8               sqrt                      1   \n",
       "3                8               sqrt                      1   \n",
       "4                8               sqrt                      1   \n",
       "5                8               sqrt                      1   \n",
       "6                8               sqrt                      2   \n",
       "7                8               sqrt                      2   \n",
       "8                8               sqrt                      2   \n",
       "9                8               sqrt                      2   \n",
       "10               8               sqrt                      2   \n",
       "11               8               sqrt                      2   \n",
       "\n",
       "   param_min_samples_split param_n_estimators  \\\n",
       "0                        2                 15   \n",
       "1                        2                 20   \n",
       "2                        2                 30   \n",
       "3                        4                 15   \n",
       "4                        4                 20   \n",
       "5                        4                 30   \n",
       "6                        2                 15   \n",
       "7                        2                 20   \n",
       "8                        2                 30   \n",
       "9                        4                 15   \n",
       "10                       4                 20   \n",
       "11                       4                 30   \n",
       "\n",
       "                                               params  ...  mean_test_score  \\\n",
       "0   {'max_depth': 8, 'max_features': 'sqrt', 'min_...  ...         0.958423   \n",
       "1   {'max_depth': 8, 'max_features': 'sqrt', 'min_...  ...         0.963237   \n",
       "2   {'max_depth': 8, 'max_features': 'sqrt', 'min_...  ...         0.965120   \n",
       "3   {'max_depth': 8, 'max_features': 'sqrt', 'min_...  ...         0.957168   \n",
       "4   {'max_depth': 8, 'max_features': 'sqrt', 'min_...  ...         0.961981   \n",
       "5   {'max_depth': 8, 'max_features': 'sqrt', 'min_...  ...         0.963725   \n",
       "6   {'max_depth': 8, 'max_features': 'sqrt', 'min_...  ...         0.957865   \n",
       "7   {'max_depth': 8, 'max_features': 'sqrt', 'min_...  ...         0.962958   \n",
       "8   {'max_depth': 8, 'max_features': 'sqrt', 'min_...  ...         0.964841   \n",
       "9   {'max_depth': 8, 'max_features': 'sqrt', 'min_...  ...         0.957865   \n",
       "10  {'max_depth': 8, 'max_features': 'sqrt', 'min_...  ...         0.962958   \n",
       "11  {'max_depth': 8, 'max_features': 'sqrt', 'min_...  ...         0.964841   \n",
       "\n",
       "    std_test_score  rank_test_score  split0_train_score  split1_train_score  \\\n",
       "0         0.003855                9            0.966777            0.967824   \n",
       "1         0.004142                5            0.972532            0.974974   \n",
       "2         0.004013                1            0.974625            0.975846   \n",
       "3         0.003791               12            0.967300            0.968783   \n",
       "4         0.005650                8            0.971922            0.973317   \n",
       "5         0.004627                4            0.973230            0.975759   \n",
       "6         0.002678               10            0.965033            0.968870   \n",
       "7         0.003942                6            0.967824            0.972968   \n",
       "8         0.002548                2            0.970701            0.974712   \n",
       "9         0.002678               10            0.965033            0.968870   \n",
       "10        0.003942                6            0.967824            0.972968   \n",
       "11        0.002548                2            0.970701            0.974712   \n",
       "\n",
       "    split2_train_score  split3_train_score  split4_train_score  \\\n",
       "0             0.966952            0.968870            0.967824   \n",
       "1             0.971486            0.972968            0.972445   \n",
       "2             0.974887            0.977503            0.976543   \n",
       "3             0.966516            0.968260            0.966952   \n",
       "4             0.970265            0.971922            0.971747   \n",
       "5             0.974015            0.976543            0.973055   \n",
       "6             0.965208            0.967998            0.965469   \n",
       "7             0.971486            0.973579            0.970614   \n",
       "8             0.975235            0.978200            0.973666   \n",
       "9             0.965208            0.967998            0.965469   \n",
       "10            0.971486            0.973579            0.970614   \n",
       "11            0.975235            0.978200            0.973666   \n",
       "\n",
       "    mean_train_score  std_train_score  \n",
       "0           0.967649         0.000748  \n",
       "1           0.972881         0.001153  \n",
       "2           0.975881         0.001062  \n",
       "3           0.967562         0.000838  \n",
       "4           0.971835         0.000968  \n",
       "5           0.974520         0.001392  \n",
       "6           0.966516         0.001596  \n",
       "7           0.971294         0.002028  \n",
       "8           0.974503         0.002425  \n",
       "9           0.966516         0.001596  \n",
       "10          0.971294         0.002028  \n",
       "11          0.974503         0.002425  \n",
       "\n",
       "[12 rows x 25 columns]"
      ]
     },
     "execution_count": 38,
     "metadata": {},
     "output_type": "execute_result"
    }
   ],
   "source": [
    "# Results for each search\n",
    "\n",
    "pd.DataFrame(grid_search_anxiety.cv_results_)"
   ]
  },
  {
   "cell_type": "code",
   "execution_count": 39,
   "id": "e32e23a1",
   "metadata": {},
   "outputs": [
    {
     "name": "stdout",
     "output_type": "stream",
     "text": [
      "0.9614230903383326\n"
     ]
    }
   ],
   "source": [
    "# Checking the result with cross validation.\n",
    "\n",
    "clf = RandomForestClassifier(random_state=0, max_depth=8, \n",
    "                             min_samples_leaf=1, min_samples_split=4, n_estimators=30, bootstrap=True, oob_score=True)\n",
    "cross_val_scores_anx = cross_val_score(clf, X_train_anx_bal, y_train_anx_bal, cv=5)\n",
    "print(np.mean(cross_val_scores_anx))"
   ]
  },
  {
   "cell_type": "markdown",
   "id": "e3c1626d",
   "metadata": {},
   "source": [
    "#### Principal Component Analysis"
   ]
  },
  {
   "cell_type": "code",
   "execution_count": 60,
   "id": "88d35055",
   "metadata": {},
   "outputs": [],
   "source": [
    "# First, choosing the nr of components\n",
    "\n",
    "pca_anx = PCA(n_components=26)\n",
    "pca_anx_fit = pca_anx.fit(X_anx_bal_train_scaled)"
   ]
  },
  {
   "cell_type": "code",
   "execution_count": 62,
   "id": "9364bb47",
   "metadata": {},
   "outputs": [
    {
     "data": {
      "image/png": "[encoded data removed]",
      "text/plain": [
       "<Figure size 432x288 with 1 Axes>"
      ]
     },
     "metadata": {
      "needs_background": "light"
     },
     "output_type": "display_data"
    }
   ],
   "source": [
    "# To see which component is how important\n",
    "\n",
    "PC_values_anx = np.arange(pca_anx.n_components_) + 1\n",
    "plt.plot(PC_values_anx, pca_anx.explained_variance_ratio_, 'o-', linewidth=2, color='purple')\n",
    "plt.title('PCA Anxiety')\n",
    "plt.xlabel('Principal Component')\n",
    "plt.ylabel('Variance Explained')\n",
    "plt.show()"
   ]
  },
  {
   "cell_type": "code",
   "execution_count": 42,
   "id": "9b540878",
   "metadata": {},
   "outputs": [],
   "source": [
    "# Another way, choosing how much information to leave from original\n",
    "\n",
    "std_scaler = StandardScaler()\n",
    "X_pca_anx_scaled = std_scaler.fit_transform(X_anx_bal)"
   ]
  },
  {
   "cell_type": "code",
   "execution_count": 43,
   "id": "8f205434",
   "metadata": {},
   "outputs": [],
   "source": [
    "X_train_pca_anx, X_test_pca_anx, y_train_pca_anx, y_test_pca_anx = train_test_split(X_pca_anx_scaled, y_anx_bal, test_size = 0.20, random_state = 123)"
   ]
  },
  {
   "cell_type": "code",
   "execution_count": 44,
   "id": "1f441a15",
   "metadata": {},
   "outputs": [],
   "source": [
    "# Another way\n",
    "# Set the variance %.\n",
    "# Leave 95% of information.\n",
    "\n",
    "pca_anxi = PCA(.95)"
   ]
  },
  {
   "cell_type": "code",
   "execution_count": 45,
   "id": "19e03e08",
   "metadata": {},
   "outputs": [],
   "source": [
    "# Fit the training set.\n",
    "\n",
    "X_pca_anx_fitted = pca_anxi.fit_transform(X_train_pca_anx)"
   ]
  },
  {
   "cell_type": "code",
   "execution_count": 46,
   "id": "74ca0d0f",
   "metadata": {},
   "outputs": [
    {
     "data": {
      "text/plain": [
       "(14335, 26)"
      ]
     },
     "execution_count": 46,
     "metadata": {},
     "output_type": "execute_result"
    }
   ],
   "source": [
    "# How many principal components to get 95% variance?\n",
    "\n",
    "X_pca_anx_fitted.shape"
   ]
  },
  {
   "cell_type": "code",
   "execution_count": 47,
   "id": "7c741652",
   "metadata": {},
   "outputs": [
    {
     "data": {
      "text/plain": [
       "array([0.32028405, 0.07525546, 0.05876731, 0.04510363, 0.03566554,\n",
       "       0.03406906, 0.03151319, 0.03037291, 0.02806351, 0.02604781,\n",
       "       0.0245425 , 0.0237329 , 0.02206708, 0.02107084, 0.01858111,\n",
       "       0.01782587, 0.01754116, 0.01627295, 0.01568442, 0.01506765,\n",
       "       0.01471558, 0.01448717, 0.01389415, 0.01303875, 0.01224834,\n",
       "       0.01045688])"
      ]
     },
     "execution_count": 47,
     "metadata": {},
     "output_type": "execute_result"
    }
   ],
   "source": [
    "# How much variance explained by which component\n",
    "\n",
    "pca_anxi.explained_variance_ratio_"
   ]
  },
  {
   "cell_type": "code",
   "execution_count": 48,
   "id": "78f64045",
   "metadata": {},
   "outputs": [],
   "source": [
    "# Model after pca\n",
    "\n",
    "X_train_pca_anx_, X_test_pca_anx_, y_train_pca_anx_, y_test_pca_anx_ = train_test_split(X_pca_anx_fitted, y_train_pca_anx, test_size = 0.20, random_state = 123)"
   ]
  },
  {
   "cell_type": "code",
   "execution_count": 49,
   "id": "40a267b1",
   "metadata": {},
   "outputs": [
    {
     "data": {
      "text/plain": [
       "0.9487268922218347"
      ]
     },
     "execution_count": 49,
     "metadata": {},
     "output_type": "execute_result"
    }
   ],
   "source": [
    "model = RandomForestClassifier(max_depth=8, n_estimators=30, random_state=77, bootstrap=True, oob_score=True)\n",
    "model.fit(X_train_pca_anx_, y_train_pca_anx_)\n",
    "model.score(X_test_pca_anx_, y_test_pca_anx_)"
   ]
  },
  {
   "cell_type": "markdown",
   "id": "b429c867",
   "metadata": {},
   "source": [
    "#### Feature importance"
   ]
  },
  {
   "cell_type": "code",
   "execution_count": 50,
   "id": "35a6d000",
   "metadata": {},
   "outputs": [],
   "source": [
    "feature_names_anxiety = X_train_anx_bal.columns\n",
    "feature_names_anxiety = list(feature_names_anxiety)"
   ]
  },
  {
   "cell_type": "code",
   "execution_count": 51,
   "id": "2d5b5031",
   "metadata": {},
   "outputs": [
    {
     "data": {
      "text/plain": [
       "RandomForestClassifier(max_depth=8, min_samples_split=4, n_estimators=30,\n",
       "                       oob_score=True, random_state=0)"
      ]
     },
     "execution_count": 51,
     "metadata": {},
     "output_type": "execute_result"
    }
   ],
   "source": [
    "clf.fit(X_train_anx_bal, y_train_anx_bal)"
   ]
  },
  {
   "cell_type": "code",
   "execution_count": 52,
   "id": "b6b0cbbf",
   "metadata": {},
   "outputs": [
    {
     "data": {
      "text/html": [
       "<div>\n",
       "<style scoped>\n",
       "    .dataframe tbody tr th:only-of-type {\n",
       "        vertical-align: middle;\n",
       "    }\n",
       "\n",
       "    .dataframe tbody tr th {\n",
       "        vertical-align: top;\n",
       "    }\n",
       "\n",
       "    .dataframe thead th {\n",
       "        text-align: right;\n",
       "    }\n",
       "</style>\n",
       "<table border=\"1\" class=\"dataframe\">\n",
       "  <thead>\n",
       "    <tr style=\"text-align: right;\">\n",
       "      <th></th>\n",
       "      <th>columns_name</th>\n",
       "      <th>score_feature_importance</th>\n",
       "    </tr>\n",
       "  </thead>\n",
       "  <tbody>\n",
       "    <tr>\n",
       "      <th>3</th>\n",
       "      <td>Q9A</td>\n",
       "      <td>0.206668</td>\n",
       "    </tr>\n",
       "    <tr>\n",
       "      <th>6</th>\n",
       "      <td>Q20A</td>\n",
       "      <td>0.118263</td>\n",
       "    </tr>\n",
       "    <tr>\n",
       "      <th>12</th>\n",
       "      <td>Q40A</td>\n",
       "      <td>0.113444</td>\n",
       "    </tr>\n",
       "    <tr>\n",
       "      <th>0</th>\n",
       "      <td>Q2A</td>\n",
       "      <td>0.070382</td>\n",
       "    </tr>\n",
       "    <tr>\n",
       "      <th>10</th>\n",
       "      <td>Q30A</td>\n",
       "      <td>0.069439</td>\n",
       "    </tr>\n",
       "    <tr>\n",
       "      <th>2</th>\n",
       "      <td>Q7A</td>\n",
       "      <td>0.065735</td>\n",
       "    </tr>\n",
       "    <tr>\n",
       "      <th>8</th>\n",
       "      <td>Q25A</td>\n",
       "      <td>0.060568</td>\n",
       "    </tr>\n",
       "    <tr>\n",
       "      <th>11</th>\n",
       "      <td>Q36A</td>\n",
       "      <td>0.060068</td>\n",
       "    </tr>\n",
       "    <tr>\n",
       "      <th>9</th>\n",
       "      <td>Q28A</td>\n",
       "      <td>0.051621</td>\n",
       "    </tr>\n",
       "    <tr>\n",
       "      <th>13</th>\n",
       "      <td>Q41A</td>\n",
       "      <td>0.045663</td>\n",
       "    </tr>\n",
       "    <tr>\n",
       "      <th>5</th>\n",
       "      <td>Q19A</td>\n",
       "      <td>0.028605</td>\n",
       "    </tr>\n",
       "    <tr>\n",
       "      <th>1</th>\n",
       "      <td>Q4A</td>\n",
       "      <td>0.027770</td>\n",
       "    </tr>\n",
       "    <tr>\n",
       "      <th>4</th>\n",
       "      <td>Q15A</td>\n",
       "      <td>0.027470</td>\n",
       "    </tr>\n",
       "    <tr>\n",
       "      <th>29</th>\n",
       "      <td>emotional_stability</td>\n",
       "      <td>0.016728</td>\n",
       "    </tr>\n",
       "    <tr>\n",
       "      <th>7</th>\n",
       "      <td>Q23A</td>\n",
       "      <td>0.010735</td>\n",
       "    </tr>\n",
       "    <tr>\n",
       "      <th>25</th>\n",
       "      <td>severeness_level_depression</td>\n",
       "      <td>0.007978</td>\n",
       "    </tr>\n",
       "    <tr>\n",
       "      <th>28</th>\n",
       "      <td>conscientiousness</td>\n",
       "      <td>0.005008</td>\n",
       "    </tr>\n",
       "    <tr>\n",
       "      <th>18</th>\n",
       "      <td>age</td>\n",
       "      <td>0.003028</td>\n",
       "    </tr>\n",
       "    <tr>\n",
       "      <th>26</th>\n",
       "      <td>extraversion</td>\n",
       "      <td>0.001722</td>\n",
       "    </tr>\n",
       "    <tr>\n",
       "      <th>30</th>\n",
       "      <td>openness_to_experiences</td>\n",
       "      <td>0.001585</td>\n",
       "    </tr>\n",
       "    <tr>\n",
       "      <th>27</th>\n",
       "      <td>agreeableness</td>\n",
       "      <td>0.001242</td>\n",
       "    </tr>\n",
       "    <tr>\n",
       "      <th>24</th>\n",
       "      <td>familysize</td>\n",
       "      <td>0.001225</td>\n",
       "    </tr>\n",
       "    <tr>\n",
       "      <th>20</th>\n",
       "      <td>religion</td>\n",
       "      <td>0.001139</td>\n",
       "    </tr>\n",
       "    <tr>\n",
       "      <th>22</th>\n",
       "      <td>race</td>\n",
       "      <td>0.001033</td>\n",
       "    </tr>\n",
       "    <tr>\n",
       "      <th>14</th>\n",
       "      <td>education</td>\n",
       "      <td>0.000629</td>\n",
       "    </tr>\n",
       "    <tr>\n",
       "      <th>21</th>\n",
       "      <td>orientation</td>\n",
       "      <td>0.000543</td>\n",
       "    </tr>\n",
       "    <tr>\n",
       "      <th>15</th>\n",
       "      <td>urban</td>\n",
       "      <td>0.000515</td>\n",
       "    </tr>\n",
       "    <tr>\n",
       "      <th>23</th>\n",
       "      <td>voted</td>\n",
       "      <td>0.000398</td>\n",
       "    </tr>\n",
       "    <tr>\n",
       "      <th>17</th>\n",
       "      <td>engnat</td>\n",
       "      <td>0.000337</td>\n",
       "    </tr>\n",
       "    <tr>\n",
       "      <th>19</th>\n",
       "      <td>hand</td>\n",
       "      <td>0.000268</td>\n",
       "    </tr>\n",
       "    <tr>\n",
       "      <th>16</th>\n",
       "      <td>gender</td>\n",
       "      <td>0.000193</td>\n",
       "    </tr>\n",
       "  </tbody>\n",
       "</table>\n",
       "</div>"
      ],
      "text/plain": [
       "                   columns_name  score_feature_importance\n",
       "3                           Q9A                  0.206668\n",
       "6                          Q20A                  0.118263\n",
       "12                         Q40A                  0.113444\n",
       "0                           Q2A                  0.070382\n",
       "10                         Q30A                  0.069439\n",
       "2                           Q7A                  0.065735\n",
       "8                          Q25A                  0.060568\n",
       "11                         Q36A                  0.060068\n",
       "9                          Q28A                  0.051621\n",
       "13                         Q41A                  0.045663\n",
       "5                          Q19A                  0.028605\n",
       "1                           Q4A                  0.027770\n",
       "4                          Q15A                  0.027470\n",
       "29          emotional_stability                  0.016728\n",
       "7                          Q23A                  0.010735\n",
       "25  severeness_level_depression                  0.007978\n",
       "28            conscientiousness                  0.005008\n",
       "18                          age                  0.003028\n",
       "26                 extraversion                  0.001722\n",
       "30      openness_to_experiences                  0.001585\n",
       "27                agreeableness                  0.001242\n",
       "24                   familysize                  0.001225\n",
       "20                     religion                  0.001139\n",
       "22                         race                  0.001033\n",
       "14                    education                  0.000629\n",
       "21                  orientation                  0.000543\n",
       "15                        urban                  0.000515\n",
       "23                        voted                  0.000398\n",
       "17                       engnat                  0.000337\n",
       "19                         hand                  0.000268\n",
       "16                       gender                  0.000193"
      ]
     },
     "execution_count": 52,
     "metadata": {},
     "output_type": "execute_result"
    }
   ],
   "source": [
    "anxiety_feature_df = pd.DataFrame(list(zip(feature_names_anxiety, clf.feature_importances_)))\n",
    "anxiety_feature_df.columns = ['columns_name', 'score_feature_importance']\n",
    "anxiety_feature_df.sort_values(by=['score_feature_importance'], ascending = False)"
   ]
  },
  {
   "cell_type": "markdown",
   "id": "9fc1038f",
   "metadata": {},
   "source": [
    "#### Model with selected features"
   ]
  },
  {
   "cell_type": "code",
   "execution_count": 53,
   "id": "7b4aa820",
   "metadata": {},
   "outputs": [],
   "source": [
    "final_features_anxiety = anxiety_data_balanced[[\"Q9A\", \"Q40A\", \"Q20A\", \"Q2A\", \"Q30A\", \"Q36A\", \"Q28A\", \"Q7A\", \"Q25A\", \"Q41A\", \"Q19A\", \"Q4A\", \"Q15A\", \"emotional_stability\", \"severeness_level_depression\", \"Q23A\", \"conscientiousness\", \"age\"]]\n",
    "y_anx_bal = anxiety_data_balanced[\"severeness_level_anxiety\"]"
   ]
  },
  {
   "cell_type": "code",
   "execution_count": 54,
   "id": "78649d94",
   "metadata": {},
   "outputs": [],
   "source": [
    "X_train_anx_f, X_test_anx_f, y_train_anx_f, y_test_anx_f = train_test_split(final_features_anxiety, y_anx_bal, test_size = 0.20, random_state = 123)\n"
   ]
  },
  {
   "cell_type": "code",
   "execution_count": 55,
   "id": "28a46dfe",
   "metadata": {},
   "outputs": [
    {
     "data": {
      "text/plain": [
       "array([0.9689571 , 0.96093478, 0.96093478, 0.95674922, 0.96756191])"
      ]
     },
     "execution_count": 55,
     "metadata": {},
     "output_type": "execute_result"
    }
   ],
   "source": [
    "# I choose random forest as this was the model so far. I will use the parameters from the grid search.\n",
    "\n",
    "clf = RandomForestClassifier(max_depth=8, n_estimators=30, random_state=0, bootstrap=True, oob_score=True)\n",
    "cross_val_scores_anx_f = cross_val_score(clf, X_train_anx_f, y_train_anx_f, cv=5)\n",
    "cross_val_scores_anx_f"
   ]
  },
  {
   "cell_type": "code",
   "execution_count": 56,
   "id": "54436ca5",
   "metadata": {},
   "outputs": [
    {
     "data": {
      "text/plain": [
       "0.9630275549354727"
      ]
     },
     "execution_count": 56,
     "metadata": {},
     "output_type": "execute_result"
    }
   ],
   "source": [
    "np.mean(cross_val_scores_anx_f)"
   ]
  },
  {
   "cell_type": "markdown",
   "id": "ad14ec2e",
   "metadata": {},
   "source": [
    "### Conclusion"
   ]
  },
  {
   "cell_type": "code",
   "execution_count": 57,
   "id": "4c9b0e03",
   "metadata": {},
   "outputs": [],
   "source": [
    "# Models perform better after balancing. Logistic regression and KNN even too good. I will continue with decision\n",
    "# tree and random forest.\n",
    "# I will keep the down and up sampling for further models.\n",
    "# The best one is random forest with cross validation and after grid search and feature selection.\n",
    "# The model worked also very good after PCA with random forest.\n",
    "# I could even use smaller parameters for grid search?\n",
    "\n",
    "\n",
    "# 3 most important features: Q9, Q40, Q20\n",
    "# Q23 was separately from others.\n",
    "# Most important personality features: emotional stability (and conscientiousness)\n",
    "# Most important demographic: age\n",
    "\n",
    "# Q9:  I found myself in situations that made me so anxious I was most relieved when they ended.\n",
    "# Q40: I was worried about situations in which I might panic and make a fool of myself.\n",
    "# Q20: I felt scared without any good reason."
   ]
  }
 ],
 "metadata": {
  "kernelspec": {
   "display_name": "Python 3 (ipykernel)",
   "language": "python",
   "name": "python3"
  },
  "language_info": {
   "codemirror_mode": {
    "name": "ipython",
    "version": 3
   },
   "file_extension": ".py",
   "mimetype": "text/x-python",
   "name": "python",
   "nbconvert_exporter": "python",
   "pygments_lexer": "ipython3",
   "version": "3.10.1"
  },
  "toc": {
   "base_numbering": 1,
   "nav_menu": {},
   "number_sections": true,
   "sideBar": true,
   "skip_h1_title": false,
   "title_cell": "Table of Contents",
   "title_sidebar": "Contents",
   "toc_cell": false,
   "toc_position": {},
   "toc_section_display": true,
   "toc_window_display": true
  }
 },
 "nbformat": 4,
 "nbformat_minor": 5
}
