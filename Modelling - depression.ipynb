{
 "cells": [
  {
   "cell_type": "markdown",
   "id": "088aaa71",
   "metadata": {},
   "source": [
    "# Modelling - anxiety"
   ]
  },
  {
   "cell_type": "code",
   "execution_count": 77,
   "id": "a264a80d",
   "metadata": {},
   "outputs": [],
   "source": [
    "import pandas as pd\n",
    "import numpy as np\n",
    "\n",
    "import matplotlib.pyplot as plt\n",
    "import seaborn as sns\n",
    "\n",
    "from sklearn.model_selection import train_test_split\n",
    "from sklearn.preprocessing import StandardScaler\n",
    "from sklearn.model_selection import cross_val_score\n",
    "from sklearn.model_selection import cross_val_predict\n",
    "\n",
    "from sklearn.linear_model import LogisticRegression\n",
    "from sklearn.neighbors import KNeighborsClassifier\n",
    "from sklearn.tree import DecisionTreeClassifier\n",
    "from sklearn.ensemble import RandomForestClassifier\n",
    "from sklearn.multiclass import OneVsRestClassifier\n",
    "\n",
    "from sklearn.metrics import accuracy_score, precision_score, recall_score, confusion_matrix, classification_report\n",
    "from sklearn.metrics import plot_confusion_matrix\n",
    "from sklearn.tree import plot_tree\n",
    "from sklearn.model_selection import GridSearchCV\n",
    "from imblearn.over_sampling import SMOTE\n",
    "from sklearn.decomposition import PCA\n",
    "from sklearn.metrics import roc_curve, auc\n",
    "from sklearn.metrics import roc_auc_score\n",
    "from sklearn import metrics\n",
    "from sklearn import svm\n",
    "from sklearn.preprocessing import label_binarize\n",
    "from itertools import cycle\n"
   ]
  },
  {
   "cell_type": "code",
   "execution_count": 78,
   "id": "698f661f",
   "metadata": {},
   "outputs": [],
   "source": [
    "depression_data = pd.read_csv(\"depression_data.csv\")"
   ]
  },
  {
   "cell_type": "markdown",
   "id": "ca59c47b",
   "metadata": {},
   "source": [
    "### I will do the first model for depression, without balancing. To see how it is.\n"
   ]
  },
  {
   "cell_type": "markdown",
   "id": "24a55822",
   "metadata": {},
   "source": [
    "#### X/y split"
   ]
  },
  {
   "cell_type": "code",
   "execution_count": 79,
   "id": "5fcdc81b",
   "metadata": {},
   "outputs": [],
   "source": [
    "X_depression = depression_data.drop(\"severeness_level_depression\", axis = 1)\n",
    "y_depression = depression_data[\"severeness_level_depression\"]"
   ]
  },
  {
   "cell_type": "code",
   "execution_count": 80,
   "id": "9c422a28",
   "metadata": {},
   "outputs": [],
   "source": [
    "X_train_dep, X_test_dep, y_train_dep, y_test_dep = train_test_split(X_depression, y_depression, test_size = 0.20, random_state = 123)"
   ]
  },
  {
   "cell_type": "code",
   "execution_count": 81,
   "id": "2aa36e4f",
   "metadata": {},
   "outputs": [],
   "source": [
    "# Standardizing the dataframe.\n",
    "\n",
    "std_scaler = StandardScaler().fit(X_train_dep)\n",
    "X_depression_train_scaled = std_scaler.transform(X_train_dep)\n",
    "X_depression_test_scaled = std_scaler.transform(X_test_dep)"
   ]
  },
  {
   "cell_type": "markdown",
   "id": "95bed453",
   "metadata": {},
   "source": [
    "#### Logistic regression"
   ]
  },
  {
   "cell_type": "code",
   "execution_count": 82,
   "id": "03678327",
   "metadata": {},
   "outputs": [
    {
     "data": {
      "text/html": [
       "<div>\n",
       "<style scoped>\n",
       "    .dataframe tbody tr th:only-of-type {\n",
       "        vertical-align: middle;\n",
       "    }\n",
       "\n",
       "    .dataframe tbody tr th {\n",
       "        vertical-align: top;\n",
       "    }\n",
       "\n",
       "    .dataframe thead th {\n",
       "        text-align: right;\n",
       "    }\n",
       "</style>\n",
       "<table border=\"1\" class=\"dataframe\">\n",
       "  <thead>\n",
       "    <tr style=\"text-align: right;\">\n",
       "      <th></th>\n",
       "      <th>Error_metric</th>\n",
       "      <th>Train</th>\n",
       "      <th>Test</th>\n",
       "    </tr>\n",
       "  </thead>\n",
       "  <tbody>\n",
       "    <tr>\n",
       "      <th>0</th>\n",
       "      <td>Accuracy</td>\n",
       "      <td>0.998522</td>\n",
       "      <td>0.998365</td>\n",
       "    </tr>\n",
       "    <tr>\n",
       "      <th>1</th>\n",
       "      <td>Precision</td>\n",
       "      <td>0.998584</td>\n",
       "      <td>0.998790</td>\n",
       "    </tr>\n",
       "    <tr>\n",
       "      <th>2</th>\n",
       "      <td>Recall</td>\n",
       "      <td>0.997046</td>\n",
       "      <td>0.996577</td>\n",
       "    </tr>\n",
       "  </tbody>\n",
       "</table>\n",
       "</div>"
      ],
      "text/plain": [
       "  Error_metric     Train      Test\n",
       "0     Accuracy  0.998522  0.998365\n",
       "1    Precision  0.998584  0.998790\n",
       "2       Recall  0.997046  0.996577"
      ]
     },
     "metadata": {},
     "output_type": "display_data"
    },
    {
     "name": "stdout",
     "output_type": "stream",
     "text": [
      "Confusion matrix for the train set\n",
      "[[ 4834     0     0]\n",
      " [   13  5256    34]\n",
      " [    0     0 21670]]\n"
     ]
    },
    {
     "name": "stderr",
     "output_type": "stream",
     "text": [
      "/Users/miumiu/opt/anaconda3/envs/DA_ENV/lib/python3.10/site-packages/sklearn/utils/deprecation.py:87: FutureWarning: Function plot_confusion_matrix is deprecated; Function `plot_confusion_matrix` is deprecated in 1.0 and will be removed in 1.2. Use one of the class methods: ConfusionMatrixDisplay.from_predictions or ConfusionMatrixDisplay.from_estimator.\n",
      "  warnings.warn(msg, category=FutureWarning)\n"
     ]
    },
    {
     "data": {
      "image/png": "[encoded data removed]",
      "text/plain": [
       "<Figure size 432x288 with 2 Axes>"
      ]
     },
     "metadata": {
      "needs_background": "light"
     },
     "output_type": "display_data"
    },
    {
     "name": "stdout",
     "output_type": "stream",
     "text": [
      "\n",
      "\n",
      "Confusion matrix for the test set\n",
      "[[1236    0    0]\n",
      " [   2 1253   11]\n",
      " [   0    0 5450]]\n"
     ]
    },
    {
     "name": "stderr",
     "output_type": "stream",
     "text": [
      "/Users/miumiu/opt/anaconda3/envs/DA_ENV/lib/python3.10/site-packages/sklearn/utils/deprecation.py:87: FutureWarning: Function plot_confusion_matrix is deprecated; Function `plot_confusion_matrix` is deprecated in 1.0 and will be removed in 1.2. Use one of the class methods: ConfusionMatrixDisplay.from_predictions or ConfusionMatrixDisplay.from_estimator.\n",
      "  warnings.warn(msg, category=FutureWarning)\n"
     ]
    },
    {
     "data": {
      "image/png": "[encoded data removed]",
      "text/plain": [
       "<Figure size 432x288 with 2 Axes>"
      ]
     },
     "metadata": {
      "needs_background": "light"
     },
     "output_type": "display_data"
    }
   ],
   "source": [
    "log_model = LogisticRegression(multi_class='ovr') \n",
    "log_model.fit(X_depression_train_scaled, y_train_dep)\n",
    "y_pred_train_log_dep = log_model.predict(X_depression_train_scaled)\n",
    "y_pred_test_log_dep = log_model.predict(X_depression_test_scaled)\n",
    "\n",
    "performance_log_dep = pd.DataFrame({'Error_metric': ['Accuracy','Precision','Recall'],\n",
    "                               'Train': [accuracy_score(y_train_dep, y_pred_train_log_dep),\n",
    "                                         precision_score(y_train_dep, y_pred_train_log_dep, average = \"macro\"),\n",
    "                                         recall_score(y_train_dep, y_pred_train_log_dep, average = \"macro\")],\n",
    "                               'Test': [accuracy_score(y_test_dep, y_pred_test_log_dep),\n",
    "                                        precision_score(y_test_dep, y_pred_test_log_dep, average = \"macro\"),\n",
    "                                        recall_score(y_test_dep, y_pred_test_log_dep, average = \"macro\")]})\n",
    "\n",
    "display(performance_log_dep)\n",
    "\n",
    "print(\"Confusion matrix for the train set\")\n",
    "print(confusion_matrix(y_train_dep,y_pred_train_log_dep))\n",
    "plot_confusion_matrix(log_model,X_depression_train_scaled,y_train_dep, values_format = 'd')\n",
    "plt.show()\n",
    "\n",
    "print()\n",
    "print()\n",
    "\n",
    "print(\"Confusion matrix for the test set\")\n",
    "print(confusion_matrix(y_test_dep, y_pred_test_log_dep))\n",
    "plot_confusion_matrix(log_model,X_depression_test_scaled,y_test_dep, values_format = 'd')\n",
    "plt.show()"
   ]
  },
  {
   "cell_type": "markdown",
   "id": "d60db0b3",
   "metadata": {},
   "source": [
    "#### KNN"
   ]
  },
  {
   "cell_type": "code",
   "execution_count": 83,
   "id": "620d4a14",
   "metadata": {},
   "outputs": [
    {
     "data": {
      "text/html": [
       "<div>\n",
       "<style scoped>\n",
       "    .dataframe tbody tr th:only-of-type {\n",
       "        vertical-align: middle;\n",
       "    }\n",
       "\n",
       "    .dataframe tbody tr th {\n",
       "        vertical-align: top;\n",
       "    }\n",
       "\n",
       "    .dataframe thead th {\n",
       "        text-align: right;\n",
       "    }\n",
       "</style>\n",
       "<table border=\"1\" class=\"dataframe\">\n",
       "  <thead>\n",
       "    <tr style=\"text-align: right;\">\n",
       "      <th></th>\n",
       "      <th>Error_metric</th>\n",
       "      <th>Train</th>\n",
       "      <th>Test</th>\n",
       "    </tr>\n",
       "  </thead>\n",
       "  <tbody>\n",
       "    <tr>\n",
       "      <th>0</th>\n",
       "      <td>Accuracy</td>\n",
       "      <td>0.945735</td>\n",
       "      <td>0.915241</td>\n",
       "    </tr>\n",
       "    <tr>\n",
       "      <th>1</th>\n",
       "      <td>Precision</td>\n",
       "      <td>0.907806</td>\n",
       "      <td>0.852102</td>\n",
       "    </tr>\n",
       "    <tr>\n",
       "      <th>2</th>\n",
       "      <td>Recall</td>\n",
       "      <td>0.908081</td>\n",
       "      <td>0.856909</td>\n",
       "    </tr>\n",
       "  </tbody>\n",
       "</table>\n",
       "</div>"
      ],
      "text/plain": [
       "  Error_metric     Train      Test\n",
       "0     Accuracy  0.945735  0.915241\n",
       "1    Precision  0.907806  0.852102\n",
       "2       Recall  0.908081  0.856909"
      ]
     },
     "metadata": {},
     "output_type": "display_data"
    },
    {
     "name": "stdout",
     "output_type": "stream",
     "text": [
      "Confusion matrix for the train set\n",
      "[[ 4679   155     0]\n",
      " [  791  4101   411]\n",
      " [    7   362 21301]]\n"
     ]
    },
    {
     "name": "stderr",
     "output_type": "stream",
     "text": [
      "/Users/miumiu/opt/anaconda3/envs/DA_ENV/lib/python3.10/site-packages/sklearn/utils/deprecation.py:87: FutureWarning: Function plot_confusion_matrix is deprecated; Function `plot_confusion_matrix` is deprecated in 1.0 and will be removed in 1.2. Use one of the class methods: ConfusionMatrixDisplay.from_predictions or ConfusionMatrixDisplay.from_estimator.\n",
      "  warnings.warn(msg, category=FutureWarning)\n"
     ]
    },
    {
     "data": {
      "image/png": "[encoded data removed]",
      "text/plain": [
       "<Figure size 432x288 with 2 Axes>"
      ]
     },
     "metadata": {
      "needs_background": "light"
     },
     "output_type": "display_data"
    },
    {
     "name": "stdout",
     "output_type": "stream",
     "text": [
      "\n",
      "\n",
      "Confusion matrix for the test set\n",
      "[[1174   62    0]\n",
      " [ 283  826  157]\n",
      " [   1  171 5278]]\n"
     ]
    },
    {
     "name": "stderr",
     "output_type": "stream",
     "text": [
      "/Users/miumiu/opt/anaconda3/envs/DA_ENV/lib/python3.10/site-packages/sklearn/utils/deprecation.py:87: FutureWarning: Function plot_confusion_matrix is deprecated; Function `plot_confusion_matrix` is deprecated in 1.0 and will be removed in 1.2. Use one of the class methods: ConfusionMatrixDisplay.from_predictions or ConfusionMatrixDisplay.from_estimator.\n",
      "  warnings.warn(msg, category=FutureWarning)\n"
     ]
    },
    {
     "data": {
      "image/png": "[encoded data removed]",
      "text/plain": [
       "<Figure size 432x288 with 2 Axes>"
      ]
     },
     "metadata": {
      "needs_background": "light"
     },
     "output_type": "display_data"
    }
   ],
   "source": [
    "knn_model = KNeighborsClassifier(n_neighbors=5)\n",
    "knn_model.fit(X_depression_train_scaled, y_train_dep)\n",
    "y_pred_train_log_dep = knn_model.predict(X_depression_train_scaled)\n",
    "y_pred_test_log_dep = knn_model.predict(X_depression_test_scaled)\n",
    "\n",
    "performance_log_dep = pd.DataFrame({'Error_metric': ['Accuracy','Precision','Recall'],\n",
    "                               'Train': [accuracy_score(y_train_dep, y_pred_train_log_dep),\n",
    "                                         precision_score(y_train_dep, y_pred_train_log_dep, average = \"macro\"),\n",
    "                                         recall_score(y_train_dep, y_pred_train_log_dep, average = \"macro\")],\n",
    "                               'Test': [accuracy_score(y_test_dep, y_pred_test_log_dep),\n",
    "                                        precision_score(y_test_dep, y_pred_test_log_dep, average = \"macro\"),\n",
    "                                        recall_score(y_test_dep, y_pred_test_log_dep, average = \"macro\")]})\n",
    "\n",
    "display(performance_log_dep)\n",
    "\n",
    "print(\"Confusion matrix for the train set\")\n",
    "print(confusion_matrix(y_train_dep,y_pred_train_log_dep))\n",
    "plot_confusion_matrix(knn_model,X_depression_train_scaled,y_train_dep, values_format = 'd')\n",
    "plt.show()\n",
    "\n",
    "print()\n",
    "print()\n",
    "\n",
    "print(\"Confusion matrix for the test set\")\n",
    "print(confusion_matrix(y_test_dep, y_pred_test_log_dep))\n",
    "plot_confusion_matrix(knn_model,X_depression_test_scaled,y_test_dep, values_format = 'd')\n",
    "plt.show()"
   ]
  },
  {
   "cell_type": "markdown",
   "id": "e75f9fb1",
   "metadata": {},
   "source": [
    "#### Decision tree"
   ]
  },
  {
   "cell_type": "code",
   "execution_count": 84,
   "id": "a5b0ab71",
   "metadata": {},
   "outputs": [
    {
     "data": {
      "text/html": [
       "<div>\n",
       "<style scoped>\n",
       "    .dataframe tbody tr th:only-of-type {\n",
       "        vertical-align: middle;\n",
       "    }\n",
       "\n",
       "    .dataframe tbody tr th {\n",
       "        vertical-align: top;\n",
       "    }\n",
       "\n",
       "    .dataframe thead th {\n",
       "        text-align: right;\n",
       "    }\n",
       "</style>\n",
       "<table border=\"1\" class=\"dataframe\">\n",
       "  <thead>\n",
       "    <tr style=\"text-align: right;\">\n",
       "      <th></th>\n",
       "      <th>Error_metric</th>\n",
       "      <th>Train</th>\n",
       "      <th>Test</th>\n",
       "    </tr>\n",
       "  </thead>\n",
       "  <tbody>\n",
       "    <tr>\n",
       "      <th>0</th>\n",
       "      <td>Accuracy</td>\n",
       "      <td>0.850567</td>\n",
       "      <td>0.847711</td>\n",
       "    </tr>\n",
       "    <tr>\n",
       "      <th>1</th>\n",
       "      <td>Precision</td>\n",
       "      <td>0.779224</td>\n",
       "      <td>0.770413</td>\n",
       "    </tr>\n",
       "    <tr>\n",
       "      <th>2</th>\n",
       "      <td>Recall</td>\n",
       "      <td>0.745595</td>\n",
       "      <td>0.740907</td>\n",
       "    </tr>\n",
       "  </tbody>\n",
       "</table>\n",
       "</div>"
      ],
      "text/plain": [
       "  Error_metric     Train      Test\n",
       "0     Accuracy  0.850567  0.847711\n",
       "1    Precision  0.779224  0.770413\n",
       "2       Recall  0.745595  0.740907"
      ]
     },
     "metadata": {},
     "output_type": "display_data"
    },
    {
     "name": "stdout",
     "output_type": "stream",
     "text": [
      "Confusion matrix for the train set\n",
      "[[ 3334   526    44]\n",
      " [ 1421  3177  1083]\n",
      " [   79  1600 20543]]\n"
     ]
    },
    {
     "name": "stderr",
     "output_type": "stream",
     "text": [
      "/Users/miumiu/opt/anaconda3/envs/DA_ENV/lib/python3.10/site-packages/sklearn/utils/deprecation.py:87: FutureWarning: Function plot_confusion_matrix is deprecated; Function `plot_confusion_matrix` is deprecated in 1.0 and will be removed in 1.2. Use one of the class methods: ConfusionMatrixDisplay.from_predictions or ConfusionMatrixDisplay.from_estimator.\n",
      "  warnings.warn(msg, category=FutureWarning)\n"
     ]
    },
    {
     "data": {
      "image/png": "[encoded data removed]",
      "text/plain": [
       "<Figure size 432x288 with 2 Axes>"
      ]
     },
     "metadata": {
      "needs_background": "light"
     },
     "output_type": "display_data"
    },
    {
     "name": "stdout",
     "output_type": "stream",
     "text": [
      "\n",
      "\n",
      "Confusion matrix for the test set\n",
      "[[ 845  133   13]\n",
      " [ 373  754  295]\n",
      " [  18  379 5142]]\n"
     ]
    },
    {
     "name": "stderr",
     "output_type": "stream",
     "text": [
      "/Users/miumiu/opt/anaconda3/envs/DA_ENV/lib/python3.10/site-packages/sklearn/utils/deprecation.py:87: FutureWarning: Function plot_confusion_matrix is deprecated; Function `plot_confusion_matrix` is deprecated in 1.0 and will be removed in 1.2. Use one of the class methods: ConfusionMatrixDisplay.from_predictions or ConfusionMatrixDisplay.from_estimator.\n",
      "  warnings.warn(msg, category=FutureWarning)\n"
     ]
    },
    {
     "data": {
      "image/png": "[encoded data removed]",
      "text/plain": [
       "<Figure size 432x288 with 2 Axes>"
      ]
     },
     "metadata": {
      "needs_background": "light"
     },
     "output_type": "display_data"
    }
   ],
   "source": [
    "dt = DecisionTreeClassifier(max_depth=4)\n",
    "\n",
    "dt.fit(X_train_dep, y_train_dep)\n",
    "\n",
    "y_pred_train_dt_dep = dt.predict(X_train_dep)\n",
    "y_pred_test_dt_dep = dt.predict(X_test_dep)\n",
    "\n",
    "\n",
    "performance_df_dep = pd.DataFrame({'Error_metric': ['Accuracy','Precision','Recall'],\n",
    "                               'Train': [accuracy_score(y_train_dep, y_pred_train_dt_dep),\n",
    "                                         precision_score(y_train_dep, y_pred_train_dt_dep, average = \"macro\"),\n",
    "                                         recall_score(y_train_dep, y_pred_train_dt_dep, average = \"macro\")],\n",
    "                               'Test': [accuracy_score(y_test_dep, y_pred_test_dt_dep),\n",
    "                                        precision_score(y_test_dep, y_pred_test_dt_dep, average = \"macro\"),\n",
    "                                        recall_score(y_test_dep, y_pred_test_dt_dep, average = \"macro\")]})\n",
    "\n",
    "display(performance_df_dep)\n",
    "\n",
    "print(\"Confusion matrix for the train set\")\n",
    "print(confusion_matrix(y_train_dep,y_pred_train_dt_dep).T)\n",
    "plot_confusion_matrix(dt,X_train_dep,y_train_dep, values_format = 'd')\n",
    "plt.show()\n",
    "\n",
    "print()\n",
    "print()\n",
    "\n",
    "print(\"Confusion matrix for the test set\")\n",
    "print(confusion_matrix(y_test_dep,y_pred_test_dt_dep).T)\n",
    "plot_confusion_matrix(dt,X_test_dep,y_test_dep, values_format = 'd')\n",
    "plt.show()"
   ]
  },
  {
   "cell_type": "code",
   "execution_count": 85,
   "id": "a20502ed",
   "metadata": {},
   "outputs": [
    {
     "data": {
      "image/png": "[encoded data removed]",
      "text/plain": [
       "<Figure size 2448x1440 with 1 Axes>"
      ]
     },
     "metadata": {
      "needs_background": "light"
     },
     "output_type": "display_data"
    }
   ],
   "source": [
    "fig, axes = plt.subplots(nrows = 1,ncols = 1,figsize = (34,20))\n",
    "\n",
    "plot_tree(dt,filled = True, rounded=True,feature_names=X_depression.columns)\n",
    "plt.show()"
   ]
  },
  {
   "cell_type": "markdown",
   "id": "dea3cccf",
   "metadata": {},
   "source": [
    "#### Random forest"
   ]
  },
  {
   "cell_type": "code",
   "execution_count": 86,
   "id": "185c2e13",
   "metadata": {},
   "outputs": [
    {
     "name": "stdout",
     "output_type": "stream",
     "text": [
      "0.9105228408840821\n",
      "0.9079476861167002\n"
     ]
    }
   ],
   "source": [
    "# Applying the random forest.\n",
    "# max_features=\"sqrt\" - this didn't change the final scores.\n",
    "# Max_depth - less is better, if I have higher nr the scores are more than 90, maybe too good?\n",
    "# Nr of estimators - tried with 30, 20, 50, 40 - scores didn't change much (only for 20)\n",
    "\n",
    "clf = RandomForestClassifier(max_depth=4, n_estimators=30, random_state=0, bootstrap=True, oob_score=True)\n",
    "clf.fit(X_train_dep, y_train_dep)\n",
    "print(clf.score(X_train_dep, y_train_dep))\n",
    "print(clf.score(X_test_dep, y_test_dep))"
   ]
  },
  {
   "cell_type": "code",
   "execution_count": 87,
   "id": "147d3566",
   "metadata": {},
   "outputs": [
    {
     "data": {
      "text/plain": [
       "array([0.90616158, 0.90804778, 0.90646125, 0.90803333, 0.90677566])"
      ]
     },
     "execution_count": 87,
     "metadata": {},
     "output_type": "execute_result"
    }
   ],
   "source": [
    "# Cross validation, accuracy scores.\n",
    "\n",
    "clf = RandomForestClassifier(max_depth=4, n_estimators=30, random_state=0, bootstrap=True, oob_score=True)\n",
    "cross_val_scores_dep = cross_val_score(clf, X_train_dep, y_train_dep, cv=5)\n",
    "cross_val_scores_dep"
   ]
  },
  {
   "cell_type": "code",
   "execution_count": 88,
   "id": "dbea40c3",
   "metadata": {},
   "outputs": [
    {
     "data": {
      "text/plain": [
       "0.9070959217302901"
      ]
     },
     "execution_count": 88,
     "metadata": {},
     "output_type": "execute_result"
    }
   ],
   "source": [
    "np.mean(cross_val_scores_dep)"
   ]
  },
  {
   "cell_type": "markdown",
   "id": "0ba66da7",
   "metadata": {},
   "source": [
    "### Solving the imbalancement for depression"
   ]
  },
  {
   "cell_type": "code",
   "execution_count": 89,
   "id": "8b237328",
   "metadata": {},
   "outputs": [
    {
     "data": {
      "text/plain": [
       "3    27120\n",
       "2     6569\n",
       "1     6070\n",
       "Name: severeness_level_depression, dtype: int64"
      ]
     },
     "execution_count": 89,
     "metadata": {},
     "output_type": "execute_result"
    }
   ],
   "source": [
    "# Checking the imbalance\n",
    "# Classes: 1 (moderate), 2 (severe), 3 (extremely severe)\n",
    "\n",
    "y_depression.value_counts()"
   ]
  },
  {
   "cell_type": "code",
   "execution_count": 90,
   "id": "ad1caa4b",
   "metadata": {},
   "outputs": [],
   "source": [
    "# I will downsample class 3 and upsample class 1 to have the same amount of values than class 2.\n",
    "\n",
    "class_1_dep = depression_data[depression_data[\"severeness_level_depression\"] == 1]\n",
    "class_2_dep = depression_data[depression_data[\"severeness_level_depression\"] == 2]\n",
    "class_3_dep = depression_data[depression_data[\"severeness_level_depression\"] == 3]"
   ]
  },
  {
   "cell_type": "code",
   "execution_count": 91,
   "id": "d48e401c",
   "metadata": {},
   "outputs": [],
   "source": [
    "class_3_dep_down = class_3_dep.sample(len(class_2_dep,))"
   ]
  },
  {
   "cell_type": "code",
   "execution_count": 92,
   "id": "ea35bc79",
   "metadata": {},
   "outputs": [],
   "source": [
    "class_1_dep_up = class_1_dep.sample(len(class_2_dep), replace=True)"
   ]
  },
  {
   "cell_type": "code",
   "execution_count": 93,
   "id": "73a37544",
   "metadata": {},
   "outputs": [
    {
     "data": {
      "text/plain": [
       "3    6569\n",
       "2    6569\n",
       "1    6569\n",
       "Name: severeness_level_depression, dtype: int64"
      ]
     },
     "execution_count": 93,
     "metadata": {},
     "output_type": "execute_result"
    }
   ],
   "source": [
    "depression_data_balanced = pd.concat([class_1_dep_up, class_2_dep, class_3_dep_down], axis=0)\n",
    "\n",
    "depression_data_balanced = depression_data_balanced.sample(frac=1)\n",
    "depression_data_balanced[\"severeness_level_depression\"].value_counts() "
   ]
  },
  {
   "cell_type": "markdown",
   "id": "aed68db5",
   "metadata": {},
   "source": [
    "### Modelling with depression data, balanced"
   ]
  },
  {
   "cell_type": "code",
   "execution_count": 94,
   "id": "d12ac7cf",
   "metadata": {},
   "outputs": [],
   "source": [
    "X_dep_bal = depression_data_balanced.drop(\"severeness_level_depression\", axis = 1)\n",
    "y_dep_bal = depression_data_balanced[\"severeness_level_depression\"]"
   ]
  },
  {
   "cell_type": "code",
   "execution_count": 95,
   "id": "187f2cac",
   "metadata": {},
   "outputs": [],
   "source": [
    "X_train_dep_bal, X_test_dep_bal, y_train_dep_bal, y_test_dep_bal = train_test_split(X_dep_bal, y_dep_bal, test_size = 0.20, random_state = 123)\n",
    "\n"
   ]
  },
  {
   "cell_type": "code",
   "execution_count": 96,
   "id": "1cfe84cc",
   "metadata": {},
   "outputs": [],
   "source": [
    "# Standardizing the dataframe.\n",
    "\n",
    "std_scaler = StandardScaler().fit(X_train_dep_bal)\n",
    "X_dep_bal_train_scaled = std_scaler.transform(X_train_dep_bal)\n",
    "X_dep_bal_test_scaled = std_scaler.transform(X_test_dep_bal)"
   ]
  },
  {
   "cell_type": "markdown",
   "id": "e2649150",
   "metadata": {},
   "source": [
    "#### Logistic regression"
   ]
  },
  {
   "cell_type": "code",
   "execution_count": 97,
   "id": "aeb3c9a6",
   "metadata": {},
   "outputs": [
    {
     "data": {
      "text/html": [
       "<div>\n",
       "<style scoped>\n",
       "    .dataframe tbody tr th:only-of-type {\n",
       "        vertical-align: middle;\n",
       "    }\n",
       "\n",
       "    .dataframe tbody tr th {\n",
       "        vertical-align: top;\n",
       "    }\n",
       "\n",
       "    .dataframe thead th {\n",
       "        text-align: right;\n",
       "    }\n",
       "</style>\n",
       "<table border=\"1\" class=\"dataframe\">\n",
       "  <thead>\n",
       "    <tr style=\"text-align: right;\">\n",
       "      <th></th>\n",
       "      <th>Error_metric</th>\n",
       "      <th>Train</th>\n",
       "      <th>Test</th>\n",
       "    </tr>\n",
       "  </thead>\n",
       "  <tbody>\n",
       "    <tr>\n",
       "      <th>0</th>\n",
       "      <td>Accuracy</td>\n",
       "      <td>0.999112</td>\n",
       "      <td>0.998478</td>\n",
       "    </tr>\n",
       "    <tr>\n",
       "      <th>1</th>\n",
       "      <td>Precision</td>\n",
       "      <td>0.999113</td>\n",
       "      <td>0.998495</td>\n",
       "    </tr>\n",
       "    <tr>\n",
       "      <th>2</th>\n",
       "      <td>Recall</td>\n",
       "      <td>0.999109</td>\n",
       "      <td>0.998485</td>\n",
       "    </tr>\n",
       "  </tbody>\n",
       "</table>\n",
       "</div>"
      ],
      "text/plain": [
       "  Error_metric     Train      Test\n",
       "0     Accuracy  0.999112  0.998478\n",
       "1    Precision  0.999113  0.998495\n",
       "2       Recall  0.999109  0.998485"
      ]
     },
     "metadata": {},
     "output_type": "display_data"
    },
    {
     "name": "stdout",
     "output_type": "stream",
     "text": [
      "Confusion matrix for the train set\n",
      "[[5228    0    0]\n",
      " [   9 5225    5]\n",
      " [   0    0 5298]]\n"
     ]
    },
    {
     "name": "stderr",
     "output_type": "stream",
     "text": [
      "/Users/miumiu/opt/anaconda3/envs/DA_ENV/lib/python3.10/site-packages/sklearn/utils/deprecation.py:87: FutureWarning: Function plot_confusion_matrix is deprecated; Function `plot_confusion_matrix` is deprecated in 1.0 and will be removed in 1.2. Use one of the class methods: ConfusionMatrixDisplay.from_predictions or ConfusionMatrixDisplay.from_estimator.\n",
      "  warnings.warn(msg, category=FutureWarning)\n"
     ]
    },
    {
     "data": {
      "image/png": "[encoded data removed]",
      "text/plain": [
       "<Figure size 432x288 with 2 Axes>"
      ]
     },
     "metadata": {
      "needs_background": "light"
     },
     "output_type": "display_data"
    },
    {
     "name": "stdout",
     "output_type": "stream",
     "text": [
      "\n",
      "\n",
      "Confusion matrix for the test set\n",
      "[[1341    0    0]\n",
      " [   4 1325    1]\n",
      " [   0    1 1270]]\n"
     ]
    },
    {
     "name": "stderr",
     "output_type": "stream",
     "text": [
      "/Users/miumiu/opt/anaconda3/envs/DA_ENV/lib/python3.10/site-packages/sklearn/utils/deprecation.py:87: FutureWarning: Function plot_confusion_matrix is deprecated; Function `plot_confusion_matrix` is deprecated in 1.0 and will be removed in 1.2. Use one of the class methods: ConfusionMatrixDisplay.from_predictions or ConfusionMatrixDisplay.from_estimator.\n",
      "  warnings.warn(msg, category=FutureWarning)\n"
     ]
    },
    {
     "data": {
      "image/png": "[encoded data removed]",
      "text/plain": [
       "<Figure size 432x288 with 2 Axes>"
      ]
     },
     "metadata": {
      "needs_background": "light"
     },
     "output_type": "display_data"
    }
   ],
   "source": [
    "log_model = LogisticRegression(multi_class='ovr') \n",
    "log_model.fit(X_dep_bal_train_scaled, y_train_dep_bal)\n",
    "y_pred_train_log_dep_bal = log_model.predict(X_dep_bal_train_scaled)\n",
    "y_pred_test_log_dep_bal = log_model.predict(X_dep_bal_test_scaled)\n",
    "\n",
    "performance_log_dep_bal = pd.DataFrame({'Error_metric': ['Accuracy','Precision','Recall'],\n",
    "                               'Train': [accuracy_score(y_train_dep_bal, y_pred_train_log_dep_bal),\n",
    "                                         precision_score(y_train_dep_bal, y_pred_train_log_dep_bal, average = \"macro\"),\n",
    "                                         recall_score(y_train_dep_bal, y_pred_train_log_dep_bal, average = \"macro\")],\n",
    "                               'Test': [accuracy_score(y_test_dep_bal, y_pred_test_log_dep_bal),\n",
    "                                        precision_score(y_test_dep_bal, y_pred_test_log_dep_bal, average = \"macro\"),\n",
    "                                        recall_score(y_test_dep_bal, y_pred_test_log_dep_bal, average = \"macro\")]})\n",
    "\n",
    "display(performance_log_dep_bal)\n",
    "\n",
    "print(\"Confusion matrix for the train set\")\n",
    "print(confusion_matrix(y_train_dep_bal,y_pred_train_log_dep_bal))\n",
    "plot_confusion_matrix(log_model,X_dep_bal_train_scaled,y_train_dep_bal, values_format = 'd')\n",
    "plt.show()\n",
    "\n",
    "print()\n",
    "print()\n",
    "\n",
    "print(\"Confusion matrix for the test set\")\n",
    "print(confusion_matrix(y_test_dep_bal, y_pred_test_log_dep_bal))\n",
    "plot_confusion_matrix(log_model,X_dep_bal_test_scaled,y_test_dep_bal, values_format = 'd')\n",
    "plt.show()"
   ]
  },
  {
   "cell_type": "markdown",
   "id": "deb020aa",
   "metadata": {},
   "source": [
    "#### KNN"
   ]
  },
  {
   "cell_type": "code",
   "execution_count": 98,
   "id": "1ce83846",
   "metadata": {},
   "outputs": [
    {
     "data": {
      "text/html": [
       "<div>\n",
       "<style scoped>\n",
       "    .dataframe tbody tr th:only-of-type {\n",
       "        vertical-align: middle;\n",
       "    }\n",
       "\n",
       "    .dataframe tbody tr th {\n",
       "        vertical-align: top;\n",
       "    }\n",
       "\n",
       "    .dataframe thead th {\n",
       "        text-align: right;\n",
       "    }\n",
       "</style>\n",
       "<table border=\"1\" class=\"dataframe\">\n",
       "  <thead>\n",
       "    <tr style=\"text-align: right;\">\n",
       "      <th></th>\n",
       "      <th>Error_metric</th>\n",
       "      <th>Train</th>\n",
       "      <th>Test</th>\n",
       "    </tr>\n",
       "  </thead>\n",
       "  <tbody>\n",
       "    <tr>\n",
       "      <th>0</th>\n",
       "      <td>Accuracy</td>\n",
       "      <td>0.886140</td>\n",
       "      <td>0.844242</td>\n",
       "    </tr>\n",
       "    <tr>\n",
       "      <th>1</th>\n",
       "      <td>Precision</td>\n",
       "      <td>0.894013</td>\n",
       "      <td>0.858906</td>\n",
       "    </tr>\n",
       "    <tr>\n",
       "      <th>2</th>\n",
       "      <td>Recall</td>\n",
       "      <td>0.886212</td>\n",
       "      <td>0.843897</td>\n",
       "    </tr>\n",
       "  </tbody>\n",
       "</table>\n",
       "</div>"
      ],
      "text/plain": [
       "  Error_metric     Train      Test\n",
       "0     Accuracy  0.886140  0.844242\n",
       "1    Precision  0.894013  0.858906\n",
       "2       Recall  0.886212  0.843897"
      ]
     },
     "metadata": {},
     "output_type": "display_data"
    },
    {
     "name": "stdout",
     "output_type": "stream",
     "text": [
      "Confusion matrix for the train set\n",
      "[[5184   44    0]\n",
      " [1145 4088    6]\n",
      " [   6  594 4698]]\n"
     ]
    },
    {
     "name": "stderr",
     "output_type": "stream",
     "text": [
      "/Users/miumiu/opt/anaconda3/envs/DA_ENV/lib/python3.10/site-packages/sklearn/utils/deprecation.py:87: FutureWarning: Function plot_confusion_matrix is deprecated; Function `plot_confusion_matrix` is deprecated in 1.0 and will be removed in 1.2. Use one of the class methods: ConfusionMatrixDisplay.from_predictions or ConfusionMatrixDisplay.from_estimator.\n",
      "  warnings.warn(msg, category=FutureWarning)\n"
     ]
    },
    {
     "data": {
      "image/png": "[encoded data removed]",
      "text/plain": [
       "<Figure size 432x288 with 2 Axes>"
      ]
     },
     "metadata": {
      "needs_background": "light"
     },
     "output_type": "display_data"
    },
    {
     "name": "stdout",
     "output_type": "stream",
     "text": [
      "\n",
      "\n",
      "Confusion matrix for the test set\n",
      "[[1311   30    0]\n",
      " [ 385  942    3]\n",
      " [   0  196 1075]]\n"
     ]
    },
    {
     "name": "stderr",
     "output_type": "stream",
     "text": [
      "/Users/miumiu/opt/anaconda3/envs/DA_ENV/lib/python3.10/site-packages/sklearn/utils/deprecation.py:87: FutureWarning: Function plot_confusion_matrix is deprecated; Function `plot_confusion_matrix` is deprecated in 1.0 and will be removed in 1.2. Use one of the class methods: ConfusionMatrixDisplay.from_predictions or ConfusionMatrixDisplay.from_estimator.\n",
      "  warnings.warn(msg, category=FutureWarning)\n"
     ]
    },
    {
     "data": {
      "image/png": "[encoded data removed]",
      "text/plain": [
       "<Figure size 432x288 with 2 Axes>"
      ]
     },
     "metadata": {
      "needs_background": "light"
     },
     "output_type": "display_data"
    }
   ],
   "source": [
    "knn_model = KNeighborsClassifier(n_neighbors=6)\n",
    "knn_model.fit(X_dep_bal_train_scaled, y_train_dep_bal)\n",
    "y_pred_train_log_dep_bal = knn_model.predict(X_dep_bal_train_scaled)\n",
    "y_pred_test_log_dep_bal = knn_model.predict(X_dep_bal_test_scaled)\n",
    "\n",
    "performance_log_dep_bal = pd.DataFrame({'Error_metric': ['Accuracy','Precision','Recall'],\n",
    "                               'Train': [accuracy_score(y_train_dep_bal, y_pred_train_log_dep_bal),\n",
    "                                         precision_score(y_train_dep_bal, y_pred_train_log_dep_bal, average = \"macro\"),\n",
    "                                         recall_score(y_train_dep_bal, y_pred_train_log_dep_bal, average = \"macro\")],\n",
    "                               'Test': [accuracy_score(y_test_dep_bal, y_pred_test_log_dep_bal),\n",
    "                                        precision_score(y_test_dep_bal, y_pred_test_log_dep_bal, average = \"macro\"),\n",
    "                                        recall_score(y_test_dep_bal, y_pred_test_log_dep_bal, average = \"macro\")]})\n",
    "\n",
    "display(performance_log_dep_bal)\n",
    "\n",
    "print(\"Confusion matrix for the train set\")\n",
    "print(confusion_matrix(y_train_dep_bal,y_pred_train_log_dep_bal))\n",
    "plot_confusion_matrix(knn_model,X_dep_bal_train_scaled,y_train_dep_bal, values_format = 'd')\n",
    "plt.show()\n",
    "\n",
    "print()\n",
    "print()\n",
    "\n",
    "print(\"Confusion matrix for the test set\")\n",
    "print(confusion_matrix(y_test_dep_bal, y_pred_test_log_dep_bal))\n",
    "plot_confusion_matrix(knn_model,X_dep_bal_test_scaled,y_test_dep_bal, values_format = 'd')\n",
    "plt.show()"
   ]
  },
  {
   "cell_type": "markdown",
   "id": "586af2f0",
   "metadata": {},
   "source": [
    "#### Decision tree"
   ]
  },
  {
   "cell_type": "code",
   "execution_count": 99,
   "id": "8e427394",
   "metadata": {},
   "outputs": [
    {
     "data": {
      "text/html": [
       "<div>\n",
       "<style scoped>\n",
       "    .dataframe tbody tr th:only-of-type {\n",
       "        vertical-align: middle;\n",
       "    }\n",
       "\n",
       "    .dataframe tbody tr th {\n",
       "        vertical-align: top;\n",
       "    }\n",
       "\n",
       "    .dataframe thead th {\n",
       "        text-align: right;\n",
       "    }\n",
       "</style>\n",
       "<table border=\"1\" class=\"dataframe\">\n",
       "  <thead>\n",
       "    <tr style=\"text-align: right;\">\n",
       "      <th></th>\n",
       "      <th>Error_metric</th>\n",
       "      <th>Train</th>\n",
       "      <th>Test</th>\n",
       "    </tr>\n",
       "  </thead>\n",
       "  <tbody>\n",
       "    <tr>\n",
       "      <th>0</th>\n",
       "      <td>Accuracy</td>\n",
       "      <td>0.819854</td>\n",
       "      <td>0.805429</td>\n",
       "    </tr>\n",
       "    <tr>\n",
       "      <th>1</th>\n",
       "      <td>Precision</td>\n",
       "      <td>0.844094</td>\n",
       "      <td>0.833677</td>\n",
       "    </tr>\n",
       "    <tr>\n",
       "      <th>2</th>\n",
       "      <td>Recall</td>\n",
       "      <td>0.819898</td>\n",
       "      <td>0.805074</td>\n",
       "    </tr>\n",
       "  </tbody>\n",
       "</table>\n",
       "</div>"
      ],
      "text/plain": [
       "  Error_metric     Train      Test\n",
       "0     Accuracy  0.819854  0.805429\n",
       "1    Precision  0.844094  0.833677\n",
       "2       Recall  0.819898  0.805074"
      ]
     },
     "metadata": {},
     "output_type": "display_data"
    },
    {
     "name": "stdout",
     "output_type": "stream",
     "text": [
      "Confusion matrix for the train set\n",
      "[[4106  560   11]\n",
      " [1122 4572 1040]\n",
      " [   0  107 4247]]\n"
     ]
    },
    {
     "name": "stderr",
     "output_type": "stream",
     "text": [
      "/Users/miumiu/opt/anaconda3/envs/DA_ENV/lib/python3.10/site-packages/sklearn/utils/deprecation.py:87: FutureWarning: Function plot_confusion_matrix is deprecated; Function `plot_confusion_matrix` is deprecated in 1.0 and will be removed in 1.2. Use one of the class methods: ConfusionMatrixDisplay.from_predictions or ConfusionMatrixDisplay.from_estimator.\n",
      "  warnings.warn(msg, category=FutureWarning)\n"
     ]
    },
    {
     "data": {
      "image/png": "[encoded data removed]",
      "text/plain": [
       "<Figure size 432x288 with 2 Axes>"
      ]
     },
     "metadata": {
      "needs_background": "light"
     },
     "output_type": "display_data"
    },
    {
     "name": "stdout",
     "output_type": "stream",
     "text": [
      "\n",
      "\n",
      "Confusion matrix for the test set\n",
      "[[1045  150    2]\n",
      " [ 296 1143  282]\n",
      " [   0   37  987]]\n"
     ]
    },
    {
     "name": "stderr",
     "output_type": "stream",
     "text": [
      "/Users/miumiu/opt/anaconda3/envs/DA_ENV/lib/python3.10/site-packages/sklearn/utils/deprecation.py:87: FutureWarning: Function plot_confusion_matrix is deprecated; Function `plot_confusion_matrix` is deprecated in 1.0 and will be removed in 1.2. Use one of the class methods: ConfusionMatrixDisplay.from_predictions or ConfusionMatrixDisplay.from_estimator.\n",
      "  warnings.warn(msg, category=FutureWarning)\n"
     ]
    },
    {
     "data": {
      "image/png": "[encoded data removed]",
      "text/plain": [
       "<Figure size 432x288 with 2 Axes>"
      ]
     },
     "metadata": {
      "needs_background": "light"
     },
     "output_type": "display_data"
    }
   ],
   "source": [
    "dt = DecisionTreeClassifier(max_depth=5)\n",
    "\n",
    "dt.fit(X_train_dep_bal, y_train_dep_bal)\n",
    "\n",
    "y_pred_train_dt_dep_bal = dt.predict(X_train_dep_bal)\n",
    "y_pred_test_dt_dep_bal = dt.predict(X_test_dep_bal)\n",
    "\n",
    "\n",
    "performance_df_dep_bal = pd.DataFrame({'Error_metric': ['Accuracy','Precision','Recall'],\n",
    "                               'Train': [accuracy_score(y_train_dep_bal, y_pred_train_dt_dep_bal),\n",
    "                                         precision_score(y_train_dep_bal, y_pred_train_dt_dep_bal, average = \"macro\"),\n",
    "                                         recall_score(y_train_dep_bal, y_pred_train_dt_dep_bal, average = \"macro\")],\n",
    "                               'Test': [accuracy_score(y_test_dep_bal, y_pred_test_dt_dep_bal),\n",
    "                                        precision_score(y_test_dep_bal, y_pred_test_dt_dep_bal, average = \"macro\"),\n",
    "                                        recall_score(y_test_dep_bal, y_pred_test_dt_dep_bal, average = \"macro\")]})\n",
    "\n",
    "display(performance_df_dep_bal)\n",
    "\n",
    "print(\"Confusion matrix for the train set\")\n",
    "print(confusion_matrix(y_train_dep_bal,y_pred_train_dt_dep_bal).T)\n",
    "plot_confusion_matrix(dt,X_train_dep_bal,y_train_dep_bal, values_format = 'd')\n",
    "plt.show()\n",
    "\n",
    "print()\n",
    "print()\n",
    "\n",
    "print(\"Confusion matrix for the test set\")\n",
    "print(confusion_matrix(y_test_dep_bal,y_pred_test_dt_dep_bal).T)\n",
    "plot_confusion_matrix(dt,X_test_dep_bal,y_test_dep_bal, values_format = 'd')\n",
    "plt.show()"
   ]
  },
  {
   "cell_type": "markdown",
   "id": "4dd19476",
   "metadata": {},
   "source": [
    "#### Random forest"
   ]
  },
  {
   "cell_type": "code",
   "execution_count": 100,
   "id": "a80e9043",
   "metadata": {},
   "outputs": [
    {
     "name": "stdout",
     "output_type": "stream",
     "text": [
      "0.8875356803044719\n",
      "0.8703703703703703\n"
     ]
    },
    {
     "name": "stderr",
     "output_type": "stream",
     "text": [
      "/Users/miumiu/opt/anaconda3/envs/DA_ENV/lib/python3.10/site-packages/sklearn/ensemble/_forest.py:560: UserWarning: Some inputs do not have OOB scores. This probably means too few trees were used to compute any reliable OOB estimates.\n",
      "  warn(\n"
     ]
    }
   ],
   "source": [
    "clf = RandomForestClassifier(max_depth=4, n_estimators=25, random_state=0, bootstrap=True, oob_score=True)\n",
    "clf.fit(X_train_dep_bal, y_train_dep_bal)\n",
    "print(clf.score(X_train_dep_bal, y_train_dep_bal))\n",
    "print(clf.score(X_test_dep_bal, y_test_dep_bal))"
   ]
  },
  {
   "cell_type": "code",
   "execution_count": 101,
   "id": "accb73bc",
   "metadata": {},
   "outputs": [
    {
     "data": {
      "text/plain": [
       "array([1, 3, 3, ..., 1, 1, 1])"
      ]
     },
     "execution_count": 101,
     "metadata": {},
     "output_type": "execute_result"
    }
   ],
   "source": [
    "y_pred_dep = clf.predict(X_test_dep_bal)\n",
    "y_pred_dep"
   ]
  },
  {
   "cell_type": "code",
   "execution_count": 102,
   "id": "131c9221",
   "metadata": {},
   "outputs": [
    {
     "name": "stdout",
     "output_type": "stream",
     "text": [
      "              precision    recall  f1-score   support\n",
      "\n",
      "           1       0.90      0.86      0.88      1341\n",
      "           2       0.77      0.88      0.82      1330\n",
      "           3       0.98      0.87      0.92      1271\n",
      "\n",
      "    accuracy                           0.87      3942\n",
      "   macro avg       0.88      0.87      0.87      3942\n",
      "weighted avg       0.88      0.87      0.87      3942\n",
      "\n",
      "0.8703703703703703\n"
     ]
    }
   ],
   "source": [
    "# Getting the precision and recall scores\n",
    "\n",
    "print(classification_report(y_test_dep_bal,y_pred_dep))\n",
    "print(accuracy_score(y_test_dep_bal, y_pred_dep))"
   ]
  },
  {
   "cell_type": "code",
   "execution_count": 103,
   "id": "50dceff6",
   "metadata": {},
   "outputs": [
    {
     "name": "stderr",
     "output_type": "stream",
     "text": [
      "/Users/miumiu/opt/anaconda3/envs/DA_ENV/lib/python3.10/site-packages/sklearn/ensemble/_forest.py:560: UserWarning: Some inputs do not have OOB scores. This probably means too few trees were used to compute any reliable OOB estimates.\n",
      "  warn(\n",
      "/Users/miumiu/opt/anaconda3/envs/DA_ENV/lib/python3.10/site-packages/sklearn/ensemble/_forest.py:560: UserWarning: Some inputs do not have OOB scores. This probably means too few trees were used to compute any reliable OOB estimates.\n",
      "  warn(\n",
      "/Users/miumiu/opt/anaconda3/envs/DA_ENV/lib/python3.10/site-packages/sklearn/ensemble/_forest.py:560: UserWarning: Some inputs do not have OOB scores. This probably means too few trees were used to compute any reliable OOB estimates.\n",
      "  warn(\n",
      "/Users/miumiu/opt/anaconda3/envs/DA_ENV/lib/python3.10/site-packages/sklearn/ensemble/_forest.py:560: UserWarning: Some inputs do not have OOB scores. This probably means too few trees were used to compute any reliable OOB estimates.\n",
      "  warn(\n",
      "/Users/miumiu/opt/anaconda3/envs/DA_ENV/lib/python3.10/site-packages/sklearn/ensemble/_forest.py:560: UserWarning: Some inputs do not have OOB scores. This probably means too few trees were used to compute any reliable OOB estimates.\n",
      "  warn(\n"
     ]
    },
    {
     "data": {
      "text/plain": [
       "array([0.8943863 , 0.89692356, 0.89470346, 0.89343482, 0.88392008])"
      ]
     },
     "execution_count": 103,
     "metadata": {},
     "output_type": "execute_result"
    }
   ],
   "source": [
    "# Using cross validation. Receiving accuracy scores.\n",
    "\n",
    "clf = RandomForestClassifier(max_depth=4, n_estimators=25, random_state=0, bootstrap=True, oob_score=True)\n",
    "cross_val_scores_dep_bal = cross_val_score(clf, X_train_dep_bal, y_train_dep_bal, cv=5)\n",
    "cross_val_scores_dep_bal"
   ]
  },
  {
   "cell_type": "code",
   "execution_count": 104,
   "id": "2b8fbc9c",
   "metadata": {},
   "outputs": [
    {
     "data": {
      "text/plain": [
       "0.89267364414843"
      ]
     },
     "execution_count": 104,
     "metadata": {},
     "output_type": "execute_result"
    }
   ],
   "source": [
    "np.mean(cross_val_scores_dep_bal)"
   ]
  },
  {
   "cell_type": "markdown",
   "id": "d8ead1a1",
   "metadata": {},
   "source": [
    "#### Hyperparameters and grid search"
   ]
  },
  {
   "cell_type": "code",
   "execution_count": 105,
   "id": "d598b1bb",
   "metadata": {},
   "outputs": [],
   "source": [
    "# Setting parameter values for finding out which gives the best model.\n",
    "\n",
    "param_grid_dep = {\n",
    "    \"n_estimators\": [15, 20, 30],\n",
    "    \"min_samples_split\": [2, 4],\n",
    "    \"min_samples_leaf\" : [1, 2],\n",
    "    \"max_features\": [\"sqrt\"],\n",
    "    \"max_depth\": [8],\n",
    "    }\n",
    "clf = RandomForestClassifier(random_state=100)"
   ]
  },
  {
   "cell_type": "code",
   "execution_count": 106,
   "id": "14dfad09",
   "metadata": {},
   "outputs": [],
   "source": [
    "# Setting the grid search.\n",
    "\n",
    "grid_search_depression = GridSearchCV(clf, param_grid_dep, cv=5, return_train_score=True, n_jobs=-1,)"
   ]
  },
  {
   "cell_type": "code",
   "execution_count": 107,
   "id": "5188255a",
   "metadata": {},
   "outputs": [
    {
     "data": {
      "text/plain": [
       "GridSearchCV(cv=5, estimator=RandomForestClassifier(random_state=100),\n",
       "             n_jobs=-1,\n",
       "             param_grid={'max_depth': [8], 'max_features': ['sqrt'],\n",
       "                         'min_samples_leaf': [1, 2],\n",
       "                         'min_samples_split': [2, 4],\n",
       "                         'n_estimators': [15, 20, 30]},\n",
       "             return_train_score=True)"
      ]
     },
     "execution_count": 107,
     "metadata": {},
     "output_type": "execute_result"
    }
   ],
   "source": [
    "# Applying it.\n",
    "\n",
    "grid_search_depression.fit(X_train_dep_bal,y_train_dep_bal)"
   ]
  },
  {
   "cell_type": "code",
   "execution_count": 108,
   "id": "5ab2140f",
   "metadata": {},
   "outputs": [
    {
     "data": {
      "text/plain": [
       "{'max_depth': 8,\n",
       " 'max_features': 'sqrt',\n",
       " 'min_samples_leaf': 2,\n",
       " 'min_samples_split': 2,\n",
       " 'n_estimators': 30}"
      ]
     },
     "execution_count": 108,
     "metadata": {},
     "output_type": "execute_result"
    }
   ],
   "source": [
    "# Which are the best parameters.\n",
    "\n",
    "grid_search_depression.best_params_"
   ]
  },
  {
   "cell_type": "code",
   "execution_count": 109,
   "id": "27eeb3a6",
   "metadata": {},
   "outputs": [
    {
     "data": {
      "text/html": [
       "<div>\n",
       "<style scoped>\n",
       "    .dataframe tbody tr th:only-of-type {\n",
       "        vertical-align: middle;\n",
       "    }\n",
       "\n",
       "    .dataframe tbody tr th {\n",
       "        vertical-align: top;\n",
       "    }\n",
       "\n",
       "    .dataframe thead th {\n",
       "        text-align: right;\n",
       "    }\n",
       "</style>\n",
       "<table border=\"1\" class=\"dataframe\">\n",
       "  <thead>\n",
       "    <tr style=\"text-align: right;\">\n",
       "      <th></th>\n",
       "      <th>mean_fit_time</th>\n",
       "      <th>std_fit_time</th>\n",
       "      <th>mean_score_time</th>\n",
       "      <th>std_score_time</th>\n",
       "      <th>param_max_depth</th>\n",
       "      <th>param_max_features</th>\n",
       "      <th>param_min_samples_leaf</th>\n",
       "      <th>param_min_samples_split</th>\n",
       "      <th>param_n_estimators</th>\n",
       "      <th>params</th>\n",
       "      <th>...</th>\n",
       "      <th>mean_test_score</th>\n",
       "      <th>std_test_score</th>\n",
       "      <th>rank_test_score</th>\n",
       "      <th>split0_train_score</th>\n",
       "      <th>split1_train_score</th>\n",
       "      <th>split2_train_score</th>\n",
       "      <th>split3_train_score</th>\n",
       "      <th>split4_train_score</th>\n",
       "      <th>mean_train_score</th>\n",
       "      <th>std_train_score</th>\n",
       "    </tr>\n",
       "  </thead>\n",
       "  <tbody>\n",
       "    <tr>\n",
       "      <th>0</th>\n",
       "      <td>0.248124</td>\n",
       "      <td>0.002917</td>\n",
       "      <td>0.015525</td>\n",
       "      <td>0.000517</td>\n",
       "      <td>8</td>\n",
       "      <td>sqrt</td>\n",
       "      <td>1</td>\n",
       "      <td>2</td>\n",
       "      <td>15</td>\n",
       "      <td>{'max_depth': 8, 'max_features': 'sqrt', 'min_...</td>\n",
       "      <td>...</td>\n",
       "      <td>0.930352</td>\n",
       "      <td>0.003342</td>\n",
       "      <td>10</td>\n",
       "      <td>0.953853</td>\n",
       "      <td>0.951554</td>\n",
       "      <td>0.952506</td>\n",
       "      <td>0.949968</td>\n",
       "      <td>0.948065</td>\n",
       "      <td>0.951189</td>\n",
       "      <td>0.002011</td>\n",
       "    </tr>\n",
       "    <tr>\n",
       "      <th>1</th>\n",
       "      <td>0.331274</td>\n",
       "      <td>0.002982</td>\n",
       "      <td>0.020289</td>\n",
       "      <td>0.001729</td>\n",
       "      <td>8</td>\n",
       "      <td>sqrt</td>\n",
       "      <td>1</td>\n",
       "      <td>2</td>\n",
       "      <td>20</td>\n",
       "      <td>{'max_depth': 8, 'max_features': 'sqrt', 'min_...</td>\n",
       "      <td>...</td>\n",
       "      <td>0.932826</td>\n",
       "      <td>0.003353</td>\n",
       "      <td>8</td>\n",
       "      <td>0.952902</td>\n",
       "      <td>0.953219</td>\n",
       "      <td>0.952347</td>\n",
       "      <td>0.950603</td>\n",
       "      <td>0.952268</td>\n",
       "      <td>0.952268</td>\n",
       "      <td>0.000904</td>\n",
       "    </tr>\n",
       "    <tr>\n",
       "      <th>2</th>\n",
       "      <td>0.482410</td>\n",
       "      <td>0.004015</td>\n",
       "      <td>0.026419</td>\n",
       "      <td>0.000230</td>\n",
       "      <td>8</td>\n",
       "      <td>sqrt</td>\n",
       "      <td>1</td>\n",
       "      <td>2</td>\n",
       "      <td>30</td>\n",
       "      <td>{'max_depth': 8, 'max_features': 'sqrt', 'min_...</td>\n",
       "      <td>...</td>\n",
       "      <td>0.937520</td>\n",
       "      <td>0.003055</td>\n",
       "      <td>4</td>\n",
       "      <td>0.956787</td>\n",
       "      <td>0.958135</td>\n",
       "      <td>0.956787</td>\n",
       "      <td>0.955756</td>\n",
       "      <td>0.956946</td>\n",
       "      <td>0.956882</td>\n",
       "      <td>0.000756</td>\n",
       "    </tr>\n",
       "    <tr>\n",
       "      <th>3</th>\n",
       "      <td>0.247146</td>\n",
       "      <td>0.004733</td>\n",
       "      <td>0.015402</td>\n",
       "      <td>0.000658</td>\n",
       "      <td>8</td>\n",
       "      <td>sqrt</td>\n",
       "      <td>1</td>\n",
       "      <td>4</td>\n",
       "      <td>15</td>\n",
       "      <td>{'max_depth': 8, 'max_features': 'sqrt', 'min_...</td>\n",
       "      <td>...</td>\n",
       "      <td>0.931684</td>\n",
       "      <td>0.005005</td>\n",
       "      <td>9</td>\n",
       "      <td>0.954964</td>\n",
       "      <td>0.949017</td>\n",
       "      <td>0.951475</td>\n",
       "      <td>0.950603</td>\n",
       "      <td>0.952347</td>\n",
       "      <td>0.951681</td>\n",
       "      <td>0.001976</td>\n",
       "    </tr>\n",
       "    <tr>\n",
       "      <th>4</th>\n",
       "      <td>0.322590</td>\n",
       "      <td>0.003278</td>\n",
       "      <td>0.018261</td>\n",
       "      <td>0.001287</td>\n",
       "      <td>8</td>\n",
       "      <td>sqrt</td>\n",
       "      <td>1</td>\n",
       "      <td>4</td>\n",
       "      <td>20</td>\n",
       "      <td>{'max_depth': 8, 'max_features': 'sqrt', 'min_...</td>\n",
       "      <td>...</td>\n",
       "      <td>0.934475</td>\n",
       "      <td>0.004456</td>\n",
       "      <td>5</td>\n",
       "      <td>0.956074</td>\n",
       "      <td>0.953774</td>\n",
       "      <td>0.951158</td>\n",
       "      <td>0.951237</td>\n",
       "      <td>0.955598</td>\n",
       "      <td>0.953568</td>\n",
       "      <td>0.002083</td>\n",
       "    </tr>\n",
       "    <tr>\n",
       "      <th>5</th>\n",
       "      <td>0.482213</td>\n",
       "      <td>0.006359</td>\n",
       "      <td>0.026750</td>\n",
       "      <td>0.001330</td>\n",
       "      <td>8</td>\n",
       "      <td>sqrt</td>\n",
       "      <td>1</td>\n",
       "      <td>4</td>\n",
       "      <td>30</td>\n",
       "      <td>{'max_depth': 8, 'max_features': 'sqrt', 'min_...</td>\n",
       "      <td>...</td>\n",
       "      <td>0.938091</td>\n",
       "      <td>0.003436</td>\n",
       "      <td>3</td>\n",
       "      <td>0.956311</td>\n",
       "      <td>0.956629</td>\n",
       "      <td>0.957104</td>\n",
       "      <td>0.955598</td>\n",
       "      <td>0.956629</td>\n",
       "      <td>0.956454</td>\n",
       "      <td>0.000497</td>\n",
       "    </tr>\n",
       "    <tr>\n",
       "      <th>6</th>\n",
       "      <td>0.244699</td>\n",
       "      <td>0.002831</td>\n",
       "      <td>0.016032</td>\n",
       "      <td>0.000572</td>\n",
       "      <td>8</td>\n",
       "      <td>sqrt</td>\n",
       "      <td>2</td>\n",
       "      <td>2</td>\n",
       "      <td>15</td>\n",
       "      <td>{'max_depth': 8, 'max_features': 'sqrt', 'min_...</td>\n",
       "      <td>...</td>\n",
       "      <td>0.929908</td>\n",
       "      <td>0.002036</td>\n",
       "      <td>11</td>\n",
       "      <td>0.950761</td>\n",
       "      <td>0.948224</td>\n",
       "      <td>0.950523</td>\n",
       "      <td>0.951633</td>\n",
       "      <td>0.952426</td>\n",
       "      <td>0.950714</td>\n",
       "      <td>0.001415</td>\n",
       "    </tr>\n",
       "    <tr>\n",
       "      <th>7</th>\n",
       "      <td>0.329274</td>\n",
       "      <td>0.002686</td>\n",
       "      <td>0.019362</td>\n",
       "      <td>0.000875</td>\n",
       "      <td>8</td>\n",
       "      <td>sqrt</td>\n",
       "      <td>2</td>\n",
       "      <td>2</td>\n",
       "      <td>20</td>\n",
       "      <td>{'max_depth': 8, 'max_features': 'sqrt', 'min_...</td>\n",
       "      <td>...</td>\n",
       "      <td>0.934158</td>\n",
       "      <td>0.004089</td>\n",
       "      <td>6</td>\n",
       "      <td>0.953061</td>\n",
       "      <td>0.954329</td>\n",
       "      <td>0.952664</td>\n",
       "      <td>0.952030</td>\n",
       "      <td>0.953933</td>\n",
       "      <td>0.953203</td>\n",
       "      <td>0.000835</td>\n",
       "    </tr>\n",
       "    <tr>\n",
       "      <th>8</th>\n",
       "      <td>0.471692</td>\n",
       "      <td>0.005947</td>\n",
       "      <td>0.026266</td>\n",
       "      <td>0.000476</td>\n",
       "      <td>8</td>\n",
       "      <td>sqrt</td>\n",
       "      <td>2</td>\n",
       "      <td>2</td>\n",
       "      <td>30</td>\n",
       "      <td>{'max_depth': 8, 'max_features': 'sqrt', 'min_...</td>\n",
       "      <td>...</td>\n",
       "      <td>0.939486</td>\n",
       "      <td>0.003596</td>\n",
       "      <td>1</td>\n",
       "      <td>0.956232</td>\n",
       "      <td>0.955994</td>\n",
       "      <td>0.957580</td>\n",
       "      <td>0.956549</td>\n",
       "      <td>0.956787</td>\n",
       "      <td>0.956629</td>\n",
       "      <td>0.000547</td>\n",
       "    </tr>\n",
       "    <tr>\n",
       "      <th>9</th>\n",
       "      <td>0.241628</td>\n",
       "      <td>0.002307</td>\n",
       "      <td>0.015070</td>\n",
       "      <td>0.000954</td>\n",
       "      <td>8</td>\n",
       "      <td>sqrt</td>\n",
       "      <td>2</td>\n",
       "      <td>4</td>\n",
       "      <td>15</td>\n",
       "      <td>{'max_depth': 8, 'max_features': 'sqrt', 'min_...</td>\n",
       "      <td>...</td>\n",
       "      <td>0.929908</td>\n",
       "      <td>0.002036</td>\n",
       "      <td>11</td>\n",
       "      <td>0.950761</td>\n",
       "      <td>0.948224</td>\n",
       "      <td>0.950523</td>\n",
       "      <td>0.951633</td>\n",
       "      <td>0.952426</td>\n",
       "      <td>0.950714</td>\n",
       "      <td>0.001415</td>\n",
       "    </tr>\n",
       "    <tr>\n",
       "      <th>10</th>\n",
       "      <td>0.319129</td>\n",
       "      <td>0.003356</td>\n",
       "      <td>0.018685</td>\n",
       "      <td>0.000725</td>\n",
       "      <td>8</td>\n",
       "      <td>sqrt</td>\n",
       "      <td>2</td>\n",
       "      <td>4</td>\n",
       "      <td>20</td>\n",
       "      <td>{'max_depth': 8, 'max_features': 'sqrt', 'min_...</td>\n",
       "      <td>...</td>\n",
       "      <td>0.934158</td>\n",
       "      <td>0.004089</td>\n",
       "      <td>6</td>\n",
       "      <td>0.953061</td>\n",
       "      <td>0.954329</td>\n",
       "      <td>0.952664</td>\n",
       "      <td>0.952030</td>\n",
       "      <td>0.953933</td>\n",
       "      <td>0.953203</td>\n",
       "      <td>0.000835</td>\n",
       "    </tr>\n",
       "    <tr>\n",
       "      <th>11</th>\n",
       "      <td>0.441989</td>\n",
       "      <td>0.018247</td>\n",
       "      <td>0.018233</td>\n",
       "      <td>0.000493</td>\n",
       "      <td>8</td>\n",
       "      <td>sqrt</td>\n",
       "      <td>2</td>\n",
       "      <td>4</td>\n",
       "      <td>30</td>\n",
       "      <td>{'max_depth': 8, 'max_features': 'sqrt', 'min_...</td>\n",
       "      <td>...</td>\n",
       "      <td>0.939486</td>\n",
       "      <td>0.003596</td>\n",
       "      <td>1</td>\n",
       "      <td>0.956232</td>\n",
       "      <td>0.955994</td>\n",
       "      <td>0.957580</td>\n",
       "      <td>0.956549</td>\n",
       "      <td>0.956787</td>\n",
       "      <td>0.956629</td>\n",
       "      <td>0.000547</td>\n",
       "    </tr>\n",
       "  </tbody>\n",
       "</table>\n",
       "<p>12 rows × 25 columns</p>\n",
       "</div>"
      ],
      "text/plain": [
       "    mean_fit_time  std_fit_time  mean_score_time  std_score_time  \\\n",
       "0        0.248124      0.002917         0.015525        0.000517   \n",
       "1        0.331274      0.002982         0.020289        0.001729   \n",
       "2        0.482410      0.004015         0.026419        0.000230   \n",
       "3        0.247146      0.004733         0.015402        0.000658   \n",
       "4        0.322590      0.003278         0.018261        0.001287   \n",
       "5        0.482213      0.006359         0.026750        0.001330   \n",
       "6        0.244699      0.002831         0.016032        0.000572   \n",
       "7        0.329274      0.002686         0.019362        0.000875   \n",
       "8        0.471692      0.005947         0.026266        0.000476   \n",
       "9        0.241628      0.002307         0.015070        0.000954   \n",
       "10       0.319129      0.003356         0.018685        0.000725   \n",
       "11       0.441989      0.018247         0.018233        0.000493   \n",
       "\n",
       "   param_max_depth param_max_features param_min_samples_leaf  \\\n",
       "0                8               sqrt                      1   \n",
       "1                8               sqrt                      1   \n",
       "2                8               sqrt                      1   \n",
       "3                8               sqrt                      1   \n",
       "4                8               sqrt                      1   \n",
       "5                8               sqrt                      1   \n",
       "6                8               sqrt                      2   \n",
       "7                8               sqrt                      2   \n",
       "8                8               sqrt                      2   \n",
       "9                8               sqrt                      2   \n",
       "10               8               sqrt                      2   \n",
       "11               8               sqrt                      2   \n",
       "\n",
       "   param_min_samples_split param_n_estimators  \\\n",
       "0                        2                 15   \n",
       "1                        2                 20   \n",
       "2                        2                 30   \n",
       "3                        4                 15   \n",
       "4                        4                 20   \n",
       "5                        4                 30   \n",
       "6                        2                 15   \n",
       "7                        2                 20   \n",
       "8                        2                 30   \n",
       "9                        4                 15   \n",
       "10                       4                 20   \n",
       "11                       4                 30   \n",
       "\n",
       "                                               params  ...  mean_test_score  \\\n",
       "0   {'max_depth': 8, 'max_features': 'sqrt', 'min_...  ...         0.930352   \n",
       "1   {'max_depth': 8, 'max_features': 'sqrt', 'min_...  ...         0.932826   \n",
       "2   {'max_depth': 8, 'max_features': 'sqrt', 'min_...  ...         0.937520   \n",
       "3   {'max_depth': 8, 'max_features': 'sqrt', 'min_...  ...         0.931684   \n",
       "4   {'max_depth': 8, 'max_features': 'sqrt', 'min_...  ...         0.934475   \n",
       "5   {'max_depth': 8, 'max_features': 'sqrt', 'min_...  ...         0.938091   \n",
       "6   {'max_depth': 8, 'max_features': 'sqrt', 'min_...  ...         0.929908   \n",
       "7   {'max_depth': 8, 'max_features': 'sqrt', 'min_...  ...         0.934158   \n",
       "8   {'max_depth': 8, 'max_features': 'sqrt', 'min_...  ...         0.939486   \n",
       "9   {'max_depth': 8, 'max_features': 'sqrt', 'min_...  ...         0.929908   \n",
       "10  {'max_depth': 8, 'max_features': 'sqrt', 'min_...  ...         0.934158   \n",
       "11  {'max_depth': 8, 'max_features': 'sqrt', 'min_...  ...         0.939486   \n",
       "\n",
       "    std_test_score  rank_test_score  split0_train_score  split1_train_score  \\\n",
       "0         0.003342               10            0.953853            0.951554   \n",
       "1         0.003353                8            0.952902            0.953219   \n",
       "2         0.003055                4            0.956787            0.958135   \n",
       "3         0.005005                9            0.954964            0.949017   \n",
       "4         0.004456                5            0.956074            0.953774   \n",
       "5         0.003436                3            0.956311            0.956629   \n",
       "6         0.002036               11            0.950761            0.948224   \n",
       "7         0.004089                6            0.953061            0.954329   \n",
       "8         0.003596                1            0.956232            0.955994   \n",
       "9         0.002036               11            0.950761            0.948224   \n",
       "10        0.004089                6            0.953061            0.954329   \n",
       "11        0.003596                1            0.956232            0.955994   \n",
       "\n",
       "    split2_train_score  split3_train_score  split4_train_score  \\\n",
       "0             0.952506            0.949968            0.948065   \n",
       "1             0.952347            0.950603            0.952268   \n",
       "2             0.956787            0.955756            0.956946   \n",
       "3             0.951475            0.950603            0.952347   \n",
       "4             0.951158            0.951237            0.955598   \n",
       "5             0.957104            0.955598            0.956629   \n",
       "6             0.950523            0.951633            0.952426   \n",
       "7             0.952664            0.952030            0.953933   \n",
       "8             0.957580            0.956549            0.956787   \n",
       "9             0.950523            0.951633            0.952426   \n",
       "10            0.952664            0.952030            0.953933   \n",
       "11            0.957580            0.956549            0.956787   \n",
       "\n",
       "    mean_train_score  std_train_score  \n",
       "0           0.951189         0.002011  \n",
       "1           0.952268         0.000904  \n",
       "2           0.956882         0.000756  \n",
       "3           0.951681         0.001976  \n",
       "4           0.953568         0.002083  \n",
       "5           0.956454         0.000497  \n",
       "6           0.950714         0.001415  \n",
       "7           0.953203         0.000835  \n",
       "8           0.956629         0.000547  \n",
       "9           0.950714         0.001415  \n",
       "10          0.953203         0.000835  \n",
       "11          0.956629         0.000547  \n",
       "\n",
       "[12 rows x 25 columns]"
      ]
     },
     "execution_count": 109,
     "metadata": {},
     "output_type": "execute_result"
    }
   ],
   "source": [
    "pd.DataFrame(grid_search_depression.cv_results_)"
   ]
  },
  {
   "cell_type": "code",
   "execution_count": 110,
   "id": "de7d1dce",
   "metadata": {},
   "outputs": [
    {
     "name": "stdout",
     "output_type": "stream",
     "text": [
      "0.937836980653346\n"
     ]
    }
   ],
   "source": [
    "# Checking the result with cross validation.\n",
    "\n",
    "clf = RandomForestClassifier(random_state=0, max_depth=8, \n",
    "                             min_samples_leaf=1, min_samples_split=4, n_estimators=30, bootstrap=True, oob_score=True)\n",
    "cross_val_scores_dep = cross_val_score(clf, X_train_dep_bal, y_train_dep_bal, cv=5)\n",
    "print(np.mean(cross_val_scores_dep))"
   ]
  },
  {
   "cell_type": "markdown",
   "id": "e65af40b",
   "metadata": {},
   "source": [
    "#### Principal Component Analysis"
   ]
  },
  {
   "cell_type": "code",
   "execution_count": 111,
   "id": "e86d4f1e",
   "metadata": {},
   "outputs": [],
   "source": [
    "# Setting the nr of components.\n",
    "\n",
    "pca_dep = PCA(n_components=18)\n",
    "pca_dep_fit = pca_dep.fit(X_dep_bal_train_scaled)"
   ]
  },
  {
   "cell_type": "code",
   "execution_count": 112,
   "id": "34ba6b79",
   "metadata": {},
   "outputs": [
    {
     "data": {
      "image/png": "[encoded data removed]",
      "text/plain": [
       "<Figure size 432x288 with 1 Axes>"
      ]
     },
     "metadata": {
      "needs_background": "light"
     },
     "output_type": "display_data"
    }
   ],
   "source": [
    "# Plot, where I can see how much each of the seven components contributes.\n",
    "\n",
    "PC_values_dep = np.arange(pca_dep.n_components_) + 1\n",
    "plt.plot(PC_values_dep, pca_dep.explained_variance_ratio_, 'o-', linewidth=2, color='purple')\n",
    "plt.title('PCA Depression')\n",
    "plt.xlabel('Principal Component')\n",
    "plt.ylabel('Variance Explained')\n",
    "plt.show()"
   ]
  },
  {
   "cell_type": "code",
   "execution_count": 113,
   "id": "0f9d9ec9",
   "metadata": {},
   "outputs": [
    {
     "name": "stdout",
     "output_type": "stream",
     "text": [
      "[0.32436034 0.07402852 0.05989695 0.04566499 0.03673877 0.03436585\n",
      " 0.03242109 0.03081973 0.02981389 0.02711429 0.02507693 0.02399441\n",
      " 0.02258614 0.0213913  0.02020276 0.01830114 0.01707206 0.01601597]\n"
     ]
    }
   ],
   "source": [
    "# To get the variance value for each principal component.\n",
    "\n",
    "print(pca_dep.explained_variance_ratio_)"
   ]
  },
  {
   "cell_type": "code",
   "execution_count": 114,
   "id": "dfb3f741",
   "metadata": {},
   "outputs": [],
   "source": [
    "# Another way\n",
    "\n",
    "std_scaler = StandardScaler()\n",
    "X_pca_scaled = std_scaler.fit_transform(X_dep_bal)"
   ]
  },
  {
   "cell_type": "code",
   "execution_count": 115,
   "id": "b04ed6d3",
   "metadata": {},
   "outputs": [],
   "source": [
    "X_train_pca, X_test_pca, y_train_pca, y_test_pca = train_test_split(X_pca_scaled, y_dep_bal, test_size = 0.20, random_state = 123)"
   ]
  },
  {
   "cell_type": "code",
   "execution_count": 116,
   "id": "4430008c",
   "metadata": {},
   "outputs": [],
   "source": [
    "# Set the variance %.\n",
    "# Leave 95% of information.\n",
    "pca_depr = PCA(.85)"
   ]
  },
  {
   "cell_type": "code",
   "execution_count": 117,
   "id": "e46caed9",
   "metadata": {},
   "outputs": [],
   "source": [
    "# Fit the training set.\n",
    "\n",
    "X_pca_fitted = pca_depr.fit_transform(X_train_pca)"
   ]
  },
  {
   "cell_type": "code",
   "execution_count": 118,
   "id": "4b5a6159",
   "metadata": {},
   "outputs": [
    {
     "data": {
      "text/plain": [
       "(15765, 18)"
      ]
     },
     "execution_count": 118,
     "metadata": {},
     "output_type": "execute_result"
    }
   ],
   "source": [
    "# How many principal components to get 95% variance?\n",
    "\n",
    "X_pca_fitted.shape"
   ]
  },
  {
   "cell_type": "code",
   "execution_count": 119,
   "id": "154685f4",
   "metadata": {},
   "outputs": [
    {
     "data": {
      "text/plain": [
       "array([0.32533854, 0.07375218, 0.05986088, 0.04556402, 0.03651271,\n",
       "       0.03427003, 0.03241392, 0.0306707 , 0.02976035, 0.02706112,\n",
       "       0.02505729, 0.02394832, 0.02261803, 0.02127264, 0.02013028,\n",
       "       0.01823315, 0.01710814, 0.01610685])"
      ]
     },
     "execution_count": 119,
     "metadata": {},
     "output_type": "execute_result"
    }
   ],
   "source": [
    "pca_depr.explained_variance_ratio_"
   ]
  },
  {
   "cell_type": "code",
   "execution_count": 120,
   "id": "2a93618b",
   "metadata": {},
   "outputs": [],
   "source": [
    "# Model\n",
    "\n",
    "X_train_pca_, X_test_pca_, y_train_pca_, y_test_pca_ = train_test_split(X_pca_fitted, y_train_pca, test_size = 0.20, random_state = 123)"
   ]
  },
  {
   "cell_type": "code",
   "execution_count": 121,
   "id": "d91c2cca",
   "metadata": {},
   "outputs": [
    {
     "name": "stderr",
     "output_type": "stream",
     "text": [
      "/Users/miumiu/opt/anaconda3/envs/DA_ENV/lib/python3.10/site-packages/sklearn/ensemble/_forest.py:560: UserWarning: Some inputs do not have OOB scores. This probably means too few trees were used to compute any reliable OOB estimates.\n",
      "  warn(\n"
     ]
    },
    {
     "data": {
      "text/plain": [
       "0.9249112125824455"
      ]
     },
     "execution_count": 121,
     "metadata": {},
     "output_type": "execute_result"
    }
   ],
   "source": [
    "model = RandomForestClassifier(max_depth=8, n_estimators=30, random_state=77, bootstrap=True, oob_score=True)\n",
    "model.fit(X_train_pca, y_train_pca)\n",
    "model.score(X_test_pca, y_test_pca)"
   ]
  },
  {
   "cell_type": "code",
   "execution_count": 122,
   "id": "b3d602e2",
   "metadata": {},
   "outputs": [],
   "source": [
    "### Another way\n",
    "\n",
    "pca = PCA() # create a PCA object\n",
    "pca.fit(X_train_pca) # do the math\n",
    "pca_data = pca.transform(X_train_pca) # get PCA coordinates for scaled_data"
   ]
  },
  {
   "cell_type": "code",
   "execution_count": 123,
   "id": "6d0a8b88",
   "metadata": {},
   "outputs": [
    {
     "data": {
      "image/png": "[encoded data removed]",
      "text/plain": [
       "<Figure size 432x288 with 1 Axes>"
      ]
     },
     "metadata": {
      "needs_background": "light"
     },
     "output_type": "display_data"
    }
   ],
   "source": [
    "#The following code constructs the Scree plot\n",
    "per_var = np.round(pca.explained_variance_ratio_* 100, decimals=1)\n",
    "labels = ['PC' + str(x) for x in range(1, len(per_var)+1)]\n",
    " \n",
    "plt.bar(x=range(1,len(per_var)+1), height=per_var, tick_label=labels)\n",
    "plt.ylabel('Percentage of Explained Variance')\n",
    "plt.xlabel('Principal Component')\n",
    "plt.title('Scree Plot')\n",
    "plt.show()"
   ]
  },
  {
   "cell_type": "markdown",
   "id": "026771bc",
   "metadata": {},
   "source": [
    "#### Feature importance"
   ]
  },
  {
   "cell_type": "code",
   "execution_count": 124,
   "id": "2fdce3f0",
   "metadata": {},
   "outputs": [],
   "source": [
    "feature_names_depression = X_train_dep_bal.columns\n",
    "feature_names_depression = list(feature_names_depression)"
   ]
  },
  {
   "cell_type": "code",
   "execution_count": 125,
   "id": "b76fff4d",
   "metadata": {},
   "outputs": [
    {
     "data": {
      "text/plain": [
       "RandomForestClassifier(max_depth=8, min_samples_split=4, n_estimators=30,\n",
       "                       oob_score=True, random_state=0)"
      ]
     },
     "execution_count": 125,
     "metadata": {},
     "output_type": "execute_result"
    }
   ],
   "source": [
    "clf.fit(X_train_dep_bal, y_train_dep_bal)"
   ]
  },
  {
   "cell_type": "code",
   "execution_count": 126,
   "id": "7c883b05",
   "metadata": {},
   "outputs": [
    {
     "data": {
      "text/html": [
       "<div>\n",
       "<style scoped>\n",
       "    .dataframe tbody tr th:only-of-type {\n",
       "        vertical-align: middle;\n",
       "    }\n",
       "\n",
       "    .dataframe tbody tr th {\n",
       "        vertical-align: top;\n",
       "    }\n",
       "\n",
       "    .dataframe thead th {\n",
       "        text-align: right;\n",
       "    }\n",
       "</style>\n",
       "<table border=\"1\" class=\"dataframe\">\n",
       "  <thead>\n",
       "    <tr style=\"text-align: right;\">\n",
       "      <th></th>\n",
       "      <th>columns_name</th>\n",
       "      <th>score_feature_importance</th>\n",
       "    </tr>\n",
       "  </thead>\n",
       "  <tbody>\n",
       "    <tr>\n",
       "      <th>3</th>\n",
       "      <td>Q13A</td>\n",
       "      <td>0.152252</td>\n",
       "    </tr>\n",
       "    <tr>\n",
       "      <th>2</th>\n",
       "      <td>Q10A</td>\n",
       "      <td>0.113168</td>\n",
       "    </tr>\n",
       "    <tr>\n",
       "      <th>6</th>\n",
       "      <td>Q21A</td>\n",
       "      <td>0.104052</td>\n",
       "    </tr>\n",
       "    <tr>\n",
       "      <th>5</th>\n",
       "      <td>Q17A</td>\n",
       "      <td>0.087302</td>\n",
       "    </tr>\n",
       "    <tr>\n",
       "      <th>7</th>\n",
       "      <td>Q24A</td>\n",
       "      <td>0.068970</td>\n",
       "    </tr>\n",
       "    <tr>\n",
       "      <th>10</th>\n",
       "      <td>Q34A</td>\n",
       "      <td>0.065768</td>\n",
       "    </tr>\n",
       "    <tr>\n",
       "      <th>4</th>\n",
       "      <td>Q16A</td>\n",
       "      <td>0.063112</td>\n",
       "    </tr>\n",
       "    <tr>\n",
       "      <th>8</th>\n",
       "      <td>Q26A</td>\n",
       "      <td>0.057601</td>\n",
       "    </tr>\n",
       "    <tr>\n",
       "      <th>12</th>\n",
       "      <td>Q38A</td>\n",
       "      <td>0.057195</td>\n",
       "    </tr>\n",
       "    <tr>\n",
       "      <th>1</th>\n",
       "      <td>Q5A</td>\n",
       "      <td>0.042072</td>\n",
       "    </tr>\n",
       "    <tr>\n",
       "      <th>9</th>\n",
       "      <td>Q31A</td>\n",
       "      <td>0.040815</td>\n",
       "    </tr>\n",
       "    <tr>\n",
       "      <th>0</th>\n",
       "      <td>Q3A</td>\n",
       "      <td>0.039053</td>\n",
       "    </tr>\n",
       "    <tr>\n",
       "      <th>11</th>\n",
       "      <td>Q37A</td>\n",
       "      <td>0.036956</td>\n",
       "    </tr>\n",
       "    <tr>\n",
       "      <th>13</th>\n",
       "      <td>Q42A</td>\n",
       "      <td>0.034497</td>\n",
       "    </tr>\n",
       "    <tr>\n",
       "      <th>29</th>\n",
       "      <td>emotional_stability</td>\n",
       "      <td>0.010045</td>\n",
       "    </tr>\n",
       "    <tr>\n",
       "      <th>28</th>\n",
       "      <td>conscientiousness</td>\n",
       "      <td>0.004897</td>\n",
       "    </tr>\n",
       "    <tr>\n",
       "      <th>25</th>\n",
       "      <td>severeness_level_anxiety</td>\n",
       "      <td>0.004200</td>\n",
       "    </tr>\n",
       "    <tr>\n",
       "      <th>18</th>\n",
       "      <td>age</td>\n",
       "      <td>0.002904</td>\n",
       "    </tr>\n",
       "    <tr>\n",
       "      <th>26</th>\n",
       "      <td>extraversion</td>\n",
       "      <td>0.002897</td>\n",
       "    </tr>\n",
       "    <tr>\n",
       "      <th>30</th>\n",
       "      <td>openness_to_experiences</td>\n",
       "      <td>0.001963</td>\n",
       "    </tr>\n",
       "    <tr>\n",
       "      <th>27</th>\n",
       "      <td>agreeableness</td>\n",
       "      <td>0.001924</td>\n",
       "    </tr>\n",
       "    <tr>\n",
       "      <th>24</th>\n",
       "      <td>familysize</td>\n",
       "      <td>0.001665</td>\n",
       "    </tr>\n",
       "    <tr>\n",
       "      <th>21</th>\n",
       "      <td>orientation</td>\n",
       "      <td>0.001224</td>\n",
       "    </tr>\n",
       "    <tr>\n",
       "      <th>20</th>\n",
       "      <td>religion</td>\n",
       "      <td>0.001130</td>\n",
       "    </tr>\n",
       "    <tr>\n",
       "      <th>15</th>\n",
       "      <td>urban</td>\n",
       "      <td>0.000959</td>\n",
       "    </tr>\n",
       "    <tr>\n",
       "      <th>14</th>\n",
       "      <td>education</td>\n",
       "      <td>0.000876</td>\n",
       "    </tr>\n",
       "    <tr>\n",
       "      <th>22</th>\n",
       "      <td>race</td>\n",
       "      <td>0.000770</td>\n",
       "    </tr>\n",
       "    <tr>\n",
       "      <th>19</th>\n",
       "      <td>hand</td>\n",
       "      <td>0.000529</td>\n",
       "    </tr>\n",
       "    <tr>\n",
       "      <th>23</th>\n",
       "      <td>voted</td>\n",
       "      <td>0.000504</td>\n",
       "    </tr>\n",
       "    <tr>\n",
       "      <th>16</th>\n",
       "      <td>gender</td>\n",
       "      <td>0.000426</td>\n",
       "    </tr>\n",
       "    <tr>\n",
       "      <th>17</th>\n",
       "      <td>engnat</td>\n",
       "      <td>0.000274</td>\n",
       "    </tr>\n",
       "  </tbody>\n",
       "</table>\n",
       "</div>"
      ],
      "text/plain": [
       "                columns_name  score_feature_importance\n",
       "3                       Q13A                  0.152252\n",
       "2                       Q10A                  0.113168\n",
       "6                       Q21A                  0.104052\n",
       "5                       Q17A                  0.087302\n",
       "7                       Q24A                  0.068970\n",
       "10                      Q34A                  0.065768\n",
       "4                       Q16A                  0.063112\n",
       "8                       Q26A                  0.057601\n",
       "12                      Q38A                  0.057195\n",
       "1                        Q5A                  0.042072\n",
       "9                       Q31A                  0.040815\n",
       "0                        Q3A                  0.039053\n",
       "11                      Q37A                  0.036956\n",
       "13                      Q42A                  0.034497\n",
       "29       emotional_stability                  0.010045\n",
       "28         conscientiousness                  0.004897\n",
       "25  severeness_level_anxiety                  0.004200\n",
       "18                       age                  0.002904\n",
       "26              extraversion                  0.002897\n",
       "30   openness_to_experiences                  0.001963\n",
       "27             agreeableness                  0.001924\n",
       "24                familysize                  0.001665\n",
       "21               orientation                  0.001224\n",
       "20                  religion                  0.001130\n",
       "15                     urban                  0.000959\n",
       "14                 education                  0.000876\n",
       "22                      race                  0.000770\n",
       "19                      hand                  0.000529\n",
       "23                     voted                  0.000504\n",
       "16                    gender                  0.000426\n",
       "17                    engnat                  0.000274"
      ]
     },
     "execution_count": 126,
     "metadata": {},
     "output_type": "execute_result"
    }
   ],
   "source": [
    "depression_feature_df = pd.DataFrame(list(zip(feature_names_depression, clf.feature_importances_)))\n",
    "depression_feature_df.columns = ['columns_name', 'score_feature_importance']\n",
    "depression_feature_df.sort_values(by=['score_feature_importance'], ascending = False)"
   ]
  },
  {
   "cell_type": "markdown",
   "id": "147cf01d",
   "metadata": {},
   "source": [
    "#### Model with selected features"
   ]
  },
  {
   "cell_type": "code",
   "execution_count": 127,
   "id": "4ee5e3fb",
   "metadata": {},
   "outputs": [],
   "source": [
    "final_features_depression = depression_data_balanced[[\"Q13A\", \"Q21A\", \"Q10A\", \"Q17A\", \"Q34A\", \"Q24A\", \"Q16A\", \"Q5A\", \"Q26A\", \"Q31A\", \"Q3A\", \"Q38A\", \"Q37A\", \"Q42A\", \"emotional_stability\", \"severeness_level_anxiety\", \"conscientiousness\", \"extraversion\", \"age\"]]\n",
    "y_dep_bal = depression_data_balanced[\"severeness_level_depression\"]"
   ]
  },
  {
   "cell_type": "code",
   "execution_count": 128,
   "id": "7426c90f",
   "metadata": {},
   "outputs": [],
   "source": [
    "X_train_dep_f, X_test_dep_f, y_train_dep_f, y_test_dep_f = train_test_split(final_features_depression, y_dep_bal, test_size = 0.20, random_state = 123)\n"
   ]
  },
  {
   "cell_type": "code",
   "execution_count": 129,
   "id": "1a9d0fc7",
   "metadata": {},
   "outputs": [
    {
     "data": {
      "text/plain": [
       "array([0.94005709, 0.93434824, 0.93434824, 0.93339676, 0.93371392])"
      ]
     },
     "execution_count": 129,
     "metadata": {},
     "output_type": "execute_result"
    }
   ],
   "source": [
    "# I choose random forest as this was the model so far. I will use the parameters from the grid search.\n",
    "\n",
    "clf = RandomForestClassifier(max_depth=8, n_estimators=30, random_state=0, bootstrap=True, oob_score=True)\n",
    "cross_val_scores_dep_f = cross_val_score(clf, X_train_dep_f, y_train_dep_f, cv=5)\n",
    "cross_val_scores_dep_f"
   ]
  },
  {
   "cell_type": "code",
   "execution_count": 130,
   "id": "2566c21b",
   "metadata": {},
   "outputs": [
    {
     "data": {
      "text/plain": [
       "0.9351728512527752"
      ]
     },
     "execution_count": 130,
     "metadata": {},
     "output_type": "execute_result"
    }
   ],
   "source": [
    "np.mean(cross_val_scores_dep_f)"
   ]
  },
  {
   "cell_type": "markdown",
   "id": "9b69e0d7",
   "metadata": {},
   "source": [
    "#### AUC/ROC curve - for future exploration"
   ]
  },
  {
   "cell_type": "code",
   "execution_count": 131,
   "id": "f102ca34",
   "metadata": {},
   "outputs": [],
   "source": [
    "# ROC AUC with random forest\n",
    "#X_train_dep_bal, X_test_dep_bal, y_train_dep_bal, y_test_dep_bal\n",
    "\n",
    "model_multiclass = RandomForestClassifier(n_estimators = 30, criterion = 'gini')"
   ]
  },
  {
   "cell_type": "code",
   "execution_count": 132,
   "id": "baa66afd",
   "metadata": {},
   "outputs": [
    {
     "data": {
      "text/plain": [
       "RandomForestClassifier(n_estimators=30)"
      ]
     },
     "execution_count": 132,
     "metadata": {},
     "output_type": "execute_result"
    }
   ],
   "source": [
    "model_multiclass.fit(X_train_dep_bal, y_train_dep_bal)"
   ]
  },
  {
   "cell_type": "code",
   "execution_count": 133,
   "id": "9a725b95",
   "metadata": {},
   "outputs": [],
   "source": [
    "y_pred = model_multiclass.predict(X_test_dep_bal)"
   ]
  },
  {
   "cell_type": "code",
   "execution_count": 134,
   "id": "f9c00b8e",
   "metadata": {},
   "outputs": [],
   "source": [
    "y_proba = model_multiclass.predict_proba(X_test_dep_bal)"
   ]
  },
  {
   "cell_type": "code",
   "execution_count": 135,
   "id": "30938ca4",
   "metadata": {},
   "outputs": [
    {
     "data": {
      "text/plain": [
       "array([1, 2, 3])"
      ]
     },
     "execution_count": 135,
     "metadata": {},
     "output_type": "execute_result"
    }
   ],
   "source": [
    "classes = model_multiclass.classes_\n",
    "classes"
   ]
  },
  {
   "cell_type": "code",
   "execution_count": 136,
   "id": "294ebe8f",
   "metadata": {},
   "outputs": [],
   "source": [
    "def get_all_roc_coordinates(y_real, y_proba):\n",
    "    '''\n",
    "    Calculates all the ROC Curve coordinates (tpr and fpr) by considering each point as a treshold for the predicion of the class.\n",
    "    \n",
    "    Args:\n",
    "        y_real: The list or series with the real classes.\n",
    "        y_proba: The array with the probabilities for each class, obtained by using the `.predict_proba()` method.\n",
    "        \n",
    "    Returns:\n",
    "        tpr_list: The list of TPRs representing each threshold.\n",
    "        fpr_list: The list of FPRs representing each threshold.\n",
    "    '''\n",
    "    tpr_list = [0]\n",
    "    fpr_list = [0]\n",
    "    for i in range(len(y_proba)):\n",
    "        threshold = y_proba[i]\n",
    "        y_pred = y_proba >= threshold\n",
    "        tpr, fpr = calculate_tpr_fpr(y_real, y_pred)\n",
    "        tpr_list.append(tpr)\n",
    "        fpr_list.append(fpr)\n",
    "    return tpr_list, fpr_list"
   ]
  },
  {
   "cell_type": "code",
   "execution_count": 137,
   "id": "e09bc29b",
   "metadata": {},
   "outputs": [],
   "source": [
    "def plot_roc_curve(tpr, fpr, scatter = True, ax = None):\n",
    "    '''\n",
    "    Plots the ROC Curve by using the list of coordinates (tpr and fpr).\n",
    "    \n",
    "    Args:\n",
    "        tpr: The list of TPRs representing each coordinate.\n",
    "        fpr: The list of FPRs representing each coordinate.\n",
    "        scatter: When True, the points used on the calculation will be plotted with the line (default = True).\n",
    "    '''\n",
    "    if ax == None:\n",
    "        plt.figure(figsize = (5, 5))\n",
    "        ax = plt.axes()\n",
    "    \n",
    "    if scatter:\n",
    "        sns.scatterplot(x = fpr, y = tpr, ax = ax)\n",
    "    sns.lineplot(x = fpr, y = tpr, ax = ax)\n",
    "    sns.lineplot(x = [0, 1], y = [0, 1], color = 'green', ax = ax)\n",
    "    plt.xlim(-0.05, 1.05)\n",
    "    plt.ylim(-0.05, 1.05)\n",
    "    plt.xlabel(\"False Positive Rate\")\n",
    "    plt.ylabel(\"True Positive Rate\")"
   ]
  },
  {
   "cell_type": "code",
   "execution_count": 138,
   "id": "26e9f312",
   "metadata": {},
   "outputs": [],
   "source": [
    "def calculate_tpr_fpr(y_real, y_pred):\n",
    "    '''\n",
    "    Calculates the True Positive Rate (tpr) and the True Negative Rate (fpr) based on real and predicted observations\n",
    "    \n",
    "    Args:\n",
    "        y_real: The list or series with the real classes\n",
    "        y_pred: The list or series with the predicted classes\n",
    "        \n",
    "    Returns:\n",
    "        tpr: The True Positive Rate of the classifier\n",
    "        fpr: The False Positive Rate of the classifier\n",
    "    '''\n",
    "    \n",
    "    # Calculates the confusion matrix and recover each element\n",
    "    cm = confusion_matrix(y_real, y_pred)\n",
    "    TN = cm[0, 0]\n",
    "    FP = cm[0, 1]\n",
    "    FN = cm[1, 0]\n",
    "    TP = cm[1, 1]\n",
    "    \n",
    "    # Calculates tpr and fpr\n",
    "    tpr =  TP/(TP + FN) # sensitivity - true positive rate\n",
    "    fpr = 1 - TN/(TN+FP) # 1-specificity - false positive rate\n",
    "    \n",
    "    return tpr, fpr"
   ]
  },
  {
   "cell_type": "code",
   "execution_count": 139,
   "id": "252c9a5d",
   "metadata": {},
   "outputs": [
    {
     "data": {
      "image/png": "[encoded data removed]",
      "text/plain": [
       "<Figure size 864x576 with 6 Axes>"
      ]
     },
     "metadata": {
      "needs_background": "light"
     },
     "output_type": "display_data"
    }
   ],
   "source": [
    "# Plots the Probability Distributions and the ROC Curves One vs Rest\n",
    "plt.figure(figsize = (12, 8))\n",
    "bins = [i/20 for i in range(20)] + [1]\n",
    "roc_auc_ovr = {}\n",
    "\n",
    "for i in range(len(classes)):\n",
    "    # Gets the class\n",
    "    c = classes[i]\n",
    "    \n",
    "    # Prepares an auxiliar dataframe to help with the plots\n",
    "    df_aux = X_test_dep_bal.copy()\n",
    "    df_aux['class'] = [1 if y == c else 0 for y in y_test_dep_bal]\n",
    "    df_aux['prob'] = y_proba[:, i]\n",
    "    df_aux = df_aux.reset_index(drop = True)\n",
    "    \n",
    "    # Plots the probability distribution for the class and the rest\n",
    "    ax = plt.subplot(2, 3, i+1)\n",
    "    sns.histplot(x = \"prob\", data = df_aux, hue = 'class', color = 'b', ax = ax, bins = bins)\n",
    "    ax.set_title(c)\n",
    "    ax.legend([f\"Class: {c}\", \"Rest\"])\n",
    "    ax.set_xlabel(f\"P(x = {c})\")\n",
    "    \n",
    "    # Calculates the ROC Coordinates and plots the ROC Curves\n",
    "    ax_bottom = plt.subplot(2, 3, i+4)\n",
    "    tpr, fpr = get_all_roc_coordinates(df_aux['class'], df_aux['prob'])\n",
    "    plot_roc_curve(tpr, fpr, scatter = False, ax = ax_bottom)\n",
    "    ax_bottom.set_title(\"ROC Curve OvR\")\n",
    "    \n",
    "    # Calculates the ROC AUC OvR\n",
    "    roc_auc_ovr[c] = roc_auc_score(df_aux['class'], df_aux['prob'])\n",
    "    \n",
    "plt.tight_layout()"
   ]
  },
  {
   "cell_type": "code",
   "execution_count": 140,
   "id": "f3ddf1c8",
   "metadata": {},
   "outputs": [
    {
     "name": "stdout",
     "output_type": "stream",
     "text": [
      "1 ROC AUC OvR: 0.9975\n",
      "2 ROC AUC OvR: 0.9892\n",
      "3 ROC AUC OvR: 0.9987\n",
      "average ROC AUC OvR: 0.9951\n"
     ]
    }
   ],
   "source": [
    "# Displays the ROC AUC for each class\n",
    "avg_roc_auc = 0\n",
    "i = 0\n",
    "for k in roc_auc_ovr:\n",
    "    avg_roc_auc += roc_auc_ovr[k]\n",
    "    i += 1\n",
    "    print(f\"{k} ROC AUC OvR: {roc_auc_ovr[k]:.4f}\")\n",
    "print(f\"average ROC AUC OvR: {avg_roc_auc/i:.4f}\")"
   ]
  },
  {
   "cell_type": "markdown",
   "id": "1b1715df",
   "metadata": {},
   "source": [
    "### Conclusion"
   ]
  },
  {
   "cell_type": "code",
   "execution_count": 141,
   "id": "6831ed76",
   "metadata": {},
   "outputs": [],
   "source": [
    "# Models perform better after balancing. \n",
    "# Logistic regression has too good performance.\n",
    "# The best model is random forest with cross validation after grid search - 0.929.\n",
    "# Random forest after selected features is as good - 0.933\n",
    "# Random forest with PCA ias as good - 0.931\n",
    "# I could even use smaller parameters for grid search?\n",
    "# Why logistic regression performs almost perfectly?\n",
    "\n",
    "\n",
    "# 3 most important features: Q13, Q21, Q10\n",
    "# Most important personality features: emotional stability, conscientiousness\n",
    "# Most important demographic: age\n",
    "\n",
    "# Q13: I felt sad and depressed.\n",
    "# Q21: I felt that life wasn't worthwhile.\n",
    "# Q10: I felt that I had nothing to look forward to."
   ]
  }
 ],
 "metadata": {
  "kernelspec": {
   "display_name": "Python 3 (ipykernel)",
   "language": "python",
   "name": "python3"
  },
  "language_info": {
   "codemirror_mode": {
    "name": "ipython",
    "version": 3
   },
   "file_extension": ".py",
   "mimetype": "text/x-python",
   "name": "python",
   "nbconvert_exporter": "python",
   "pygments_lexer": "ipython3",
   "version": "3.10.1"
  },
  "toc": {
   "base_numbering": 1,
   "nav_menu": {},
   "number_sections": true,
   "sideBar": true,
   "skip_h1_title": false,
   "title_cell": "Table of Contents",
   "title_sidebar": "Contents",
   "toc_cell": false,
   "toc_position": {
    "height": "calc(100% - 180px)",
    "left": "10px",
    "top": "150px",
    "width": "288px"
   },
   "toc_section_display": true,
   "toc_window_display": true
  }
 },
 "nbformat": 4,
 "nbformat_minor": 5
}
